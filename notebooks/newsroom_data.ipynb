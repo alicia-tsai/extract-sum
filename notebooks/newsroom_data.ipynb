{
 "cells": [
  {
   "cell_type": "code",
   "execution_count": 1,
   "metadata": {},
   "outputs": [],
   "source": [
    "import sys\n",
    "sys.path.append('../src')\n",
    "\n",
    "import numpy as np\n",
    "import pandas as pd\n",
    "import data\n",
    "import utils\n",
    "from main import extract_summary, report_rouge_scores\n",
    "\n",
    "%load_ext autoreload\n",
    "%autoreload 2"
   ]
  },
  {
   "cell_type": "markdown",
   "metadata": {},
   "source": [
    "### Cornell Newsroom Summarization Dataset\n",
    "\n",
    "Data are donwloaded from the [cornell newsroom summarization dataset](https://summari.es/). We are using the development set. We select *extractive* for our task and only include data that has 5 or more sentences in the summary."
   ]
  },
  {
   "cell_type": "code",
   "execution_count": 2,
   "metadata": {},
   "outputs": [],
   "source": [
    "# Convert newsroom jason file (dev.jsonl) to csv file (uncomment and run the code if 'news_dev.csv' is not available)\n",
    "# data.newsroom_json2csv()"
   ]
  },
  {
   "cell_type": "code",
   "execution_count": 3,
   "metadata": {},
   "outputs": [
    {
     "name": "stdout",
     "output_type": "stream",
     "text": [
      "# of articles: 2566\n"
     ]
    },
    {
     "data": {
      "text/html": [
       "<div>\n",
       "<style scoped>\n",
       "    .dataframe tbody tr th:only-of-type {\n",
       "        vertical-align: middle;\n",
       "    }\n",
       "\n",
       "    .dataframe tbody tr th {\n",
       "        vertical-align: top;\n",
       "    }\n",
       "\n",
       "    .dataframe thead th {\n",
       "        text-align: right;\n",
       "    }\n",
       "</style>\n",
       "<table border=\"1\" class=\"dataframe\">\n",
       "  <thead>\n",
       "    <tr style=\"text-align: right;\">\n",
       "      <th></th>\n",
       "      <th>title</th>\n",
       "      <th>reference</th>\n",
       "      <th>text</th>\n",
       "    </tr>\n",
       "  </thead>\n",
       "  <tbody>\n",
       "    <tr>\n",
       "      <th>0</th>\n",
       "      <td>NEW YORKERS' ONLY REGRET WAS STAYING HOME</td>\n",
       "      <td>As many black men marched on Washington yester...</td>\n",
       "      <td>This story was reported by: NICK CHARLES, AUST...</td>\n",
       "    </tr>\n",
       "    <tr>\n",
       "      <th>1</th>\n",
       "      <td>Music review: Jake Bugg at the House of Blues</td>\n",
       "      <td>As the lights went down at the nearly sold-out...</td>\n",
       "      <td>As the lights went down at the nearly sold-out...</td>\n",
       "    </tr>\n",
       "    <tr>\n",
       "      <th>2</th>\n",
       "      <td>HELP IS URGED FOR 36,000 HOMELESS IN CITY'S ST...</td>\n",
       "      <td>A yearlong study by the Community Service Soci...</td>\n",
       "      <td>A yearlong study by the Community Service Soci...</td>\n",
       "    </tr>\n",
       "    <tr>\n",
       "      <th>3</th>\n",
       "      <td>Broadway - An early contender for 1982-83 - 'I...</td>\n",
       "      <td>THE new Broadway season is barely out of the s...</td>\n",
       "      <td>THE new Broadway season is barely out of the s...</td>\n",
       "    </tr>\n",
       "    <tr>\n",
       "      <th>4</th>\n",
       "      <td>CIRCUS FINDS ARENA GOOD PLACE TO PLAY</td>\n",
       "      <td>EAST RUTHERFORD YOUNGSTERS squealed with laugh...</td>\n",
       "      <td>EAST RUTHERFORD YOUNGSTERS squealed with laugh...</td>\n",
       "    </tr>\n",
       "  </tbody>\n",
       "</table>\n",
       "</div>"
      ],
      "text/plain": [
       "                                               title  \\\n",
       "0          NEW YORKERS' ONLY REGRET WAS STAYING HOME   \n",
       "1      Music review: Jake Bugg at the House of Blues   \n",
       "2  HELP IS URGED FOR 36,000 HOMELESS IN CITY'S ST...   \n",
       "3  Broadway - An early contender for 1982-83 - 'I...   \n",
       "4              CIRCUS FINDS ARENA GOOD PLACE TO PLAY   \n",
       "\n",
       "                                           reference  \\\n",
       "0  As many black men marched on Washington yester...   \n",
       "1  As the lights went down at the nearly sold-out...   \n",
       "2  A yearlong study by the Community Service Soci...   \n",
       "3  THE new Broadway season is barely out of the s...   \n",
       "4  EAST RUTHERFORD YOUNGSTERS squealed with laugh...   \n",
       "\n",
       "                                                text  \n",
       "0  This story was reported by: NICK CHARLES, AUST...  \n",
       "1  As the lights went down at the nearly sold-out...  \n",
       "2  A yearlong study by the Community Service Soci...  \n",
       "3  THE new Broadway season is barely out of the s...  \n",
       "4  EAST RUTHERFORD YOUNGSTERS squealed with laugh...  "
      ]
     },
     "execution_count": 3,
     "metadata": {},
     "output_type": "execute_result"
    }
   ],
   "source": [
    "news = pd.read_csv('../data/newsroom/news_dev.csv')\n",
    "print('# of articles:', len(news))\n",
    "news.head()"
   ]
  },
  {
   "cell_type": "markdown",
   "metadata": {},
   "source": [
    "### Summarization\n",
    "\n",
    "- Methods includes: \n",
    "    - SMRS (TF-IDF matrix)\n",
    "    - Franke-Wolfe (TF-IDF matrix)\n",
    "    - Franke-Wolfe (Sentence embeddings matrix)\n",
    "- *Matlab* and *Python for matlab engine* is required to run the SMRS method. Remove `'SMRS'` from the `methods` list below if matlab is not installed."
   ]
  },
  {
   "cell_type": "code",
   "execution_count": 4,
   "metadata": {},
   "outputs": [],
   "source": [
    "# Get list of titles, reference summaries, and body text\n",
    "news_titles, news_refs, news_text = data.get_newsroom_data()"
   ]
  },
  {
   "cell_type": "code",
   "execution_count": 5,
   "metadata": {},
   "outputs": [
    {
     "name": "stdout",
     "output_type": "stream",
     "text": [
      "# sentence: 27, # vocab: 400\n",
      "# of selected exemplar: 5\n",
      "\n",
      "Title: HELP IS URGED FOR 36,000 HOMELESS IN CITY'S STREETS\n",
      "\n",
      "=============== Referecne Text ==============\n",
      "A yearlong study by the Community Service Society of New York has concluded that the problem of homeless people on the streets of the city has ''reached such extraordinary proportions'' that emergency housing must be set up.   The study, to be made public tomorrow, says government agencies have failed to face the problem of the homeless and have made it even worse with the state's program of discharging many patients from mental institutions into communities.   The homeless are found in almost every part of the city. Sometimes they are seen shuffling along the streets or crouched in doorways seeking temporary shelter from wind and rain. They inhabit the bus and railroad stations and subways until they are chased away by the police.\n",
      "\n",
      "========== Extracted summary: SMRS ==========\n",
      "Poignant scene at garbage can. Sometimes they are seen shuffling along the streets or crouched in doorways seeking temporary shelter from wind and rain. With her hands folded, because she 'had no place to go nights.' she said she had had such bad luck and that with rents so high, she couldn't afford both a place to stay and food to eat. ''they think there is no end to revenues.''  mr. In some cases, they said, buildings had been burned down to drive out tenants\n",
      "SMRS computation time: 0.404\n",
      "\n",
      "========== Extracted summary: Tfidf ==========\n",
      "Report rebuts 'myth'  ''counter to the prevailing myth that the homeless choose their nomadic lifestyle and refuse any assistance offered them,'' the report says, ''the reality is that most have never been offered the fundamental provisions of decent food and humane, noncoercive shelter.''  the report, ''private lives/ public spaces: homeless adults on the streets of new york city,'' was the result of hundreds of interviews by two researchers, ellen baxter and kim hopper, who sought out the homeless all over the city, finding a widely varied group. ''there are some people who choose not to come to the shelters,'' he said. She picks up a social security check at the bank each month, but it is barely enough to get by on.''  the report says that mental patients released from hospitals under a state program that seeks to ease them into communities constitute another part of the problem. In some cases, they said, buildings had been burned down to drive out tenants.  the homeless are found in almost every part of the city\n",
      "Tfidf computation time: 0.004\n",
      "\n",
      "====== Extracted summary: sentence embeddings ======\n",
      " the homeless are found in almost every part of the city. They inhabit the bus and railroad stations and subways until they are chased away by the police.  ''advocacy groups do not think there is any limit on the amount of money government can spend,'' he said. With her hands folded, because she 'had no place to go nights.' she said she had had such bad luck and that with rents so high, she couldn't afford both a place to stay and food to eat. Poignant scene at garbage can\n",
      "Sentence embedding computation time: 0.001\n"
     ]
    }
   ],
   "source": [
    "doc_idx = 2\n",
    "doc = news_text[doc_idx]\n",
    "ref = news_refs[doc_idx]\n",
    "title = news_titles[doc_idx]\n",
    "\n",
    "k=5\n",
    "methods = ['SMRS', 'tfidf', 'embed']\n",
    "extract_summary(doc, ref, title, k=k, report_rouge=False, methods=methods, print_summary=True);"
   ]
  },
  {
   "cell_type": "markdown",
   "metadata": {
    "heading_collapsed": true
   },
   "source": [
    "### ROUGE Score"
   ]
  },
  {
   "cell_type": "code",
   "execution_count": 6,
   "metadata": {
    "hidden": true
   },
   "outputs": [
    {
     "name": "stdout",
     "output_type": "stream",
     "text": [
      "\n",
      "=============== ROUGE Scores ===============\n",
      "\n",
      "SMRS\n",
      "Overlap 1-gram \t\t\tF1: 0.289\n",
      "Overlap 1-gram \t\t\tPrecision: 0.315\n",
      "Overlap 1-gram \t\t\tRecall: 0.267\n",
      "Overlap bi-gram \t\tF1: 0.182\n",
      "Overlap bi-gram \t\tPrecision: 0.212\n",
      "Overlap bi-gram \t\tRecall: 0.159\n",
      "Longest Common Subsequence \tF1: 0.286\n",
      "Longest Common Subsequence \tPrecision: 0.315\n",
      "Longest Common Subsequence \tRecall: 0.267\n",
      "\n",
      "tfidf\n",
      "Overlap 1-gram \t\t\tF1: 0.290\n",
      "Overlap 1-gram \t\t\tPrecision: 0.242\n",
      "Overlap 1-gram \t\t\tRecall: 0.360\n",
      "Overlap bi-gram \t\tF1: 0.114\n",
      "Overlap bi-gram \t\tPrecision: 0.096\n",
      "Overlap bi-gram \t\tRecall: 0.142\n",
      "Longest Common Subsequence \tF1: 0.218\n",
      "Longest Common Subsequence \tPrecision: 0.195\n",
      "Longest Common Subsequence \tRecall: 0.291\n",
      "\n",
      "embed\n",
      "Overlap 1-gram \t\t\tF1: 0.365\n",
      "Overlap 1-gram \t\t\tPrecision: 0.397\n",
      "Overlap 1-gram \t\t\tRecall: 0.337\n",
      "Overlap bi-gram \t\tF1: 0.267\n",
      "Overlap bi-gram \t\tPrecision: 0.303\n",
      "Overlap bi-gram \t\tRecall: 0.239\n",
      "Longest Common Subsequence \tF1: 0.348\n",
      "Longest Common Subsequence \tPrecision: 0.384\n",
      "Longest Common Subsequence \tRecall: 0.326\n",
      "CPU times: user 8.76 s, sys: 429 ms, total: 9.19 s\n",
      "Wall time: 12.3 s\n"
     ]
    }
   ],
   "source": [
    "%%time\n",
    "summary, runtime, scores = extract_summary(doc, ref, title, k=k, report_rouge=True, rouge_embed=False, \n",
    "                                           methods=methods, print_summary=False, print_rouge=True);"
   ]
  },
  {
   "cell_type": "markdown",
   "metadata": {
    "heading_collapsed": true
   },
   "source": [
    "### Word Embedding ROUGE Score"
   ]
  },
  {
   "cell_type": "code",
   "execution_count": 7,
   "metadata": {
    "hidden": true
   },
   "outputs": [
    {
     "name": "stdout",
     "output_type": "stream",
     "text": [
      "\n",
      "=============== ROUGE Scores ===============\n",
      "\n",
      "SMRS\n",
      "Overlap 1-gram \t\t\tF1: 0.742\n",
      "Overlap 1-gram \t\t\tPrecision: 0.777\n",
      "Overlap 1-gram \t\t\tRecall: 0.710\n",
      "Overlap bi-gram \t\tF1: 0.077\n",
      "Overlap bi-gram \t\tPrecision: 0.077\n",
      "Overlap bi-gram \t\tRecall: 0.076\n",
      "\n",
      "tfidf\n",
      "Overlap 1-gram \t\t\tF1: 0.748\n",
      "Overlap 1-gram \t\t\tPrecision: 0.726\n",
      "Overlap 1-gram \t\t\tRecall: 0.771\n",
      "Overlap bi-gram \t\tF1: 0.092\n",
      "Overlap bi-gram \t\tPrecision: 0.077\n",
      "Overlap bi-gram \t\tRecall: 0.114\n",
      "\n",
      "embed\n",
      "Overlap 1-gram \t\t\tF1: 0.766\n",
      "Overlap 1-gram \t\t\tPrecision: 0.803\n",
      "Overlap 1-gram \t\t\tRecall: 0.732\n",
      "Overlap bi-gram \t\tF1: 0.079\n",
      "Overlap bi-gram \t\tPrecision: 0.081\n",
      "Overlap bi-gram \t\tRecall: 0.076\n",
      "CPU times: user 1min 11s, sys: 3.08 s, total: 1min 14s\n",
      "Wall time: 1min 17s\n"
     ]
    }
   ],
   "source": [
    "%%time\n",
    "summary, runtime, scores = extract_summary(doc, ref, title, k=k, report_rouge=True, rouge_embed=True, \n",
    "                                           methods=methods, print_summary=False, print_rouge=True);"
   ]
  },
  {
   "cell_type": "markdown",
   "metadata": {},
   "source": [
    "### ROUGE Score Across Documents"
   ]
  },
  {
   "cell_type": "code",
   "execution_count": 9,
   "metadata": {},
   "outputs": [],
   "source": [
    "k = 5\n",
    "num_articles = 20\n",
    "articles = news_text[:num_articles]\n",
    "references = news_refs[:num_articles]\n",
    "titles = news_titles[:num_articles]"
   ]
  },
  {
   "cell_type": "code",
   "execution_count": 10,
   "metadata": {},
   "outputs": [
    {
     "name": "stdout",
     "output_type": "stream",
     "text": [
      "====================== Mean ======================\n"
     ]
    },
    {
     "data": {
      "text/html": [
       "<div>\n",
       "<style scoped>\n",
       "    .dataframe tbody tr th:only-of-type {\n",
       "        vertical-align: middle;\n",
       "    }\n",
       "\n",
       "    .dataframe tbody tr th {\n",
       "        vertical-align: top;\n",
       "    }\n",
       "\n",
       "    .dataframe thead th {\n",
       "        text-align: right;\n",
       "    }\n",
       "</style>\n",
       "<table border=\"1\" class=\"dataframe\">\n",
       "  <thead>\n",
       "    <tr style=\"text-align: right;\">\n",
       "      <th></th>\n",
       "      <th>SMRS</th>\n",
       "      <th>tfidf</th>\n",
       "      <th>embed</th>\n",
       "    </tr>\n",
       "  </thead>\n",
       "  <tbody>\n",
       "    <tr>\n",
       "      <th>1-gram F1</th>\n",
       "      <td>0.179505</td>\n",
       "      <td>0.263315</td>\n",
       "      <td>0.218495</td>\n",
       "    </tr>\n",
       "    <tr>\n",
       "      <th>1-gram Precision</th>\n",
       "      <td>0.281264</td>\n",
       "      <td>0.274434</td>\n",
       "      <td>0.358688</td>\n",
       "    </tr>\n",
       "    <tr>\n",
       "      <th>1-gram Recall</th>\n",
       "      <td>0.144435</td>\n",
       "      <td>0.279623</td>\n",
       "      <td>0.171098</td>\n",
       "    </tr>\n",
       "    <tr>\n",
       "      <th>bi-gram F1</th>\n",
       "      <td>0.087882</td>\n",
       "      <td>0.140143</td>\n",
       "      <td>0.108683</td>\n",
       "    </tr>\n",
       "    <tr>\n",
       "      <th>bi-gram Precision</th>\n",
       "      <td>0.142786</td>\n",
       "      <td>0.144967</td>\n",
       "      <td>0.178318</td>\n",
       "    </tr>\n",
       "    <tr>\n",
       "      <th>bi-gram Recall</th>\n",
       "      <td>0.069078</td>\n",
       "      <td>0.152341</td>\n",
       "      <td>0.085845</td>\n",
       "    </tr>\n",
       "    <tr>\n",
       "      <th>longest common F1</th>\n",
       "      <td>0.152074</td>\n",
       "      <td>0.232628</td>\n",
       "      <td>0.178858</td>\n",
       "    </tr>\n",
       "    <tr>\n",
       "      <th>longest common Precision</th>\n",
       "      <td>0.273157</td>\n",
       "      <td>0.259572</td>\n",
       "      <td>0.342120</td>\n",
       "    </tr>\n",
       "    <tr>\n",
       "      <th>longest common Recall</th>\n",
       "      <td>0.140186</td>\n",
       "      <td>0.264018</td>\n",
       "      <td>0.164711</td>\n",
       "    </tr>\n",
       "  </tbody>\n",
       "</table>\n",
       "</div>"
      ],
      "text/plain": [
       "                              SMRS     tfidf     embed\n",
       "1-gram F1                 0.179505  0.263315  0.218495\n",
       "1-gram Precision          0.281264  0.274434  0.358688\n",
       "1-gram Recall             0.144435  0.279623  0.171098\n",
       "bi-gram F1                0.087882  0.140143  0.108683\n",
       "bi-gram Precision         0.142786  0.144967  0.178318\n",
       "bi-gram Recall            0.069078  0.152341  0.085845\n",
       "longest common F1         0.152074  0.232628  0.178858\n",
       "longest common Precision  0.273157  0.259572  0.342120\n",
       "longest common Recall     0.140186  0.264018  0.164711"
      ]
     },
     "metadata": {},
     "output_type": "display_data"
    },
    {
     "name": "stdout",
     "output_type": "stream",
     "text": [
      "===================== Median =====================\n"
     ]
    },
    {
     "data": {
      "text/html": [
       "<div>\n",
       "<style scoped>\n",
       "    .dataframe tbody tr th:only-of-type {\n",
       "        vertical-align: middle;\n",
       "    }\n",
       "\n",
       "    .dataframe tbody tr th {\n",
       "        vertical-align: top;\n",
       "    }\n",
       "\n",
       "    .dataframe thead th {\n",
       "        text-align: right;\n",
       "    }\n",
       "</style>\n",
       "<table border=\"1\" class=\"dataframe\">\n",
       "  <thead>\n",
       "    <tr style=\"text-align: right;\">\n",
       "      <th></th>\n",
       "      <th>SMRS</th>\n",
       "      <th>tfidf</th>\n",
       "      <th>embed</th>\n",
       "    </tr>\n",
       "  </thead>\n",
       "  <tbody>\n",
       "    <tr>\n",
       "      <th>1-gram F1</th>\n",
       "      <td>0.141038</td>\n",
       "      <td>0.278523</td>\n",
       "      <td>0.187397</td>\n",
       "    </tr>\n",
       "    <tr>\n",
       "      <th>1-gram Precision</th>\n",
       "      <td>0.211939</td>\n",
       "      <td>0.246212</td>\n",
       "      <td>0.321092</td>\n",
       "    </tr>\n",
       "    <tr>\n",
       "      <th>1-gram Recall</th>\n",
       "      <td>0.103632</td>\n",
       "      <td>0.312274</td>\n",
       "      <td>0.146295</td>\n",
       "    </tr>\n",
       "    <tr>\n",
       "      <th>bi-gram F1</th>\n",
       "      <td>0.034195</td>\n",
       "      <td>0.138591</td>\n",
       "      <td>0.064560</td>\n",
       "    </tr>\n",
       "    <tr>\n",
       "      <th>bi-gram Precision</th>\n",
       "      <td>0.078869</td>\n",
       "      <td>0.109548</td>\n",
       "      <td>0.122208</td>\n",
       "    </tr>\n",
       "    <tr>\n",
       "      <th>bi-gram Recall</th>\n",
       "      <td>0.027418</td>\n",
       "      <td>0.168254</td>\n",
       "      <td>0.041008</td>\n",
       "    </tr>\n",
       "    <tr>\n",
       "      <th>longest common F1</th>\n",
       "      <td>0.107183</td>\n",
       "      <td>0.231345</td>\n",
       "      <td>0.139431</td>\n",
       "    </tr>\n",
       "    <tr>\n",
       "      <th>longest common Precision</th>\n",
       "      <td>0.197094</td>\n",
       "      <td>0.221801</td>\n",
       "      <td>0.316627</td>\n",
       "    </tr>\n",
       "    <tr>\n",
       "      <th>longest common Recall</th>\n",
       "      <td>0.098825</td>\n",
       "      <td>0.296142</td>\n",
       "      <td>0.130337</td>\n",
       "    </tr>\n",
       "  </tbody>\n",
       "</table>\n",
       "</div>"
      ],
      "text/plain": [
       "                              SMRS     tfidf     embed\n",
       "1-gram F1                 0.141038  0.278523  0.187397\n",
       "1-gram Precision          0.211939  0.246212  0.321092\n",
       "1-gram Recall             0.103632  0.312274  0.146295\n",
       "bi-gram F1                0.034195  0.138591  0.064560\n",
       "bi-gram Precision         0.078869  0.109548  0.122208\n",
       "bi-gram Recall            0.027418  0.168254  0.041008\n",
       "longest common F1         0.107183  0.231345  0.139431\n",
       "longest common Precision  0.197094  0.221801  0.316627\n",
       "longest common Recall     0.098825  0.296142  0.130337"
      ]
     },
     "metadata": {},
     "output_type": "display_data"
    },
    {
     "name": "stdout",
     "output_type": "stream",
     "text": [
      "=============== Standard Deviation ===============\n"
     ]
    },
    {
     "data": {
      "text/html": [
       "<div>\n",
       "<style scoped>\n",
       "    .dataframe tbody tr th:only-of-type {\n",
       "        vertical-align: middle;\n",
       "    }\n",
       "\n",
       "    .dataframe tbody tr th {\n",
       "        vertical-align: top;\n",
       "    }\n",
       "\n",
       "    .dataframe thead th {\n",
       "        text-align: right;\n",
       "    }\n",
       "</style>\n",
       "<table border=\"1\" class=\"dataframe\">\n",
       "  <thead>\n",
       "    <tr style=\"text-align: right;\">\n",
       "      <th></th>\n",
       "      <th>SMRS</th>\n",
       "      <th>tfidf</th>\n",
       "      <th>embed</th>\n",
       "    </tr>\n",
       "  </thead>\n",
       "  <tbody>\n",
       "    <tr>\n",
       "      <th>1-gram F1</th>\n",
       "      <td>0.130616</td>\n",
       "      <td>0.112440</td>\n",
       "      <td>0.122054</td>\n",
       "    </tr>\n",
       "    <tr>\n",
       "      <th>1-gram Precision</th>\n",
       "      <td>0.186114</td>\n",
       "      <td>0.128875</td>\n",
       "      <td>0.158054</td>\n",
       "    </tr>\n",
       "    <tr>\n",
       "      <th>1-gram Recall</th>\n",
       "      <td>0.113721</td>\n",
       "      <td>0.123918</td>\n",
       "      <td>0.110763</td>\n",
       "    </tr>\n",
       "    <tr>\n",
       "      <th>bi-gram F1</th>\n",
       "      <td>0.109928</td>\n",
       "      <td>0.119751</td>\n",
       "      <td>0.122370</td>\n",
       "    </tr>\n",
       "    <tr>\n",
       "      <th>bi-gram Precision</th>\n",
       "      <td>0.172404</td>\n",
       "      <td>0.134194</td>\n",
       "      <td>0.163141</td>\n",
       "    </tr>\n",
       "    <tr>\n",
       "      <th>bi-gram Recall</th>\n",
       "      <td>0.088870</td>\n",
       "      <td>0.131770</td>\n",
       "      <td>0.103271</td>\n",
       "    </tr>\n",
       "    <tr>\n",
       "      <th>longest common F1</th>\n",
       "      <td>0.126271</td>\n",
       "      <td>0.114007</td>\n",
       "      <td>0.124809</td>\n",
       "    </tr>\n",
       "    <tr>\n",
       "      <th>longest common Precision</th>\n",
       "      <td>0.189033</td>\n",
       "      <td>0.132580</td>\n",
       "      <td>0.152103</td>\n",
       "    </tr>\n",
       "    <tr>\n",
       "      <th>longest common Recall</th>\n",
       "      <td>0.114081</td>\n",
       "      <td>0.124489</td>\n",
       "      <td>0.112052</td>\n",
       "    </tr>\n",
       "  </tbody>\n",
       "</table>\n",
       "</div>"
      ],
      "text/plain": [
       "                              SMRS     tfidf     embed\n",
       "1-gram F1                 0.130616  0.112440  0.122054\n",
       "1-gram Precision          0.186114  0.128875  0.158054\n",
       "1-gram Recall             0.113721  0.123918  0.110763\n",
       "bi-gram F1                0.109928  0.119751  0.122370\n",
       "bi-gram Precision         0.172404  0.134194  0.163141\n",
       "bi-gram Recall            0.088870  0.131770  0.103271\n",
       "longest common F1         0.126271  0.114007  0.124809\n",
       "longest common Precision  0.189033  0.132580  0.152103\n",
       "longest common Recall     0.114081  0.124489  0.112052"
      ]
     },
     "metadata": {},
     "output_type": "display_data"
    },
    {
     "name": "stdout",
     "output_type": "stream",
     "text": [
      "CPU times: user 2min 43s, sys: 8.74 s, total: 2min 52s\n",
      "Wall time: 3min 51s\n"
     ]
    }
   ],
   "source": [
    "%%time\n",
    "k = 5\n",
    "num_articles = 20\n",
    "rouge_mean, rouge_median, rouge_std = report_rouge_scores(articles, references, titles, k, methods=methods)\n",
    "\n",
    "index =  ['1-gram F1', '1-gram Precision', '1-gram Recall', 'bi-gram F1', 'bi-gram Precision', 'bi-gram Recall', \n",
    "          'longest common F1', 'longest common Precision', 'longest common Recall']\n",
    "\n",
    "print('=' * 22 + ' Mean ' + '=' * 22)\n",
    "rouge_mean.index = index\n",
    "display(rouge_mean)\n",
    "\n",
    "print('=' * 21 + ' Median ' + '=' * 21)\n",
    "rouge_median.index = index\n",
    "display(rouge_median)\n",
    "\n",
    "print('=' * 15 + ' Standard Deviation ' + '=' * 15)\n",
    "rouge_std.index = index\n",
    "display(rouge_std)"
   ]
  },
  {
   "cell_type": "markdown",
   "metadata": {},
   "source": [
    "### Word Embedding ROUGE Score Across Documents"
   ]
  },
  {
   "cell_type": "code",
   "execution_count": null,
   "metadata": {},
   "outputs": [],
   "source": [
    "%%time\n",
    "rouge_mean_embed, rouge_median_embed, rouge_std_embed = report_rouge_scores(articles, references, titles, k, \n",
    "                                                                            rouge_embed=True, methods=methods)\n",
    "index =  ['1-gram F1', '1-gram Precision', '1-gram Recall', 'bi-gram F1', 'bi-gram Precision', 'bi-gram Recall']\n",
    "\n",
    "print('=' * 22 + ' Mean ' + '=' * 22)\n",
    "rouge_mean_embed.index = index\n",
    "display(rouge_mean_embed)\n",
    "\n",
    "print('=' * 21 + ' Median ' + '=' * 21)\n",
    "rouge_median_embed.index = index\n",
    "display(rouge_median_embed)\n",
    "\n",
    "print('=' * 15 + ' Standard Deviation ' + '=' * 15)\n",
    "rouge_std_embed.index = index\n",
    "display(rouge_std_embed)"
   ]
  },
  {
   "cell_type": "code",
   "execution_count": null,
   "metadata": {},
   "outputs": [],
   "source": []
  }
 ],
 "metadata": {
  "hide_input": false,
  "kernelspec": {
   "display_name": "Python 3",
   "language": "python",
   "name": "python3"
  },
  "language_info": {
   "codemirror_mode": {
    "name": "ipython",
    "version": 3
   },
   "file_extension": ".py",
   "mimetype": "text/x-python",
   "name": "python",
   "nbconvert_exporter": "python",
   "pygments_lexer": "ipython3",
   "version": "3.7.3"
  },
  "varInspector": {
   "cols": {
    "lenName": 16,
    "lenType": 16,
    "lenVar": 40
   },
   "kernels_config": {
    "python": {
     "delete_cmd_postfix": "",
     "delete_cmd_prefix": "del ",
     "library": "var_list.py",
     "varRefreshCmd": "print(var_dic_list())"
    },
    "r": {
     "delete_cmd_postfix": ") ",
     "delete_cmd_prefix": "rm(",
     "library": "var_list.r",
     "varRefreshCmd": "cat(var_dic_list()) "
    }
   },
   "types_to_exclude": [
    "module",
    "function",
    "builtin_function_or_method",
    "instance",
    "_Feature"
   ],
   "window_display": false
  }
 },
 "nbformat": 4,
 "nbformat_minor": 2
}
