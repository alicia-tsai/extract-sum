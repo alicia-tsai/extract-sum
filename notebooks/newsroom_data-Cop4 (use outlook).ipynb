{
 "cells": [
  {
   "cell_type": "code",
   "execution_count": 1,
   "metadata": {},
   "outputs": [],
   "source": [
    "import sys\n",
    "sys.path.append('../src')\n",
    "\n",
    "import numpy as np\n",
    "import pandas as pd\n",
    "import data\n",
    "import utils\n",
    "from main import extract_summary, report_rouge_scores\n",
    "\n",
    "%load_ext autoreload\n",
    "%autoreload 2"
   ]
  },
  {
   "cell_type": "code",
   "execution_count": 2,
   "metadata": {},
   "outputs": [
    {
     "name": "stdout",
     "output_type": "stream",
     "text": [
      "44\n"
     ]
    }
   ],
   "source": [
    "# Get list of titles, reference summaries, and body text\n",
    "outlook_titles, outlook_refs, outlook_text = data.get_outlook_data()\n",
    "total = len(outlook_text)\n",
    "print(total)"
   ]
  },
  {
   "cell_type": "markdown",
   "metadata": {
    "heading_collapsed": true
   },
   "source": [
    "### Summarization\n",
    "\n",
    "- Summarization algorithms includes: \n",
    "    - SMRS (TF-IDF matrix)\n",
    "    - Franke-Wolfe (TF-IDF matrix)\n",
    "    - Franke-Wolfe (Sentence embeddings matrix)\n",
    "- *Matlab* and *Python for matlab engine* is required to run the SMRS method. Remove `'SMRS'` from the `methods` list below if matlab is not installed.\n",
    "\n",
    "- Main function: `extract_summary()`\n",
    "\n",
    "```python\n",
    "# Arguments:\n",
    "#     - doc: string; article body text\n",
    "#     - ref: string; reference summary\n",
    "#     - title: string; title of the article\n",
    "#     - k: number of extracted examplars\n",
    "#     - print_summary: print summary text for each algorithm\n",
    "#     - report_rouge: report rouge score (need to pass in ref argument)\n",
    "#     - rouge_embed: use word embedding to calculate rouge score\n",
    "#     - vectorize_scores: return scores in np.ndarray instead of in a dictionary\n",
    "#     - methods: summarization algorithms to be used\n",
    "# Return:\n",
    "#     - summary: dictionary; extracted summary sentences using each algorithm\n",
    "#     - word_count: dictionary; number of words in the extracted summary\n",
    "#     - runtime: computation time of each algorithm\n",
    "#     - scores: rouge score of each algorithm\n",
    "        \n",
    "summary, word_count, runtime, scores = extract_summary(doc, ref=None, title=None, k=5, print_summary=False, \n",
    "                                                       report_rouge=False, print_rouge=True, rouge_embed=False, \n",
    "                                                       vectorize_scores=False, methods=['random', 'SMRS', 'tfidf', 'embed']);\n",
    "\n",
    "```"
   ]
  },
  {
   "cell_type": "code",
   "execution_count": null,
   "metadata": {
    "hidden": true
   },
   "outputs": [],
   "source": [
    "# 9\n",
    "doc_idx = 0\n",
    "doc = outlook_text[doc_idx]\n",
    "ref = outlook_refs[doc_idx]\n",
    "title = outlook_titles[doc_idx]\n",
    "print(ref)"
   ]
  },
  {
   "cell_type": "code",
   "execution_count": null,
   "metadata": {
    "hidden": true,
    "scrolled": true
   },
   "outputs": [],
   "source": [
    "# k=5\n",
    "# ratio=0.2\n",
    "methods = ['first-k', 'SMRS', 'TextRank', 'tfidf', 'embed']\n",
    "extract_summary(doc, ref, title, report_rouge=False, methods=methods, print_summary=True);"
   ]
  },
  {
   "cell_type": "markdown",
   "metadata": {
    "heading_collapsed": true
   },
   "source": [
    "### ROUGE Score"
   ]
  },
  {
   "cell_type": "code",
   "execution_count": null,
   "metadata": {
    "hidden": true,
    "scrolled": false
   },
   "outputs": [],
   "source": [
    "%%time\n",
    "# k=5\n",
    "# ratio=0.3\n",
    "methods = ['first-k', 'SMRS', 'TextRank', 'tfidf', 'embed']\n",
    "extract_summary(doc, ref, title, report_rouge=True, rouge_embed=False, \n",
    "                methods=methods, print_summary=False, print_rouge=True);"
   ]
  },
  {
   "cell_type": "markdown",
   "metadata": {
    "heading_collapsed": true
   },
   "source": [
    "### Word Embedding ROUGE Score"
   ]
  },
  {
   "cell_type": "code",
   "execution_count": null,
   "metadata": {
    "hidden": true,
    "scrolled": false
   },
   "outputs": [],
   "source": [
    "%%time\n",
    "_ = extract_summary(doc, ref, title, report_rouge=True, rouge_embed=True, \n",
    "                    methods=methods, print_summary=False, print_rouge=True);"
   ]
  },
  {
   "cell_type": "markdown",
   "metadata": {},
   "source": [
    "### ROUGE Score Across Documents"
   ]
  },
  {
   "cell_type": "code",
   "execution_count": 3,
   "metadata": {},
   "outputs": [],
   "source": [
    "start = 0\n",
    "num_articles = total\n",
    "articles = outlook_text[start : start + num_articles]\n",
    "references = outlook_refs[start : start + num_articles]\n",
    "titles = outlook_titles[start : start + num_articles]"
   ]
  },
  {
   "cell_type": "code",
   "execution_count": 4,
   "metadata": {},
   "outputs": [
    {
     "name": "stdout",
     "output_type": "stream",
     "text": [
      "====================== Mean ======================\n"
     ]
    },
    {
     "data": {
      "text/html": [
       "<div>\n",
       "<style scoped>\n",
       "    .dataframe tbody tr th:only-of-type {\n",
       "        vertical-align: middle;\n",
       "    }\n",
       "\n",
       "    .dataframe tbody tr th {\n",
       "        vertical-align: top;\n",
       "    }\n",
       "\n",
       "    .dataframe thead th {\n",
       "        text-align: right;\n",
       "    }\n",
       "</style>\n",
       "<table border=\"1\" class=\"dataframe\">\n",
       "  <thead>\n",
       "    <tr style=\"text-align: right;\">\n",
       "      <th></th>\n",
       "      <th>embed</th>\n",
       "    </tr>\n",
       "  </thead>\n",
       "  <tbody>\n",
       "    <tr>\n",
       "      <th>1-gram F1</th>\n",
       "      <td>0.198464</td>\n",
       "    </tr>\n",
       "    <tr>\n",
       "      <th>1-gram Precision</th>\n",
       "      <td>0.184585</td>\n",
       "    </tr>\n",
       "    <tr>\n",
       "      <th>1-gram Recall</th>\n",
       "      <td>0.236434</td>\n",
       "    </tr>\n",
       "    <tr>\n",
       "      <th>bi-gram F1</th>\n",
       "      <td>0.054205</td>\n",
       "    </tr>\n",
       "    <tr>\n",
       "      <th>bi-gram Precision</th>\n",
       "      <td>0.050453</td>\n",
       "    </tr>\n",
       "    <tr>\n",
       "      <th>bi-gram Recall</th>\n",
       "      <td>0.070024</td>\n",
       "    </tr>\n",
       "    <tr>\n",
       "      <th>longest common F1</th>\n",
       "      <td>0.172799</td>\n",
       "    </tr>\n",
       "    <tr>\n",
       "      <th>longest common Precision</th>\n",
       "      <td>0.174409</td>\n",
       "    </tr>\n",
       "    <tr>\n",
       "      <th>longest common Recall</th>\n",
       "      <td>0.223644</td>\n",
       "    </tr>\n",
       "    <tr>\n",
       "      <th>runtime</th>\n",
       "      <td>1.505656</td>\n",
       "    </tr>\n",
       "    <tr>\n",
       "      <th>word count</th>\n",
       "      <td>91.477273</td>\n",
       "    </tr>\n",
       "  </tbody>\n",
       "</table>\n",
       "</div>"
      ],
      "text/plain": [
       "                              embed\n",
       "1-gram F1                  0.198464\n",
       "1-gram Precision           0.184585\n",
       "1-gram Recall              0.236434\n",
       "bi-gram F1                 0.054205\n",
       "bi-gram Precision          0.050453\n",
       "bi-gram Recall             0.070024\n",
       "longest common F1          0.172799\n",
       "longest common Precision   0.174409\n",
       "longest common Recall      0.223644\n",
       "runtime                    1.505656\n",
       "word count                91.477273"
      ]
     },
     "metadata": {},
     "output_type": "display_data"
    },
    {
     "name": "stdout",
     "output_type": "stream",
     "text": [
      "===================== Median =====================\n"
     ]
    },
    {
     "data": {
      "text/html": [
       "<div>\n",
       "<style scoped>\n",
       "    .dataframe tbody tr th:only-of-type {\n",
       "        vertical-align: middle;\n",
       "    }\n",
       "\n",
       "    .dataframe tbody tr th {\n",
       "        vertical-align: top;\n",
       "    }\n",
       "\n",
       "    .dataframe thead th {\n",
       "        text-align: right;\n",
       "    }\n",
       "</style>\n",
       "<table border=\"1\" class=\"dataframe\">\n",
       "  <thead>\n",
       "    <tr style=\"text-align: right;\">\n",
       "      <th></th>\n",
       "      <th>embed</th>\n",
       "    </tr>\n",
       "  </thead>\n",
       "  <tbody>\n",
       "    <tr>\n",
       "      <th>1-gram F1</th>\n",
       "      <td>0.191340</td>\n",
       "    </tr>\n",
       "    <tr>\n",
       "      <th>1-gram Precision</th>\n",
       "      <td>0.177979</td>\n",
       "    </tr>\n",
       "    <tr>\n",
       "      <th>1-gram Recall</th>\n",
       "      <td>0.214286</td>\n",
       "    </tr>\n",
       "    <tr>\n",
       "      <th>bi-gram F1</th>\n",
       "      <td>0.030346</td>\n",
       "    </tr>\n",
       "    <tr>\n",
       "      <th>bi-gram Precision</th>\n",
       "      <td>0.027581</td>\n",
       "    </tr>\n",
       "    <tr>\n",
       "      <th>bi-gram Recall</th>\n",
       "      <td>0.037269</td>\n",
       "    </tr>\n",
       "    <tr>\n",
       "      <th>longest common F1</th>\n",
       "      <td>0.155802</td>\n",
       "    </tr>\n",
       "    <tr>\n",
       "      <th>longest common Precision</th>\n",
       "      <td>0.164855</td>\n",
       "    </tr>\n",
       "    <tr>\n",
       "      <th>longest common Recall</th>\n",
       "      <td>0.197222</td>\n",
       "    </tr>\n",
       "    <tr>\n",
       "      <th>runtime</th>\n",
       "      <td>1.166394</td>\n",
       "    </tr>\n",
       "    <tr>\n",
       "      <th>word count</th>\n",
       "      <td>79.500000</td>\n",
       "    </tr>\n",
       "  </tbody>\n",
       "</table>\n",
       "</div>"
      ],
      "text/plain": [
       "                              embed\n",
       "1-gram F1                  0.191340\n",
       "1-gram Precision           0.177979\n",
       "1-gram Recall              0.214286\n",
       "bi-gram F1                 0.030346\n",
       "bi-gram Precision          0.027581\n",
       "bi-gram Recall             0.037269\n",
       "longest common F1          0.155802\n",
       "longest common Precision   0.164855\n",
       "longest common Recall      0.197222\n",
       "runtime                    1.166394\n",
       "word count                79.500000"
      ]
     },
     "metadata": {},
     "output_type": "display_data"
    },
    {
     "name": "stdout",
     "output_type": "stream",
     "text": [
      "=============== Standard Deviation ===============\n"
     ]
    },
    {
     "data": {
      "text/html": [
       "<div>\n",
       "<style scoped>\n",
       "    .dataframe tbody tr th:only-of-type {\n",
       "        vertical-align: middle;\n",
       "    }\n",
       "\n",
       "    .dataframe tbody tr th {\n",
       "        vertical-align: top;\n",
       "    }\n",
       "\n",
       "    .dataframe thead th {\n",
       "        text-align: right;\n",
       "    }\n",
       "</style>\n",
       "<table border=\"1\" class=\"dataframe\">\n",
       "  <thead>\n",
       "    <tr style=\"text-align: right;\">\n",
       "      <th></th>\n",
       "      <th>embed</th>\n",
       "    </tr>\n",
       "  </thead>\n",
       "  <tbody>\n",
       "    <tr>\n",
       "      <th>1-gram F1</th>\n",
       "      <td>0.086318</td>\n",
       "    </tr>\n",
       "    <tr>\n",
       "      <th>1-gram Precision</th>\n",
       "      <td>0.089529</td>\n",
       "    </tr>\n",
       "    <tr>\n",
       "      <th>1-gram Recall</th>\n",
       "      <td>0.112701</td>\n",
       "    </tr>\n",
       "    <tr>\n",
       "      <th>bi-gram F1</th>\n",
       "      <td>0.074706</td>\n",
       "    </tr>\n",
       "    <tr>\n",
       "      <th>bi-gram Precision</th>\n",
       "      <td>0.073916</td>\n",
       "    </tr>\n",
       "    <tr>\n",
       "      <th>bi-gram Recall</th>\n",
       "      <td>0.098932</td>\n",
       "    </tr>\n",
       "    <tr>\n",
       "      <th>longest common F1</th>\n",
       "      <td>0.081203</td>\n",
       "    </tr>\n",
       "    <tr>\n",
       "      <th>longest common Precision</th>\n",
       "      <td>0.088380</td>\n",
       "    </tr>\n",
       "    <tr>\n",
       "      <th>longest common Recall</th>\n",
       "      <td>0.110260</td>\n",
       "    </tr>\n",
       "    <tr>\n",
       "      <th>runtime</th>\n",
       "      <td>0.868343</td>\n",
       "    </tr>\n",
       "    <tr>\n",
       "      <th>word count</th>\n",
       "      <td>60.880467</td>\n",
       "    </tr>\n",
       "  </tbody>\n",
       "</table>\n",
       "</div>"
      ],
      "text/plain": [
       "                              embed\n",
       "1-gram F1                  0.086318\n",
       "1-gram Precision           0.089529\n",
       "1-gram Recall              0.112701\n",
       "bi-gram F1                 0.074706\n",
       "bi-gram Precision          0.073916\n",
       "bi-gram Recall             0.098932\n",
       "longest common F1          0.081203\n",
       "longest common Precision   0.088380\n",
       "longest common Recall      0.110260\n",
       "runtime                    0.868343\n",
       "word count                60.880467"
      ]
     },
     "metadata": {},
     "output_type": "display_data"
    },
    {
     "name": "stdout",
     "output_type": "stream",
     "text": [
      "CPU times: user 7min 22s, sys: 27.2 s, total: 7min 49s\n",
      "Wall time: 7min 56s\n"
     ]
    }
   ],
   "source": [
    "%%time\n",
    "methods = ['embed']\n",
    "rouge_mean, rouge_median, rouge_std = report_rouge_scores(articles, references, titles, methods=methods)\n",
    "\n",
    "index =  ['1-gram F1', '1-gram Precision', '1-gram Recall', 'bi-gram F1', 'bi-gram Precision', 'bi-gram Recall', \n",
    "          'longest common F1', 'longest common Precision', 'longest common Recall', 'runtime', 'word count']\n",
    "\n",
    "print('=' * 22 + ' Mean ' + '=' * 22)\n",
    "rouge_mean.index = index\n",
    "display(rouge_mean)\n",
    "\n",
    "print('=' * 21 + ' Median ' + '=' * 21)\n",
    "rouge_median.index = index\n",
    "display(rouge_median)\n",
    "\n",
    "print('=' * 15 + ' Standard Deviation ' + '=' * 15)\n",
    "rouge_std.index = index\n",
    "display(rouge_std)"
   ]
  },
  {
   "cell_type": "markdown",
   "metadata": {},
   "source": [
    "### Word Embedding ROUGE Score Across Documents"
   ]
  },
  {
   "cell_type": "code",
   "execution_count": 5,
   "metadata": {},
   "outputs": [
    {
     "name": "stdout",
     "output_type": "stream",
     "text": [
      "====================== Mean ======================\n"
     ]
    },
    {
     "data": {
      "text/html": [
       "<div>\n",
       "<style scoped>\n",
       "    .dataframe tbody tr th:only-of-type {\n",
       "        vertical-align: middle;\n",
       "    }\n",
       "\n",
       "    .dataframe tbody tr th {\n",
       "        vertical-align: top;\n",
       "    }\n",
       "\n",
       "    .dataframe thead th {\n",
       "        text-align: right;\n",
       "    }\n",
       "</style>\n",
       "<table border=\"1\" class=\"dataframe\">\n",
       "  <thead>\n",
       "    <tr style=\"text-align: right;\">\n",
       "      <th></th>\n",
       "      <th>embed</th>\n",
       "    </tr>\n",
       "  </thead>\n",
       "  <tbody>\n",
       "    <tr>\n",
       "      <th>1-gram F1</th>\n",
       "      <td>0.458476</td>\n",
       "    </tr>\n",
       "    <tr>\n",
       "      <th>1-gram Precision</th>\n",
       "      <td>0.442609</td>\n",
       "    </tr>\n",
       "    <tr>\n",
       "      <th>1-gram Recall</th>\n",
       "      <td>0.483673</td>\n",
       "    </tr>\n",
       "    <tr>\n",
       "      <th>bi-gram F1</th>\n",
       "      <td>0.588835</td>\n",
       "    </tr>\n",
       "    <tr>\n",
       "      <th>bi-gram Precision</th>\n",
       "      <td>0.567179</td>\n",
       "    </tr>\n",
       "    <tr>\n",
       "      <th>bi-gram Recall</th>\n",
       "      <td>0.618828</td>\n",
       "    </tr>\n",
       "    <tr>\n",
       "      <th>longest common F1</th>\n",
       "      <td>0.385267</td>\n",
       "    </tr>\n",
       "    <tr>\n",
       "      <th>longest common Precision</th>\n",
       "      <td>0.453966</td>\n",
       "    </tr>\n",
       "    <tr>\n",
       "      <th>longest common Recall</th>\n",
       "      <td>0.483673</td>\n",
       "    </tr>\n",
       "    <tr>\n",
       "      <th>runtime</th>\n",
       "      <td>1.454947</td>\n",
       "    </tr>\n",
       "    <tr>\n",
       "      <th>word count</th>\n",
       "      <td>91.477273</td>\n",
       "    </tr>\n",
       "  </tbody>\n",
       "</table>\n",
       "</div>"
      ],
      "text/plain": [
       "                              embed\n",
       "1-gram F1                  0.458476\n",
       "1-gram Precision           0.442609\n",
       "1-gram Recall              0.483673\n",
       "bi-gram F1                 0.588835\n",
       "bi-gram Precision          0.567179\n",
       "bi-gram Recall             0.618828\n",
       "longest common F1          0.385267\n",
       "longest common Precision   0.453966\n",
       "longest common Recall      0.483673\n",
       "runtime                    1.454947\n",
       "word count                91.477273"
      ]
     },
     "metadata": {},
     "output_type": "display_data"
    },
    {
     "name": "stdout",
     "output_type": "stream",
     "text": [
      "===================== Median =====================\n"
     ]
    },
    {
     "data": {
      "text/html": [
       "<div>\n",
       "<style scoped>\n",
       "    .dataframe tbody tr th:only-of-type {\n",
       "        vertical-align: middle;\n",
       "    }\n",
       "\n",
       "    .dataframe tbody tr th {\n",
       "        vertical-align: top;\n",
       "    }\n",
       "\n",
       "    .dataframe thead th {\n",
       "        text-align: right;\n",
       "    }\n",
       "</style>\n",
       "<table border=\"1\" class=\"dataframe\">\n",
       "  <thead>\n",
       "    <tr style=\"text-align: right;\">\n",
       "      <th></th>\n",
       "      <th>embed</th>\n",
       "    </tr>\n",
       "  </thead>\n",
       "  <tbody>\n",
       "    <tr>\n",
       "      <th>1-gram F1</th>\n",
       "      <td>0.458073</td>\n",
       "    </tr>\n",
       "    <tr>\n",
       "      <th>1-gram Precision</th>\n",
       "      <td>0.444055</td>\n",
       "    </tr>\n",
       "    <tr>\n",
       "      <th>1-gram Recall</th>\n",
       "      <td>0.494384</td>\n",
       "    </tr>\n",
       "    <tr>\n",
       "      <th>bi-gram F1</th>\n",
       "      <td>0.592386</td>\n",
       "    </tr>\n",
       "    <tr>\n",
       "      <th>bi-gram Precision</th>\n",
       "      <td>0.558124</td>\n",
       "    </tr>\n",
       "    <tr>\n",
       "      <th>bi-gram Recall</th>\n",
       "      <td>0.628020</td>\n",
       "    </tr>\n",
       "    <tr>\n",
       "      <th>longest common F1</th>\n",
       "      <td>0.375175</td>\n",
       "    </tr>\n",
       "    <tr>\n",
       "      <th>longest common Precision</th>\n",
       "      <td>0.378493</td>\n",
       "    </tr>\n",
       "    <tr>\n",
       "      <th>longest common Recall</th>\n",
       "      <td>0.494384</td>\n",
       "    </tr>\n",
       "    <tr>\n",
       "      <th>runtime</th>\n",
       "      <td>1.101057</td>\n",
       "    </tr>\n",
       "    <tr>\n",
       "      <th>word count</th>\n",
       "      <td>79.500000</td>\n",
       "    </tr>\n",
       "  </tbody>\n",
       "</table>\n",
       "</div>"
      ],
      "text/plain": [
       "                              embed\n",
       "1-gram F1                  0.458073\n",
       "1-gram Precision           0.444055\n",
       "1-gram Recall              0.494384\n",
       "bi-gram F1                 0.592386\n",
       "bi-gram Precision          0.558124\n",
       "bi-gram Recall             0.628020\n",
       "longest common F1          0.375175\n",
       "longest common Precision   0.378493\n",
       "longest common Recall      0.494384\n",
       "runtime                    1.101057\n",
       "word count                79.500000"
      ]
     },
     "metadata": {},
     "output_type": "display_data"
    },
    {
     "name": "stdout",
     "output_type": "stream",
     "text": [
      "=============== Standard Deviation ===============\n"
     ]
    },
    {
     "data": {
      "text/html": [
       "<div>\n",
       "<style scoped>\n",
       "    .dataframe tbody tr th:only-of-type {\n",
       "        vertical-align: middle;\n",
       "    }\n",
       "\n",
       "    .dataframe tbody tr th {\n",
       "        vertical-align: top;\n",
       "    }\n",
       "\n",
       "    .dataframe thead th {\n",
       "        text-align: right;\n",
       "    }\n",
       "</style>\n",
       "<table border=\"1\" class=\"dataframe\">\n",
       "  <thead>\n",
       "    <tr style=\"text-align: right;\">\n",
       "      <th></th>\n",
       "      <th>embed</th>\n",
       "    </tr>\n",
       "  </thead>\n",
       "  <tbody>\n",
       "    <tr>\n",
       "      <th>1-gram F1</th>\n",
       "      <td>0.066496</td>\n",
       "    </tr>\n",
       "    <tr>\n",
       "      <th>1-gram Precision</th>\n",
       "      <td>0.060811</td>\n",
       "    </tr>\n",
       "    <tr>\n",
       "      <th>1-gram Recall</th>\n",
       "      <td>0.087170</td>\n",
       "    </tr>\n",
       "    <tr>\n",
       "      <th>bi-gram F1</th>\n",
       "      <td>0.059860</td>\n",
       "    </tr>\n",
       "    <tr>\n",
       "      <th>bi-gram Precision</th>\n",
       "      <td>0.051201</td>\n",
       "    </tr>\n",
       "    <tr>\n",
       "      <th>bi-gram Recall</th>\n",
       "      <td>0.088948</td>\n",
       "    </tr>\n",
       "    <tr>\n",
       "      <th>longest common F1</th>\n",
       "      <td>0.092481</td>\n",
       "    </tr>\n",
       "    <tr>\n",
       "      <th>longest common Precision</th>\n",
       "      <td>0.356168</td>\n",
       "    </tr>\n",
       "    <tr>\n",
       "      <th>longest common Recall</th>\n",
       "      <td>0.087170</td>\n",
       "    </tr>\n",
       "    <tr>\n",
       "      <th>runtime</th>\n",
       "      <td>0.844107</td>\n",
       "    </tr>\n",
       "    <tr>\n",
       "      <th>word count</th>\n",
       "      <td>60.880467</td>\n",
       "    </tr>\n",
       "  </tbody>\n",
       "</table>\n",
       "</div>"
      ],
      "text/plain": [
       "                              embed\n",
       "1-gram F1                  0.066496\n",
       "1-gram Precision           0.060811\n",
       "1-gram Recall              0.087170\n",
       "bi-gram F1                 0.059860\n",
       "bi-gram Precision          0.051201\n",
       "bi-gram Recall             0.088948\n",
       "longest common F1          0.092481\n",
       "longest common Precision   0.356168\n",
       "longest common Recall      0.087170\n",
       "runtime                    0.844107\n",
       "word count                60.880467"
      ]
     },
     "metadata": {},
     "output_type": "display_data"
    },
    {
     "name": "stdout",
     "output_type": "stream",
     "text": [
      "CPU times: user 22min 40s, sys: 1min 18s, total: 23min 58s\n",
      "Wall time: 24min 5s\n"
     ]
    }
   ],
   "source": [
    "%%time\n",
    "methods = ['embed']\n",
    "rouge_mean_embed, rouge_median_embed, rouge_std_embed = report_rouge_scores(articles, references, titles, \n",
    "                                                                            rouge_embed=True, methods=methods)\n",
    "\n",
    "index =  ['1-gram F1', '1-gram Precision', '1-gram Recall', 'bi-gram F1', 'bi-gram Precision', 'bi-gram Recall', \n",
    "          'longest common F1', 'longest common Precision', 'longest common Recall', 'runtime', 'word count']\n",
    "\n",
    "print('=' * 22 + ' Mean ' + '=' * 22)\n",
    "rouge_mean_embed.index = index\n",
    "display(rouge_mean_embed)\n",
    "\n",
    "print('=' * 21 + ' Median ' + '=' * 21)\n",
    "rouge_median_embed.index = index\n",
    "display(rouge_median_embed)\n",
    "\n",
    "print('=' * 15 + ' Standard Deviation ' + '=' * 15)\n",
    "rouge_std_embed.index = index\n",
    "display(rouge_std_embed)"
   ]
  },
  {
   "cell_type": "code",
   "execution_count": null,
   "metadata": {},
   "outputs": [],
   "source": []
  }
 ],
 "metadata": {
  "hide_input": false,
  "kernelspec": {
   "display_name": "Python 3",
   "language": "python",
   "name": "python3"
  },
  "language_info": {
   "codemirror_mode": {
    "name": "ipython",
    "version": 3
   },
   "file_extension": ".py",
   "mimetype": "text/x-python",
   "name": "python",
   "nbconvert_exporter": "python",
   "pygments_lexer": "ipython3",
   "version": "3.7.3"
  },
  "varInspector": {
   "cols": {
    "lenName": 16,
    "lenType": 16,
    "lenVar": 40
   },
   "kernels_config": {
    "python": {
     "delete_cmd_postfix": "",
     "delete_cmd_prefix": "del ",
     "library": "var_list.py",
     "varRefreshCmd": "print(var_dic_list())"
    },
    "r": {
     "delete_cmd_postfix": ") ",
     "delete_cmd_prefix": "rm(",
     "library": "var_list.r",
     "varRefreshCmd": "cat(var_dic_list()) "
    }
   },
   "types_to_exclude": [
    "module",
    "function",
    "builtin_function_or_method",
    "instance",
    "_Feature"
   ],
   "window_display": false
  }
 },
 "nbformat": 4,
 "nbformat_minor": 2
}
