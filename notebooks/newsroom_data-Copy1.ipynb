{
 "cells": [
  {
   "cell_type": "code",
   "execution_count": 1,
   "metadata": {},
   "outputs": [],
   "source": [
    "import sys\n",
    "sys.path.append('../src')\n",
    "\n",
    "import numpy as np\n",
    "import pandas as pd\n",
    "import data\n",
    "import utils\n",
    "from main import extract_summary, report_rouge_scores\n",
    "\n",
    "%load_ext autoreload\n",
    "%autoreload 2"
   ]
  },
  {
   "cell_type": "markdown",
   "metadata": {},
   "source": [
    "### Cornell Newsroom Summarization Dataset\n",
    "\n",
    "Data are donwloaded from the [cornell newsroom summarization dataset](https://summari.es/). We are using the development set. We select *extractive* for our task and only include data that has 5 or more sentences in the summary."
   ]
  },
  {
   "cell_type": "code",
   "execution_count": 21,
   "metadata": {},
   "outputs": [],
   "source": [
    "# Convert newsroom jason file (dev.jsonl) to csv file (uncomment and run the code if 'news_dev.csv' is not available)\n",
    "#data.newsroom_json2csv()"
   ]
  },
  {
   "cell_type": "code",
   "execution_count": 2,
   "metadata": {},
   "outputs": [
    {
     "name": "stdout",
     "output_type": "stream",
     "text": [
      "# of articles: 2566\n"
     ]
    },
    {
     "data": {
      "text/html": [
       "<div>\n",
       "<style scoped>\n",
       "    .dataframe tbody tr th:only-of-type {\n",
       "        vertical-align: middle;\n",
       "    }\n",
       "\n",
       "    .dataframe tbody tr th {\n",
       "        vertical-align: top;\n",
       "    }\n",
       "\n",
       "    .dataframe thead th {\n",
       "        text-align: right;\n",
       "    }\n",
       "</style>\n",
       "<table border=\"1\" class=\"dataframe\">\n",
       "  <thead>\n",
       "    <tr style=\"text-align: right;\">\n",
       "      <th></th>\n",
       "      <th>title</th>\n",
       "      <th>reference</th>\n",
       "      <th>text</th>\n",
       "    </tr>\n",
       "  </thead>\n",
       "  <tbody>\n",
       "    <tr>\n",
       "      <th>0</th>\n",
       "      <td>NEW YORKERS' ONLY REGRET WAS STAYING HOME</td>\n",
       "      <td>As many black men marched on Washington yester...</td>\n",
       "      <td>This story was reported by: NICK CHARLES, AUST...</td>\n",
       "    </tr>\n",
       "    <tr>\n",
       "      <th>1</th>\n",
       "      <td>Music review: Jake Bugg at the House of Blues</td>\n",
       "      <td>As the lights went down at the nearly sold-out...</td>\n",
       "      <td>As the lights went down at the nearly sold-out...</td>\n",
       "    </tr>\n",
       "    <tr>\n",
       "      <th>2</th>\n",
       "      <td>HELP IS URGED FOR 36,000 HOMELESS IN CITY'S ST...</td>\n",
       "      <td>A yearlong study by the Community Service Soci...</td>\n",
       "      <td>A yearlong study by the Community Service Soci...</td>\n",
       "    </tr>\n",
       "    <tr>\n",
       "      <th>3</th>\n",
       "      <td>Broadway - An early contender for 1982-83 - 'I...</td>\n",
       "      <td>THE new Broadway season is barely out of the s...</td>\n",
       "      <td>THE new Broadway season is barely out of the s...</td>\n",
       "    </tr>\n",
       "    <tr>\n",
       "      <th>4</th>\n",
       "      <td>CIRCUS FINDS ARENA GOOD PLACE TO PLAY</td>\n",
       "      <td>EAST RUTHERFORD YOUNGSTERS squealed with laugh...</td>\n",
       "      <td>EAST RUTHERFORD YOUNGSTERS squealed with laugh...</td>\n",
       "    </tr>\n",
       "  </tbody>\n",
       "</table>\n",
       "</div>"
      ],
      "text/plain": [
       "                                               title  \\\n",
       "0          NEW YORKERS' ONLY REGRET WAS STAYING HOME   \n",
       "1      Music review: Jake Bugg at the House of Blues   \n",
       "2  HELP IS URGED FOR 36,000 HOMELESS IN CITY'S ST...   \n",
       "3  Broadway - An early contender for 1982-83 - 'I...   \n",
       "4              CIRCUS FINDS ARENA GOOD PLACE TO PLAY   \n",
       "\n",
       "                                           reference  \\\n",
       "0  As many black men marched on Washington yester...   \n",
       "1  As the lights went down at the nearly sold-out...   \n",
       "2  A yearlong study by the Community Service Soci...   \n",
       "3  THE new Broadway season is barely out of the s...   \n",
       "4  EAST RUTHERFORD YOUNGSTERS squealed with laugh...   \n",
       "\n",
       "                                                text  \n",
       "0  This story was reported by: NICK CHARLES, AUST...  \n",
       "1  As the lights went down at the nearly sold-out...  \n",
       "2  A yearlong study by the Community Service Soci...  \n",
       "3  THE new Broadway season is barely out of the s...  \n",
       "4  EAST RUTHERFORD YOUNGSTERS squealed with laugh...  "
      ]
     },
     "execution_count": 2,
     "metadata": {},
     "output_type": "execute_result"
    }
   ],
   "source": [
    "# news = pd.read_csv('../data/newsroom/news_dev.csv')\n",
    "# print('# of articles:', len(news))\n",
    "# news.head()"
   ]
  },
  {
   "cell_type": "markdown",
   "metadata": {},
   "source": [
    "### Summarization\n",
    "\n",
    "- Summarization algorithms includes: \n",
    "    - SMRS (TF-IDF matrix)\n",
    "    - Franke-Wolfe (TF-IDF matrix)\n",
    "    - Franke-Wolfe (Sentence embeddings matrix)\n",
    "- *Matlab* and *Python for matlab engine* is required to run the SMRS method. Remove `'SMRS'` from the `methods` list below if matlab is not installed.\n",
    "\n",
    "- Main function: `extract_summary()`\n",
    "\n",
    "```python\n",
    "# Arguments:\n",
    "#     - doc: string; article body text\n",
    "#     - ref: string; reference summary\n",
    "#     - title: string; title of the article\n",
    "#     - k: number of extracted examplars\n",
    "#     - print_summary: print summary text for each algorithm\n",
    "#     - report_rouge: report rouge score (need to pass in ref argument)\n",
    "#     - rouge_embed: use word embedding to calculate rouge score\n",
    "#     - vectorize_scores: return scores in np.ndarray instead of in a dictionary\n",
    "#     - methods: summarization algorithms to be used\n",
    "# Return:\n",
    "#     - summary: dictionary; extracted summary sentences using each algorithm\n",
    "#     - word_count: dictionary; number of words in the extracted summary\n",
    "#     - runtime: computation time of each algorithm\n",
    "#     - scores: rouge score of each algorithm\n",
    "        \n",
    "summary, word_count, runtime, scores = extract_summary(doc, ref=None, title=None, k=5, print_summary=False, \n",
    "                                                       report_rouge=False, print_rouge=True, rouge_embed=False, \n",
    "                                                       vectorize_scores=False, methods=['random', 'SMRS', 'tfidf', 'embed']);\n",
    "\n",
    "```"
   ]
  },
  {
   "cell_type": "code",
   "execution_count": 2,
   "metadata": {},
   "outputs": [],
   "source": [
    "# Get list of titles, reference summaries, and body text\n",
    "news_titles, news_refs, news_text = data.get_newsroom_data()"
   ]
  },
  {
   "cell_type": "code",
   "execution_count": 25,
   "metadata": {},
   "outputs": [],
   "source": [
    "import time\n",
    "from gensim.summarization.summarizer import summarize"
   ]
  },
  {
   "cell_type": "code",
   "execution_count": 6,
   "metadata": {},
   "outputs": [],
   "source": [
    "doc_idx = 1\n",
    "doc = news_text[doc_idx]\n",
    "ref = news_refs[doc_idx]\n",
    "title = news_titles[doc_idx]"
   ]
  },
  {
   "cell_type": "code",
   "execution_count": 26,
   "metadata": {},
   "outputs": [
    {
     "name": "stdout",
     "output_type": "stream",
     "text": [
      "CPU times: user 449 ms, sys: 0 ns, total: 449 ms\n",
      "Wall time: 449 ms\n"
     ]
    }
   ],
   "source": [
    "%%time\n",
    "runtime, scores = [], []\n",
    "for doc, ref in zip(news_text[:20], news_refs[:20]):\n",
    "    start = time.time()\n",
    "    summary = summarize(doc)\n",
    "    runtime.append(time.time() - start)\n",
    "    scores.append(utils.get_rouge_score(summary, ref, verbose=False, vectorize=True))"
   ]
  },
  {
   "cell_type": "code",
   "execution_count": 30,
   "metadata": {},
   "outputs": [
    {
     "data": {
      "image/png": "[encoded data removed]",
      "text/plain": [
       "<Figure size 432x288 with 1 Axes>"
      ]
     },
     "metadata": {},
     "output_type": "display_data"
    }
   ],
   "source": [
    "from matplotlib import pyplot as plt\n",
    "import seaborn as sns; sns.set()\n",
    "plt.plot(np.cumsum(runtime));"
   ]
  },
  {
   "cell_type": "code",
   "execution_count": 32,
   "metadata": {},
   "outputs": [
    {
     "data": {
      "text/plain": [
       "array([0.33471616, 0.30426431, 0.41941215, 0.21781206, 0.19938613,\n",
       "       0.28478217, 0.28986835, 0.29644902, 0.4048617 ])"
      ]
     },
     "execution_count": 32,
     "metadata": {},
     "output_type": "execute_result"
    }
   ],
   "source": [
    "np.mean(scores, axis=0)"
   ]
  },
  {
   "cell_type": "code",
   "execution_count": 22,
   "metadata": {},
   "outputs": [
    {
     "name": "stdout",
     "output_type": "stream",
     "text": [
      "as the lights went down at the nearly sold-out house of blues on saturday, robert johnson's 1936 delta blues “cross roads” came up, and 19-year-old jake bugg ambled onto the darkened stage with his two bandmates, greeted by shrieks from all sides.\n",
      "with his fetching mop top and boyish charm, this jb comes off like the anti-pop justin beiber, reviving rock ’n’ roll as sincere but sexy folk music for the long-tailed digital age.\n"
     ]
    }
   ],
   "source": [
    "summary = summarize(doc)\n",
    "print(summary)"
   ]
  },
  {
   "cell_type": "code",
   "execution_count": 23,
   "metadata": {},
   "outputs": [
    {
     "name": "stdout",
     "output_type": "stream",
     "text": [
      "Overlap 1-gram \t\t\tF1: 0.552\n",
      "Overlap 1-gram \t\t\tPrecision: 0.815\n",
      "Overlap 1-gram \t\t\tRecall: 0.417\n",
      "Overlap bi-gram \t\tF1: 0.430\n",
      "Overlap bi-gram \t\tPrecision: 0.681\n",
      "Overlap bi-gram \t\tRecall: 0.314\n",
      "Longest Common Subsequence \tF1: 0.464\n",
      "Longest Common Subsequence \tPrecision: 0.815\n",
      "Longest Common Subsequence \tRecall: 0.417\n"
     ]
    }
   ],
   "source": [
    "utils.get_rouge_score(summary, ref);"
   ]
  },
  {
   "cell_type": "markdown",
   "metadata": {
    "heading_collapsed": true
   },
   "source": [
    "### Skip Thoughts"
   ]
  },
  {
   "cell_type": "code",
   "execution_count": 3,
   "metadata": {
    "hidden": true,
    "scrolled": true
   },
   "outputs": [
    {
     "name": "stdout",
     "output_type": "stream",
     "text": [
      "Loading model parameters...\n",
      "Compiling encoders...\n",
      "Loading tables...\n",
      "Packing up...\n"
     ]
    }
   ],
   "source": [
    "import skipthoughts\n",
    "model = skipthoughts.load_model()\n",
    "encoder = skipthoughts.Encoder(model)"
   ]
  },
  {
   "cell_type": "code",
   "execution_count": 12,
   "metadata": {
    "hidden": true
   },
   "outputs": [],
   "source": [
    "X = doc.split('. ')"
   ]
  },
  {
   "cell_type": "code",
   "execution_count": 13,
   "metadata": {
    "hidden": true
   },
   "outputs": [
    {
     "data": {
      "text/plain": [
       "[\"as the lights went down at the nearly sold-out house of blues on saturday, robert johnson's 1936 delta blues “cross roads” came up, and 19-year-old jake bugg ambled onto the darkened stage with his two bandmates, greeted by shrieks from all sides\",\n",
       " ' with his fetching mop top and boyish charm, this jb comes off like the anti-pop justin beiber, reviving rock ’n’ roll as sincere but sexy folk music for the long-tailed digital age',\n",
       " \" “definitely not the radio,” said 17-year-old stoneham resident caroline thompson when asked how she'd learned about the english singer-songwriter, whose 2012 debut topped the uk charts but never broke the us top 40\",\n",
       " 'instead, thompson and two separately interviewed older male concertgoers credited music festivals',\n",
       " 'to promote his second album, “shangri la,” bugg has performed in boston several times recently, at successively larger venues',\n",
       " ' at the 2,400-capacity house of blues, the bassist and drummer planted themselves at either end of the large stage and bugg took the center, clutching a classical acoustic guitar',\n",
       " \"from the opening dylan-esque word-spree “there's a beast and we all feed it,” the singer's evident absorption in the music captivated the notably diverse crowd, and he won cheers simply by wandering here or glancing there\",\n",
       " ' the excitement held firm through the first eight numbers, each a striking uptempo amalgam of old folk, skiffle, and rockabilly styles, climaxing with the instantly winning “two fingers” and — after bugg switched to electric guitar — the new “messed up kids.” the mood ebbed during a couple of tender acoustic ballads and the long jag of bluesy and punky numbers that closed the hourlong set',\n",
       " 'but a three-song encore grabbed it back',\n",
       " \"it included bugg’s strong rendition of neil young's “my my, hey hey,” during which he delivered the line “rock ’n’ roll can never die” as if it were still feasible\",\n",
       " ' fronting a black-clad five-piece band, albert hammond jr., of the strokes, preceded bugg with cliché-tinged songs and a smug indifference that showed why the claim was ever in doubt.']"
      ]
     },
     "execution_count": 13,
     "metadata": {},
     "output_type": "execute_result"
    }
   ],
   "source": [
    "X"
   ]
  },
  {
   "cell_type": "code",
   "execution_count": 15,
   "metadata": {
    "hidden": true
   },
   "outputs": [
    {
     "name": "stdout",
     "output_type": "stream",
     "text": [
      "48\n",
      "36\n",
      "38\n",
      "13\n",
      "24\n",
      "31\n",
      "42\n",
      "74\n",
      "7\n",
      "41\n",
      "33\n"
     ]
    }
   ],
   "source": [
    "vectors = encoder.encode(X) "
   ]
  },
  {
   "cell_type": "code",
   "execution_count": 16,
   "metadata": {
    "hidden": true
   },
   "outputs": [
    {
     "data": {
      "text/plain": [
       "(11, 4800)"
      ]
     },
     "execution_count": 16,
     "metadata": {},
     "output_type": "execute_result"
    }
   ],
   "source": [
    "vectors.shape"
   ]
  },
  {
   "cell_type": "code",
   "execution_count": null,
   "metadata": {
    "hidden": true
   },
   "outputs": [],
   "source": []
  },
  {
   "cell_type": "markdown",
   "metadata": {},
   "source": [
    "## Rest of the stuff"
   ]
  },
  {
   "cell_type": "code",
   "execution_count": 3,
   "metadata": {},
   "outputs": [
    {
     "name": "stdout",
     "output_type": "stream",
     "text": [
      "# sentence: 26, # vocab: 231\n",
      "# of selected exemplar: 5\n",
      "\n",
      "Title: NEW YORKERS' ONLY REGRET WAS STAYING HOME\n",
      "\n",
      "=============== Referecne Text ==============\n",
      "As many black men marched on Washington yesterday, some New Yorkers spoke of their pride in the event and their disappointment in not being there, too. \"I felt like the only black person working,\"said Roderick Vinson, 38, of Harlem. \"That feeling made me sick to my stomach. I couldn't believe I missed one of the important events of my life.\"Winston Ford, 50, had to work, too. He makes his living selling\n",
      "-----\n",
      "Word count:71\n",
      "\n",
      "========== Extracted summary: SMRS ==========\n",
      "If we worked together, we'd be a great nation.\" \"whites and blacks need each other. Winston ford, 50, had to work, too. \"farrakhan's wrong,\" said allen washington, 61, a retired triborough bridge and tunnel authority worker. Charles williams, 45, an east elmhurst, queens, graphics worker, decided that the event was hollow.\n",
      "-----\n",
      "Word count:51\n",
      "SMRS computation time: 0.371\n",
      "\n",
      "========== Extracted summary: TextRank ==========\n",
      "this story was reported by: nick charles, austin evans fenner and samson mulugeta it was written by: karen hunter  tuesday, october 17th 1995, 4:20am  as many black men marched on washington yesterday, some new yorkers spoke of their pride in the event and their disappointment in not being there, too.\n",
      "but some other black new yorkers said they had no use for march organizer louis farrakhan and made no apologies for missing the rally.\n",
      "if we worked together, we'd be a great nation.\"  \"louis farrakhan shouldn't be at the march because of the remarks he has made about jews and whites,\" agreed brooklyn construction worker cyril peter, 35.\n",
      "\"it isn't about jobs or housing, it's just about a paper platform.\"  still, drug counselor jeanette morgan was bursting with hope and pride as she sipped coffee in a queens diner and thought about her brothers, sons and grandsons marching in washington.\n",
      "TextRank computation time: 0.005\n",
      "\n",
      "========== Extracted summary: Tfidf ==========\n",
      "\"the calling of the march made me realize my responsibility,\" he said. Still, drug counselor jeanette morgan was bursting with hope and pride as she sipped coffee in a queens diner and thought about her brothers, sons and grandsons marching in washington. \"there is no agenda,\" he said. \"it isn't about jobs or housing, it's just about a paper platform.\" \"when the men return, i hope they go to their brothers at a street corner and offer to help.\"\n",
      "-----\n",
      "Word count:79\n",
      "Tfidf computation time: 0.004\n",
      "\n",
      "====== Extracted summary: sentence embeddings ======\n",
      "\"that feeling made me sick to my stomach. \"farrakhan's wrong,\" said allen washington, 61, a retired triborough bridge and tunnel authority worker. \"whites and blacks need each other. \"there is no agenda,\" he said. \"these are the brothers who could have used the march the most.\"\n",
      "-----\n",
      "Word count:46\n",
      "Sentence embedding computation time: 0.001\n"
     ]
    }
   ],
   "source": [
    "doc_idx = 0\n",
    "doc = news_text[doc_idx]\n",
    "ref = news_refs[doc_idx]\n",
    "title = news_titles[doc_idx]\n",
    "\n",
    "k=5\n",
    "methods = ['SMRS', 'TextRank', 'tfidf', 'embed']\n",
    "extract_summary(doc, ref, title, ratio=0.2, report_rouge=False, methods=methods, print_summary=True);"
   ]
  },
  {
   "cell_type": "markdown",
   "metadata": {},
   "source": [
    "### ROUGE Score"
   ]
  },
  {
   "cell_type": "code",
   "execution_count": 5,
   "metadata": {},
   "outputs": [
    {
     "name": "stdout",
     "output_type": "stream",
     "text": [
      "\n",
      "=============== ROUGE Scores ===============\n",
      "\n",
      "SMRS\n",
      "Overlap 1-gram \t\t\tF1: 0.145\n",
      "Overlap 1-gram \t\t\tPrecision: 0.160\n",
      "Overlap 1-gram \t\t\tRecall: 0.133\n",
      "Overlap bi-gram \t\tF1: 0.082\n",
      "Overlap bi-gram \t\tPrecision: 0.098\n",
      "Overlap bi-gram \t\tRecall: 0.070\n",
      "Longest Common Subsequence \tF1: 0.143\n",
      "Longest Common Subsequence \tPrecision: 0.160\n",
      "Longest Common Subsequence \tRecall: 0.133\n",
      "\n",
      "TextRank\n",
      "Overlap 1-gram \t\t\tF1: 0.250\n",
      "Overlap 1-gram \t\t\tPrecision: 0.190\n",
      "Overlap 1-gram \t\t\tRecall: 0.367\n",
      "Overlap bi-gram \t\tF1: 0.181\n",
      "Overlap bi-gram \t\tPrecision: 0.133\n",
      "Overlap bi-gram \t\tRecall: 0.282\n",
      "Longest Common Subsequence \tF1: 0.211\n",
      "Longest Common Subsequence \tPrecision: 0.190\n",
      "Longest Common Subsequence \tRecall: 0.367\n",
      "\n",
      "tfidf\n",
      "Overlap 1-gram \t\t\tF1: 0.173\n",
      "Overlap 1-gram \t\t\tPrecision: 0.164\n",
      "Overlap 1-gram \t\t\tRecall: 0.183\n",
      "Overlap bi-gram \t\tF1: 0.027\n",
      "Overlap bi-gram \t\tPrecision: 0.025\n",
      "Overlap bi-gram \t\tRecall: 0.028\n",
      "Longest Common Subsequence \tF1: 0.172\n",
      "Longest Common Subsequence \tPrecision: 0.164\n",
      "Longest Common Subsequence \tRecall: 0.183\n",
      "\n",
      "embed\n",
      "Overlap 1-gram \t\t\tF1: 0.175\n",
      "Overlap 1-gram \t\t\tPrecision: 0.209\n",
      "Overlap 1-gram \t\t\tRecall: 0.150\n",
      "Overlap bi-gram \t\tF1: 0.103\n",
      "Overlap bi-gram \t\tPrecision: 0.130\n",
      "Overlap bi-gram \t\tRecall: 0.085\n",
      "Longest Common Subsequence \tF1: 0.166\n",
      "Longest Common Subsequence \tPrecision: 0.209\n",
      "Longest Common Subsequence \tRecall: 0.150\n",
      "CPU times: user 6.85 s, sys: 479 ms, total: 7.33 s\n",
      "Wall time: 10.2 s\n"
     ]
    }
   ],
   "source": [
    "%%time\n",
    "_ = extract_summary(doc, ref, title, k=k, report_rouge=True, rouge_embed=False, \n",
    "                    methods=methods, print_summary=False, print_rouge=True);"
   ]
  },
  {
   "cell_type": "markdown",
   "metadata": {},
   "source": [
    "### Word Embedding ROUGE Score"
   ]
  },
  {
   "cell_type": "code",
   "execution_count": 9,
   "metadata": {
    "scrolled": false
   },
   "outputs": [
    {
     "name": "stdout",
     "output_type": "stream",
     "text": [
      "\n",
      "=============== ROUGE Scores ===============\n",
      "\n",
      "SMRS\n",
      "Overlap 1-gram \t\t\tF1: 0.497\n",
      "Overlap 1-gram \t\t\tPrecision: 0.483\n",
      "Overlap 1-gram \t\t\tRecall: 0.513\n",
      "Overlap bi-gram \t\tF1: 0.652\n",
      "Overlap bi-gram \t\tPrecision: 0.668\n",
      "Overlap bi-gram \t\tRecall: 0.636\n",
      "Longest Common Subsequence \tF1: 0.550\n",
      "Longest Common Subsequence \tPrecision: 0.615\n",
      "Longest Common Subsequence \tRecall: 0.513\n",
      "\n",
      "TextRank\n",
      "Overlap 1-gram \t\t\tF1: 0.461\n",
      "Overlap 1-gram \t\t\tPrecision: 0.406\n",
      "Overlap 1-gram \t\t\tRecall: 0.533\n",
      "Overlap bi-gram \t\tF1: 0.597\n",
      "Overlap bi-gram \t\tPrecision: 0.531\n",
      "Overlap bi-gram \t\tRecall: 0.682\n",
      "Longest Common Subsequence \tF1: 0.307\n",
      "Longest Common Subsequence \tPrecision: 0.275\n",
      "Longest Common Subsequence \tRecall: 0.533\n",
      "\n",
      "tfidf\n",
      "Overlap 1-gram \t\t\tF1: 0.459\n",
      "Overlap 1-gram \t\t\tPrecision: 0.431\n",
      "Overlap 1-gram \t\t\tRecall: 0.492\n",
      "Overlap bi-gram \t\tF1: 0.570\n",
      "Overlap bi-gram \t\tPrecision: 0.542\n",
      "Overlap bi-gram \t\tRecall: 0.601\n",
      "Longest Common Subsequence \tF1: 0.422\n",
      "Longest Common Subsequence \tPrecision: 0.388\n",
      "Longest Common Subsequence \tRecall: 0.492\n",
      "\n",
      "embed\n",
      "Overlap 1-gram \t\t\tF1: 0.473\n",
      "Overlap 1-gram \t\t\tPrecision: 0.494\n",
      "Overlap 1-gram \t\t\tRecall: 0.453\n",
      "Overlap bi-gram \t\tF1: 0.612\n",
      "Overlap bi-gram \t\tPrecision: 0.654\n",
      "Overlap bi-gram \t\tRecall: 0.575\n",
      "Longest Common Subsequence \tF1: 0.506\n",
      "Longest Common Subsequence \tPrecision: 0.799\n",
      "Longest Common Subsequence \tRecall: 0.453\n",
      "CPU times: user 1min 33s, sys: 5.62 s, total: 1min 39s\n",
      "Wall time: 1min 43s\n"
     ]
    }
   ],
   "source": [
    "%%time\n",
    "_ = extract_summary(doc, ref, title, k=k, report_rouge=True, rouge_embed=True, \n",
    "                    methods=methods, print_summary=False, print_rouge=True);"
   ]
  },
  {
   "cell_type": "markdown",
   "metadata": {},
   "source": [
    "### ROUGE Score Across Documents"
   ]
  },
  {
   "cell_type": "code",
   "execution_count": 3,
   "metadata": {},
   "outputs": [],
   "source": [
    "k = 5\n",
    "start = 0\n",
    "num_articles = 20\n",
    "articles = news_text[start : start + num_articles]\n",
    "references = news_refs[start : start + num_articles]\n",
    "titles = news_titles[start : start + num_articles]"
   ]
  },
  {
   "cell_type": "code",
   "execution_count": 4,
   "metadata": {},
   "outputs": [
    {
     "name": "stdout",
     "output_type": "stream",
     "text": [
      "====================== Mean ======================\n"
     ]
    },
    {
     "data": {
      "text/html": [
       "<div>\n",
       "<style scoped>\n",
       "    .dataframe tbody tr th:only-of-type {\n",
       "        vertical-align: middle;\n",
       "    }\n",
       "\n",
       "    .dataframe tbody tr th {\n",
       "        vertical-align: top;\n",
       "    }\n",
       "\n",
       "    .dataframe thead th {\n",
       "        text-align: right;\n",
       "    }\n",
       "</style>\n",
       "<table border=\"1\" class=\"dataframe\">\n",
       "  <thead>\n",
       "    <tr style=\"text-align: right;\">\n",
       "      <th></th>\n",
       "      <th>SMRS</th>\n",
       "      <th>tfidf</th>\n",
       "      <th>embed</th>\n",
       "    </tr>\n",
       "  </thead>\n",
       "  <tbody>\n",
       "    <tr>\n",
       "      <th>1-gram F1</th>\n",
       "      <td>0.179896</td>\n",
       "      <td>0.311096</td>\n",
       "      <td>0.237747</td>\n",
       "    </tr>\n",
       "    <tr>\n",
       "      <th>1-gram Precision</th>\n",
       "      <td>0.271224</td>\n",
       "      <td>0.305669</td>\n",
       "      <td>0.363580</td>\n",
       "    </tr>\n",
       "    <tr>\n",
       "      <th>1-gram Recall</th>\n",
       "      <td>0.146557</td>\n",
       "      <td>0.333223</td>\n",
       "      <td>0.189730</td>\n",
       "    </tr>\n",
       "    <tr>\n",
       "      <th>bi-gram F1</th>\n",
       "      <td>0.081752</td>\n",
       "      <td>0.184831</td>\n",
       "      <td>0.125861</td>\n",
       "    </tr>\n",
       "    <tr>\n",
       "      <th>bi-gram Precision</th>\n",
       "      <td>0.134461</td>\n",
       "      <td>0.180071</td>\n",
       "      <td>0.194909</td>\n",
       "    </tr>\n",
       "    <tr>\n",
       "      <th>bi-gram Recall</th>\n",
       "      <td>0.065963</td>\n",
       "      <td>0.202139</td>\n",
       "      <td>0.100072</td>\n",
       "    </tr>\n",
       "    <tr>\n",
       "      <th>longest common F1</th>\n",
       "      <td>0.152987</td>\n",
       "      <td>0.285602</td>\n",
       "      <td>0.200215</td>\n",
       "    </tr>\n",
       "    <tr>\n",
       "      <th>longest common Precision</th>\n",
       "      <td>0.265233</td>\n",
       "      <td>0.292907</td>\n",
       "      <td>0.357865</td>\n",
       "    </tr>\n",
       "    <tr>\n",
       "      <th>longest common Recall</th>\n",
       "      <td>0.143060</td>\n",
       "      <td>0.320208</td>\n",
       "      <td>0.185959</td>\n",
       "    </tr>\n",
       "    <tr>\n",
       "      <th>runtime</th>\n",
       "      <td>0.442194</td>\n",
       "      <td>0.003809</td>\n",
       "      <td>0.000979</td>\n",
       "    </tr>\n",
       "    <tr>\n",
       "      <th>word count</th>\n",
       "      <td>56.150000</td>\n",
       "      <td>136.250000</td>\n",
       "      <td>55.500000</td>\n",
       "    </tr>\n",
       "  </tbody>\n",
       "</table>\n",
       "</div>"
      ],
      "text/plain": [
       "                               SMRS       tfidf      embed\n",
       "1-gram F1                  0.179896    0.311096   0.237747\n",
       "1-gram Precision           0.271224    0.305669   0.363580\n",
       "1-gram Recall              0.146557    0.333223   0.189730\n",
       "bi-gram F1                 0.081752    0.184831   0.125861\n",
       "bi-gram Precision          0.134461    0.180071   0.194909\n",
       "bi-gram Recall             0.065963    0.202139   0.100072\n",
       "longest common F1          0.152987    0.285602   0.200215\n",
       "longest common Precision   0.265233    0.292907   0.357865\n",
       "longest common Recall      0.143060    0.320208   0.185959\n",
       "runtime                    0.442194    0.003809   0.000979\n",
       "word count                56.150000  136.250000  55.500000"
      ]
     },
     "metadata": {},
     "output_type": "display_data"
    },
    {
     "name": "stdout",
     "output_type": "stream",
     "text": [
      "CPU times: user 2min 42s, sys: 10 s, total: 2min 52s\n",
      "Wall time: 3min 53s\n"
     ]
    }
   ],
   "source": [
    "%%time\n",
    "methods = ['SMRS', 'tfidf', 'embed']\n",
    "rouge_mean, rouge_median, rouge_std = report_rouge_scores(articles, references, titles, k, methods=methods)\n",
    "\n",
    "index =  ['1-gram F1', '1-gram Precision', '1-gram Recall', 'bi-gram F1', 'bi-gram Precision', 'bi-gram Recall', \n",
    "          'longest common F1', 'longest common Precision', 'longest common Recall', 'runtime', 'word count']\n",
    "\n",
    "print('=' * 22 + ' Mean ' + '=' * 22)\n",
    "rouge_mean.index = index\n",
    "display(rouge_mean)\n",
    "\n",
    "# print('=' * 21 + ' Median ' + '=' * 21)\n",
    "# rouge_median.index = index\n",
    "# display(rouge_median)\n",
    "\n",
    "# print('=' * 15 + ' Standard Deviation ' + '=' * 15)\n",
    "# rouge_std.index = index\n",
    "# display(rouge_std)"
   ]
  },
  {
   "cell_type": "code",
   "execution_count": 5,
   "metadata": {},
   "outputs": [
    {
     "name": "stdout",
     "output_type": "stream",
     "text": [
      "====================== Mean ======================\n"
     ]
    },
    {
     "data": {
      "text/html": [
       "<div>\n",
       "<style scoped>\n",
       "    .dataframe tbody tr th:only-of-type {\n",
       "        vertical-align: middle;\n",
       "    }\n",
       "\n",
       "    .dataframe tbody tr th {\n",
       "        vertical-align: top;\n",
       "    }\n",
       "\n",
       "    .dataframe thead th {\n",
       "        text-align: right;\n",
       "    }\n",
       "</style>\n",
       "<table border=\"1\" class=\"dataframe\">\n",
       "  <thead>\n",
       "    <tr style=\"text-align: right;\">\n",
       "      <th></th>\n",
       "      <th>SMRS</th>\n",
       "      <th>tfidf</th>\n",
       "      <th>embed</th>\n",
       "    </tr>\n",
       "  </thead>\n",
       "  <tbody>\n",
       "    <tr>\n",
       "      <th>1-gram F1</th>\n",
       "      <td>0.287058</td>\n",
       "      <td>0.273905</td>\n",
       "      <td>0.237281</td>\n",
       "    </tr>\n",
       "    <tr>\n",
       "      <th>1-gram Precision</th>\n",
       "      <td>0.361992</td>\n",
       "      <td>0.292616</td>\n",
       "      <td>0.378531</td>\n",
       "    </tr>\n",
       "    <tr>\n",
       "      <th>1-gram Recall</th>\n",
       "      <td>0.251540</td>\n",
       "      <td>0.274448</td>\n",
       "      <td>0.184089</td>\n",
       "    </tr>\n",
       "    <tr>\n",
       "      <th>bi-gram F1</th>\n",
       "      <td>0.170755</td>\n",
       "      <td>0.142804</td>\n",
       "      <td>0.116702</td>\n",
       "    </tr>\n",
       "    <tr>\n",
       "      <th>bi-gram Precision</th>\n",
       "      <td>0.217212</td>\n",
       "      <td>0.152740</td>\n",
       "      <td>0.195183</td>\n",
       "    </tr>\n",
       "    <tr>\n",
       "      <th>bi-gram Recall</th>\n",
       "      <td>0.148060</td>\n",
       "      <td>0.143740</td>\n",
       "      <td>0.090470</td>\n",
       "    </tr>\n",
       "    <tr>\n",
       "      <th>longest common F1</th>\n",
       "      <td>0.259015</td>\n",
       "      <td>0.248691</td>\n",
       "      <td>0.193543</td>\n",
       "    </tr>\n",
       "    <tr>\n",
       "      <th>longest common Precision</th>\n",
       "      <td>0.355476</td>\n",
       "      <td>0.279486</td>\n",
       "      <td>0.367970</td>\n",
       "    </tr>\n",
       "    <tr>\n",
       "      <th>longest common Recall</th>\n",
       "      <td>0.246831</td>\n",
       "      <td>0.262465</td>\n",
       "      <td>0.178213</td>\n",
       "    </tr>\n",
       "    <tr>\n",
       "      <th>runtime</th>\n",
       "      <td>0.454183</td>\n",
       "      <td>0.003967</td>\n",
       "      <td>0.000970</td>\n",
       "    </tr>\n",
       "    <tr>\n",
       "      <th>word count</th>\n",
       "      <td>78.400000</td>\n",
       "      <td>109.250000</td>\n",
       "      <td>52.250000</td>\n",
       "    </tr>\n",
       "  </tbody>\n",
       "</table>\n",
       "</div>"
      ],
      "text/plain": [
       "                               SMRS       tfidf      embed\n",
       "1-gram F1                  0.287058    0.273905   0.237281\n",
       "1-gram Precision           0.361992    0.292616   0.378531\n",
       "1-gram Recall              0.251540    0.274448   0.184089\n",
       "bi-gram F1                 0.170755    0.142804   0.116702\n",
       "bi-gram Precision          0.217212    0.152740   0.195183\n",
       "bi-gram Recall             0.148060    0.143740   0.090470\n",
       "longest common F1          0.259015    0.248691   0.193543\n",
       "longest common Precision   0.355476    0.279486   0.367970\n",
       "longest common Recall      0.246831    0.262465   0.178213\n",
       "runtime                    0.454183    0.003967   0.000970\n",
       "word count                78.400000  109.250000  52.250000"
      ]
     },
     "metadata": {},
     "output_type": "display_data"
    },
    {
     "name": "stdout",
     "output_type": "stream",
     "text": [
      "CPU times: user 2min 30s, sys: 9.92 s, total: 2min 39s\n",
      "Wall time: 3min 41s\n"
     ]
    }
   ],
   "source": [
    "%%time\n",
    "# remove stop words\n",
    "methods = ['SMRS', 'tfidf', 'embed']\n",
    "rouge_mean, rouge_median, rouge_std = report_rouge_scores(articles, references, titles, k, methods=methods)\n",
    "\n",
    "index =  ['1-gram F1', '1-gram Precision', '1-gram Recall', 'bi-gram F1', 'bi-gram Precision', 'bi-gram Recall', \n",
    "          'longest common F1', 'longest common Precision', 'longest common Recall', 'runtime', 'word count']\n",
    "\n",
    "print('=' * 22 + ' Mean ' + '=' * 22)\n",
    "rouge_mean.index = index\n",
    "display(rouge_mean)\n",
    "\n",
    "# print('=' * 21 + ' Median ' + '=' * 21)\n",
    "# rouge_median.index = index\n",
    "# display(rouge_median)\n",
    "\n",
    "# print('=' * 15 + ' Standard Deviation ' + '=' * 15)\n",
    "# rouge_std.index = index\n",
    "# display(rouge_std)"
   ]
  },
  {
   "cell_type": "markdown",
   "metadata": {
    "heading_collapsed": true
   },
   "source": [
    "### Word Embedding ROUGE Score Across Documents"
   ]
  },
  {
   "cell_type": "code",
   "execution_count": 32,
   "metadata": {
    "hidden": true
   },
   "outputs": [
    {
     "name": "stdout",
     "output_type": "stream",
     "text": [
      "====================== Mean ======================\n"
     ]
    },
    {
     "data": {
      "text/html": [
       "<div>\n",
       "<style scoped>\n",
       "    .dataframe tbody tr th:only-of-type {\n",
       "        vertical-align: middle;\n",
       "    }\n",
       "\n",
       "    .dataframe tbody tr th {\n",
       "        vertical-align: top;\n",
       "    }\n",
       "\n",
       "    .dataframe thead th {\n",
       "        text-align: right;\n",
       "    }\n",
       "</style>\n",
       "<table border=\"1\" class=\"dataframe\">\n",
       "  <thead>\n",
       "    <tr style=\"text-align: right;\">\n",
       "      <th></th>\n",
       "      <th>SMRS</th>\n",
       "      <th>tfidf</th>\n",
       "      <th>embed</th>\n",
       "    </tr>\n",
       "  </thead>\n",
       "  <tbody>\n",
       "    <tr>\n",
       "      <th>1-gram F1</th>\n",
       "      <td>0.675342</td>\n",
       "      <td>0.719069</td>\n",
       "      <td>0.704342</td>\n",
       "    </tr>\n",
       "    <tr>\n",
       "      <th>1-gram Precision</th>\n",
       "      <td>0.754768</td>\n",
       "      <td>0.727654</td>\n",
       "      <td>0.794987</td>\n",
       "    </tr>\n",
       "    <tr>\n",
       "      <th>1-gram Recall</th>\n",
       "      <td>0.615283</td>\n",
       "      <td>0.714310</td>\n",
       "      <td>0.636428</td>\n",
       "    </tr>\n",
       "    <tr>\n",
       "      <th>bi-gram F1</th>\n",
       "      <td>0.737543</td>\n",
       "      <td>0.780718</td>\n",
       "      <td>0.761497</td>\n",
       "    </tr>\n",
       "    <tr>\n",
       "      <th>bi-gram Precision</th>\n",
       "      <td>0.791181</td>\n",
       "      <td>0.787599</td>\n",
       "      <td>0.812032</td>\n",
       "    </tr>\n",
       "    <tr>\n",
       "      <th>bi-gram Recall</th>\n",
       "      <td>0.692878</td>\n",
       "      <td>0.775532</td>\n",
       "      <td>0.718319</td>\n",
       "    </tr>\n",
       "    <tr>\n",
       "      <th>longest common F1</th>\n",
       "      <td>0.667800</td>\n",
       "      <td>0.685582</td>\n",
       "      <td>0.686588</td>\n",
       "    </tr>\n",
       "    <tr>\n",
       "      <th>longest common Precision</th>\n",
       "      <td>1.676865</td>\n",
       "      <td>0.885565</td>\n",
       "      <td>1.918299</td>\n",
       "    </tr>\n",
       "    <tr>\n",
       "      <th>longest common Recall</th>\n",
       "      <td>0.615283</td>\n",
       "      <td>0.714310</td>\n",
       "      <td>0.636428</td>\n",
       "    </tr>\n",
       "    <tr>\n",
       "      <th>runtime</th>\n",
       "      <td>0.445395</td>\n",
       "      <td>0.004235</td>\n",
       "      <td>0.001116</td>\n",
       "    </tr>\n",
       "    <tr>\n",
       "      <th>word count</th>\n",
       "      <td>47.800000</td>\n",
       "      <td>135.800000</td>\n",
       "      <td>50.100000</td>\n",
       "    </tr>\n",
       "  </tbody>\n",
       "</table>\n",
       "</div>"
      ],
      "text/plain": [
       "                               SMRS       tfidf      embed\n",
       "1-gram F1                  0.675342    0.719069   0.704342\n",
       "1-gram Precision           0.754768    0.727654   0.794987\n",
       "1-gram Recall              0.615283    0.714310   0.636428\n",
       "bi-gram F1                 0.737543    0.780718   0.761497\n",
       "bi-gram Precision          0.791181    0.787599   0.812032\n",
       "bi-gram Recall             0.692878    0.775532   0.718319\n",
       "longest common F1          0.667800    0.685582   0.686588\n",
       "longest common Precision   1.676865    0.885565   1.918299\n",
       "longest common Recall      0.615283    0.714310   0.636428\n",
       "runtime                    0.445395    0.004235   0.001116\n",
       "word count                47.800000  135.800000  50.100000"
      ]
     },
     "metadata": {},
     "output_type": "display_data"
    },
    {
     "name": "stdout",
     "output_type": "stream",
     "text": [
      "CPU times: user 15min 50s, sys: 49.6 s, total: 16min 39s\n",
      "Wall time: 17min 13s\n"
     ]
    }
   ],
   "source": [
    "%%time\n",
    "rouge_mean_embed, rouge_median_embed, rouge_std_embed = report_rouge_scores(articles, references, titles, k, \n",
    "                                                                            rouge_embed=True, methods=methods)\n",
    "\n",
    "print('=' * 22 + ' Mean ' + '=' * 22)\n",
    "rouge_mean_embed.index = index\n",
    "display(rouge_mean_embed)\n",
    "\n",
    "# print('=' * 21 + ' Median ' + '=' * 21)\n",
    "# rouge_median_embed.index = index\n",
    "# display(rouge_median_embed)\n",
    "\n",
    "# print('=' * 15 + ' Standard Deviation ' + '=' * 15)\n",
    "# rouge_std_embed.index = index\n",
    "# display(rouge_std_embed)"
   ]
  },
  {
   "cell_type": "markdown",
   "metadata": {},
   "source": [
    "### Runtime"
   ]
  },
  {
   "cell_type": "code",
   "execution_count": null,
   "metadata": {},
   "outputs": [],
   "source": [
    "%%time\n",
    "k=5\n",
    "num_articles = 100\n",
    "methods = ['embed']\n",
    "word_count_list, runtime_list = [], []\n",
    "count = 1\n",
    "for doc, ref, title in zip(news_text[:num_articles], news_refs[:num_articles], news_titles[:num_articles]):\n",
    "    if count % 10 == 0: print('Processed %d documents' %count)\n",
    "    _, word_count, runtime = extract_summary(doc, ref, title, k=k, report_rouge=False, methods=methods, print_summary=False);\n",
    "    word_count_list.append(word_count)\n",
    "    runtime_list.append(runtime)"
   ]
  },
  {
   "cell_type": "code",
   "execution_count": null,
   "metadata": {},
   "outputs": [],
   "source": [
    "k = 5\n",
    "start = 0\n",
    "num_articles = 100\n",
    "articles = news_text[start : start + num_articles]\n",
    "references = news_refs[start : start + num_articles]\n",
    "titles = news_titles[start : start + num_articles]\n",
    "\n",
    "methods = ['SMRS', 'tfidf', 'embed']\n",
    "rouge_mean, rouge_median, rouge_std = report_rouge_scores(articles, references, titles, k, methods=methods)\n",
    "\n",
    "index =  ['1-gram F1', '1-gram Precision', '1-gram Recall', 'bi-gram F1', 'bi-gram Precision', 'bi-gram Recall', \n",
    "          'longest common F1', 'longest common Precision', 'longest common Recall', 'runtime', 'word count']\n",
    "\n",
    "print('=' * 22 + ' Mean ' + '=' * 22)\n",
    "rouge_mean.index = index\n",
    "display(rouge_mean)"
   ]
  }
 ],
 "metadata": {
  "hide_input": false,
  "kernelspec": {
   "display_name": "Python 3",
   "language": "python",
   "name": "python3"
  },
  "language_info": {
   "codemirror_mode": {
    "name": "ipython",
    "version": 3
   },
   "file_extension": ".py",
   "mimetype": "text/x-python",
   "name": "python",
   "nbconvert_exporter": "python",
   "pygments_lexer": "ipython3",
   "version": "3.7.3"
  },
  "varInspector": {
   "cols": {
    "lenName": 16,
    "lenType": 16,
    "lenVar": 40
   },
   "kernels_config": {
    "python": {
     "delete_cmd_postfix": "",
     "delete_cmd_prefix": "del ",
     "library": "var_list.py",
     "varRefreshCmd": "print(var_dic_list())"
    },
    "r": {
     "delete_cmd_postfix": ") ",
     "delete_cmd_prefix": "rm(",
     "library": "var_list.r",
     "varRefreshCmd": "cat(var_dic_list()) "
    }
   },
   "types_to_exclude": [
    "module",
    "function",
    "builtin_function_or_method",
    "instance",
    "_Feature"
   ],
   "window_display": false
  }
 },
 "nbformat": 4,
 "nbformat_minor": 2
}
