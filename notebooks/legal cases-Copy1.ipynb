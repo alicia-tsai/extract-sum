{
 "cells": [
  {
   "cell_type": "code",
   "execution_count": 1,
   "metadata": {},
   "outputs": [
    {
     "name": "stderr",
     "output_type": "stream",
     "text": [
      "/usr/lib/python3.7/site-packages/requests/__init__.py:91: RequestsDependencyWarning: urllib3 (1.25.2) or chardet (3.0.4) doesn't match a supported version!\n",
      "  RequestsDependencyWarning)\n"
     ]
    }
   ],
   "source": [
    "import sys\n",
    "sys.path.append('../src')\n",
    "\n",
    "import numpy as np\n",
    "import pandas as pd\n",
    "import data\n",
    "import utils\n",
    "from main import extract_summary, report_rouge_scores\n",
    "\n",
    "%load_ext autoreload\n",
    "%autoreload 2"
   ]
  },
  {
   "cell_type": "markdown",
   "metadata": {
    "heading_collapsed": true
   },
   "source": [
    "## Summarization"
   ]
  },
  {
   "cell_type": "code",
   "execution_count": 2,
   "metadata": {
    "hidden": true
   },
   "outputs": [
    {
     "name": "stdout",
     "output_type": "stream",
     "text": [
      "3540\n"
     ]
    }
   ],
   "source": [
    "# Get list of titles, reference summaries, and body text\n",
    "legal_titles, legal_refs, legal_text = data.get_legal_case_data()\n",
    "print(len(legal_text))"
   ]
  },
  {
   "cell_type": "code",
   "execution_count": 3,
   "metadata": {
    "hidden": true
   },
   "outputs": [],
   "source": [
    "doc_idx = 12\n",
    "doc = legal_text[doc_idx]\n",
    "ref = legal_refs[doc_idx]\n",
    "title = legal_titles[doc_idx]"
   ]
  },
  {
   "cell_type": "code",
   "execution_count": 6,
   "metadata": {
    "hidden": true,
    "scrolled": true
   },
   "outputs": [
    {
     "name": "stdout",
     "output_type": "stream",
     "text": [
      "Soruce Text: 96 sentences, 982 distinct vocab\n",
      "# of selected sentences: 9\n",
      "\n",
      "Title: Winspear v Mackinnon [2007] FCA 2077 (24 December 2007)\n",
      "\n",
      "=============== Referecne Text ==============\n",
      "member's remedies. correction of company register. oppressive conduct of affairs. whether plaintiff entitled to be registered as member of company. whether plaintiff a member of company for purposes of oppression suit. nunc pro tunc order. plaintiff claim to shares in company pursuant to agreements. whether plaintiff engaged in disentitling conduct or agreed to relinquish interest in shares held : plaintiff entitled to be registered. corporations\n",
      "-----\n",
      "Word count:65\n",
      "\n",
      "========== Extracted summary: First k ==========\n",
      " 1 it is a common lament that one can choose ones friends but not ones family..\n",
      "The circumstances of the current proceeding echo that lament..\n",
      "It is regrettable that the family dispute the subject of the application and cross-claim currently before the court ever had to be litigated.. 2 the primary issue for determination by the court is the entitlement or otherwise of the plaintiff, mrs rosalind winspear (rosalind) to shares in the third and fourth defendants, rocklands pty ltd and dalness pty ltd. rosalind seeks orders requiring those companies to correct their register of members to record her as a member and beneficial owner of one a class share and 25 b class shares in rocklands pty ltd; and the beneficial owner of 22,625 ordinary shares and the joint beneficial owner with the first defendant of one ordinary share in dalness pty ltd. rosalind also seeks orders that the companies be wound up and be required to sell properties owned by them.. 3 by their cross-claim the defendants seek declarations giving effect to what they allege were agreements entered into by rosalind on 18 january 2001 and 8 december 2001, which they say had the effect of her relinquishing all rights to shares in the companies..\n",
      "The defendants also seek a declaration that the plaintiff be estopped from denying the 2001 agreements on the basis that it would be unjust and unconscionable for her to do so..\n",
      "The crucial issue arising on the cross-claim is whether rosalind entered into a binding agreement, in 2001, to give up her entitlement to shares or engaged in any other relevant disentitling conduct..\n",
      "The family and its companies  4 in the 1820s, the mackinnon family acquired a property known as \"dalness\"..\n",
      "The property is situated about five kilometres east of evandale, near launceston airport in northern tasmania..\n",
      "In its current, form the property consists of four main blocks comprising some 1,623 hectares..\n",
      "They are called \"rocklands\", \"dalness\", \"woodmount\" and \"vinegar hill\"..\n",
      "-----\n",
      "Word count:328\n",
      "First_k selection computation time: 0.000\n",
      "\n",
      "========== Extracted summary: SMRS ==========\n",
      "I certify that the preceding fifty-seven (57) numbered paragraphs are a true copy of the reasons for judgment herein of the honourable justice marshall..\n",
      "These credits arose from income distribution from the trust..\n",
      "The \"difficult conditions\" was a reference to the financial difficulties which the winspears were experiencing, but there was no indication of any measurement by which those conditions could be adjudged to be no longer difficult..\n",
      "Selling partners in d l and d m partnership would have to agree revised arrangements with buying partners..\n",
      "They are called \"rocklands\", \"dalness\", \"woodmount\" and \"vinegar hill\"..\n",
      "The property is situated about five kilometres east of evandale, near launceston airport in northern tasmania..\n",
      "The chief idea was to make provision for michael to enable him to realise his move..\n",
      "So much was conceded from the bar table by the defendants senior counsel in his final submissions..\n",
      " 1 it is a common lament that one can choose ones friends but not ones family..\n",
      "-----\n",
      "Word count:160\n",
      "SMRS computation time: 1.547\n",
      "\n",
      "========== Extracted summary: TextRank ==========\n",
      "3 By their cross-claim the defendants seek declarations giving effect to what they allege were agreements entered into by Rosalind on 18 January 2001 and 8 December 2001, which they say had the effect of her relinquishing all rights to shares in the companies..\n",
      "8 On 3 December 1986, by a deed of appointment dated that day, Donald, pursuant to the D L Mackinnon Trust, irrevocably declared that the trustees of the D L Mackinnon Trust would, on Donalds death, hold the Trust Fund (that is, the 30,000 ordinary shares in Dalness Pty Ltd) as to:  • 15,000 of such shares absolutely for Neil; and • 15,000 of such shares absolutely for Rosalind..\n",
      "9 Also on 3 December 1986, by a deed of appointment of that date, Donald, pursuant to AEDMs will, irrevocably declared that the trustees of AEDMs will would on Donalds death hold the other 15,251 ordinary shares:  • as to one half absolutely for Neil; and • as to the other half absolutely for Rosalind..\n",
      "10 Subject to any agreement to the contrary or other disentitling conduct, Rosalind became entitled to those ordinary shares, referred to in the two preceding paragraphs, after Donalds death in February 2004..\n",
      "On 21 February 1975, the company allotted 50 B Class shares to Neil, Mr Green and Mr Henry jointly as the trustees of the Michael Mackinnon Trust..\n",
      "13 On 7 October 1988 by an agreement made by Donald, Deidre, Michael, Neil, Rosalind, Mr Green and Mr Henry, the following was to occur, amongst other things:  • Michael to sell his two shares in the partnership to Rosalind for $48,200; • Donald to sell one share in the partnership to Rosalind for $24,100; • Mr Green to transfer his one A Class share in Rocklands Pty Ltd to Rosalind for no consideration; • The trustees of the Michael Mackinnon Trust to sell Rosalind 25 of their B Class shares in Rocklands Pty Ltd for $139,254; and • Donald, Neil and Rosalind would thereafter constitute the partnership and carry on the farming business at Dalness..\n",
      "At that time, according to Mr Green, Donald sought interest at 14% per annum on the $68,500 owing to the Michael Mackinnon Trust, in respect to the purchase of B Class shares in Rocklands Pty Ltd by Rosalind..\n",
      "20 By letter dated 18 October 1991, Mr Green told Rosalind that although an interest notice had been sent to her, Donald had suggested that \"while conditions were difficult\" the Trustees of the Michael Mackinnon Trust should \"appoint\" to her as a book entry an amount to cover the interest owing..\n",
      "21 Mr McKenzie gave evidence that between 1991 and 6 May 1997, while he was a trustee of the Michael Mackinnon Trust, Rosalind was not pressed for payment of interest..\n",
      "2001  24 On 18 January 2001 a meeting occurred at the family home at Norwood, a suburb of Launceston, between Donald, Deidre, Neil and Rosalind..\n",
      "\" The letter also referred to \"significant sums of money due\" from Rosalind and Neil and noted that Donald and Deidre had asked Mr McKenzie \"to prepare an up-to-date summary of the amounts due\", with the object of \"determin[ing] whether the obligations assumed by the purchasers in 1987 (sic) are still appropriate and will be met, and, if not, what new arrangements should be made..\n",
      "It said:  If the debts are not accepted, and/or cannot be paid, the Trustees of the Michael Mackinnon Trust would need to review the terms of the original agreement with a view to renegotiating new or alternative arrangements..\n",
      "26 Minutes of the 18 January 2001 meeting record that the participants agreed to re-negotiate the terms of the October 1988 agreements and to pursue option 2 of the options referred to in Mr McKenzies letter of 10 November 2000..\n",
      "28 It was not put to Rosalind, in cross-examination that she had agreed, on 10 June 2001, to forego her shareholdings in Dalness Pty Ltd or Rocklands Pty Ltd. 29 Mr McKenzie gave evidence that there was general discussion on 10 June 2001 and that \"Rosalind said she expected the amount of $20,000 that she had paid would be repaid to her\"..\n",
      "30 Prepared about four months after the June meeting the paper asserts in its preamble that:  RW [Rosalind] advised she was unable to complete her purchase transaction in accordance with the original agreement and that in the circumstances, taking into consideration NGMs [Neils] financial input to date that he should inherit her share in the farming assets in consideration of repayment of capital input by her during the period and division of remaining assets between herself and DMM [Michael] ..\n",
      "36 Rosalind gave evidence, in her affidavit sworn 27 February 2007, which I accept, to the effect that she did not tell Mr McKenzie that she agreed with the proposed rearrangement in the paper or that she agreed that he could seek to draw any agreements binding her to its contents..\n",
      "37 In her oral evidence, Rosalind said the meeting occurred late in the morning on 8 December 2001 and she had not had time to read the paper prepared by Mr McKenzie before the meeting..\n",
      "\"   38 I accept that answer for the reason that the evidence does not disclose that Rosalind said anything at that meeting to express agreement with anything contained in Mr McKenzies paper..\n",
      "41 Rosalind gave evidence, under cross-examination, that Mr McKenzie was not wrong when he made the above statement about agreement..\n",
      "48 The question of alleged debts to Donalds estate or to the partnership is irrelevant to Rosalinds entitlement to be registered as the holder of the shares in Dalness Pty Ltd and Rocklands Pty Ltd to which she is entitled in accordance with these reasons for judgment..\n",
      "52 Counsel for Rosalind seek an order under s 175(1) of the Corporations Act 2001 (Cth) correcting the share register of the relevant companies to reflect her entitlement to shareholdings in them..\n",
      "Word count: 989\n",
      "TextRank computation time: 0.167\n",
      "\n",
      "========== Extracted summary: Tfidf ==========\n"
     ]
    },
    {
     "name": "stdout",
     "output_type": "stream",
     "text": [
      "They have another son called mr donald michael mackinnon (michael).. 6 dalness pty ltd came into being in november 1961.. on its incorporation two ordinary shares were issued; one to donald and one to aedm.. a week later 45,250 shares were allocated in the company; 15,250 to aedm and 30,000 jointly to donald and a solicitor, mr alfred john green.. 7 on or about 10 november 1961, by a deed of trust (\"the dl mackinnon trust\") donald and mr green declared that they held the 30,000 ordinary shares in dalness pty ltd upon trust:  • after the payment of income for the life of aedms wife, charlotte, and then for the life of donald; and • after the death of the survivor of charlotte and donald for such of donalds children as he should by will or deed revocably or irrevocably appoint.. 8 on 3 december 1986, by a deed of appointment dated that day, donald, pursuant to the d l mackinnon trust, irrevocably declared that the trustees of the d l mackinnon trust would, on donalds death, hold the trust fund (that is, the 30,000 ordinary shares in dalness pty ltd) as to:  • 15,000 of such shares absolutely for neil; and • 15,000 of such shares absolutely for rosalind.. 9 also on 3 december 1986, by a deed of appointment of that date, donald, pursuant to aedms will, irrevocably declared that the trustees of aedms will would on donalds death hold the other 15,251 ordinary shares:  • as to one half absolutely for neil; and • as to the other half absolutely for rosalind.. 10 subject to any agreement to the contrary or other disentitling conduct, rosalind became entitled to those ordinary shares, referred to in the two preceding paragraphs, after donalds death in february 2004.. 11 for some time prior to october 1988, the farming business on dalness was conducted by a partnership under the business name \"d l and d mackinnon\"..\n",
      "However, the preparation of those orders should reflect the courts views on the plaintiffs application that:  • dalness pty ltd should correct its register of members to record the plaintiff as a member of the company and a beneficial holder of 22,625 ordinary shares, and the beneficial owner jointly with neil of 1 ordinary share, and requiring neil and deidre to lodge a notice of correction with asic.. • rocklands pty ltd should correct its register of members to record the plaintiff as a member and the beneficial owner of 1 a class share and the beneficial owner of 25 b class shares, and requiring neil and deidre to lodge notices of correction with asic.. • otherwise the application under s 233 of the corporations act seeking winding up of the companies and other orders as set out in paragraph 5 of the application should be adjourned to a date to be fixed by the court, in consultation with the parties.. • the defendants cross-claim should be dismissed as no such agreements as alleged were entered into by rosalind.. • as the plaintiff has wholly succeeded on the issues dealt with to date, the defendants should pay her costs of the application..  order  57 the only formal order which should be made at this stage is that the parties provide the court with short minutes of the orders they contend should be made to give effect to the accompanying reasons for judgment..\n",
      "It contained a proposed rearrangement dealing with, amongst other things, a reversal of the sale of shares in rocklands pty ltd and a transfer of rosalinds shares in dalness pty ltd to neil.. 36 rosalind gave evidence, in her affidavit sworn 27 february 2007, which i accept, to the effect that she did not tell mr mckenzie that she agreed with the proposed rearrangement in the paper or that she agreed that he could seek to draw any agreements binding her to its contents.. she said she was prepared to consider a rearrangement and to consider what had been set out in the paper.. 37 in her oral evidence, rosalind said the meeting occurred late in the morning on 8 december 2001 and she had not had time to read the paper prepared by mr mckenzie before the meeting.. she said she considered it later and expressed disagreement with it.. she said she had nothing to say at the meeting and did not speak up in front of her father, as was her custom.. she said the meeting was very short and no minutes were taken of it..\n",
      "The partnership was divided into nine shares.. as at 7 october 1988 they were held as follows:  • donald - 4; • deidre - 2; • michael --- 2; and  • neil --- 1.. 12 rocklands pty ltd was incorporated on 3 january 1975.. on incorporation it had subscribed 2 a class shares, being the voting shares in the company.. those shares were originally held by mr green and by an accountant, mr barry henry.. on 21 february 1975, the company allotted 50 b class shares to neil, mr green and mr henry jointly as the trustees of the michael mackinnon trust.. 13 on 7 october 1988 by an agreement made by donald, deidre, michael, neil, rosalind, mr green and mr henry, the following was to occur, amongst other things:  • michael to sell his two shares in the partnership to rosalind for $48,200; • donald to sell one share in the partnership to rosalind for $24,100; • mr green to transfer his one a class share in rocklands pty ltd to rosalind for no consideration; • the trustees of the michael mackinnon trust to sell rosalind 25 of their b class shares in rocklands pty ltd for $139,254; and • donald, neil and rosalind would thereafter constitute the partnership and carry on the farming business at dalness.. 14 the partnership subsisted until donalds death in february 2004.. on his death, donald bequeathed his interest in the partnership to his trustees for deidres lifetime and, on her death, to neil.. probate in respect of donalds will was granted on 21 june 2004, with neil and an accountant, mr rodney lester as executors.. genesis of the october 7, 1988 agreement  15 the 1988 agreement arose out of a desire by donald for a \"mackinnon family rearrangement\", following michaels decision in the mid 1980s that he wished to give up farming and move to the mainland..\n",
      "Earlier, in february 1989, mr green advised rosalind that donald did not require payment of interest in respect of the loan for $28,200 in connection with the purchase of shares in the partnership.. at that time, according to mr green, donald sought interest at 14% per annum on the $68,500 owing to the michael mackinnon trust, in respect to the purchase of b class shares in rocklands pty ltd by rosalind.. 19 in september 1991, mr greens law firm, ritchie & parker alfred green & co wrote to rosalind seeking interest payable on the sum of $68,500.. on 30 september 1991, mr hugh mckenzie, donalds accountant, rang rosalind and said there was no need to pay the interest demanded.. 20 by letter dated 18 october 1991, mr green told rosalind that although an interest notice had been sent to her, donald had suggested that \"while conditions were difficult\" the trustees of the michael mackinnon trust should \"appoint\" to her as a book entry an amount to cover the interest owing..\n",
      "The failure of the other shareholders in the companies to recognise rosalinds stake in them has denied her the opportunity to play a part in the functioning of those companies and is in that sense \"oppressive\": see, wayde v nsw rugby league ltd [1985] hca 68 ; (1985) 180 clr 459; morgan v 45 flers avenue pty ltd (1986) 5 aclc 222.. further, it is evident that the conduct of neil as a director of both companies has been oppressive where he unfairly used that position to deny rosalind her right to be registered on account of purported debts owed to his fathers estate and the partnership.. 54 under s 234 of the act, a person can apply for an order under s 233 if that person is a member of the company..\n",
      "It is regrettable that the family dispute the subject of the application and cross-claim currently before the court ever had to be litigated.. 2 the primary issue for determination by the court is the entitlement or otherwise of the plaintiff, mrs rosalind winspear (rosalind) to shares in the third and fourth defendants, rocklands pty ltd and dalness pty ltd. rosalind seeks orders requiring those companies to correct their register of members to record her as a member and beneficial owner of one a class share and 25 b class shares in rocklands pty ltd; and the beneficial owner of 22,625 ordinary shares and the joint beneficial owner with the first defendant of one ordinary share in dalness pty ltd. rosalind also seeks orders that the companies be wound up and be required to sell properties owned by them.. 3 by their cross-claim the defendants seek declarations giving effect to what they allege were agreements entered into by rosalind on 18 january 2001 and 8 december 2001, which they say had the effect of her relinquishing all rights to shares in the companies..\n",
      "He also acknowledged that on 6 may 1997 the trustees of the michael mckinnon trust resolved under the heading: \"interest bearing loan --- r winspear\" as follows: \"it was resolved that interest on mrs winspears previously interest accruing load be suspended until further notice.. \" no such further notice was ever given to rosalind by the trustees or anyone else.. 22 by 1 july 2005, rosalind had completed the payments for the full price of her b class shares in rocklands pty ltd. she was always entitled to have the a class share transferred to her as at 7 october 1988.. she was entitled to shares in dalness pty ltd upon the grant of probate in relation to donalds estate in june 2004.. 23 the only way rosalind could be seen not to be entitled to the shares, as set out in the preceding paragraph, is if the court agrees with the submission made by the defendants that, in 2001, rosalind agreed not to have the shares transferred to her or purchased by her, or otherwise engaged in disentitling conduct..\n",
      "The evidence offered no explanation for this change or for its subsequent removal.. neil, under cross-examination, agreed that in 1990, rosalind was beneficially entitled to have the a class share registered in her name.. neil also agreed with the proposition put to him that:  as to rocklands, the correct situation which should be reflected in the share register concerning the a class shares is one share to you and one share to your sister..  47 on 25 july 2005, neil wrote to rosalind saying that he would arrange the \"transfer of shares in both companies\" to her as soon as she paid certain amounts allegedly owing to her fathers estate and to the partnership upon receipt of advice as to when she would pay.. 48 the question of alleged debts to donalds estate or to the partnership is irrelevant to rosalinds entitlement to be registered as the holder of the shares in dalness pty ltd and rocklands pty ltd to which she is entitled in accordance with these reasons for judgment.. disentitling conduct?.\n",
      "-----\n",
      "Word count:1907\n",
      "Tfidf computation time: 2.763\n",
      "\n",
      "====== Extracted summary: sentence embeddings ======\n"
     ]
    },
    {
     "name": "stdout",
     "output_type": "stream",
     "text": [
      "Sentence embedding shape: (96, 300)\n",
      "He received no such advice..\n",
      "The defendants also seek a declaration that the plaintiff be estopped from denying the 2001 agreements on the basis that it would be unjust and unconscionable for her to do so..\n",
      "These credits arose from income distribution from the trust..\n",
      "The 18 january 2001 agreement was no more than an agreement to negotiate..\n",
      " 1 it is a common lament that one can choose ones friends but not ones family..\n",
      "The first defendant, mr neil giblin mackinnon (neil), is their son..\n",
      "The second of them was the subject of further consideration..\n",
      "The better view of the evidence, considered as a whole, is that she had not done so..\n",
      "According to the cross-claim, that agreement was constituted by the 18 january 2001 and 8 december 2001 agreements..\n",
      "-----\n",
      "Word count:130\n",
      "Sentence embedding computation time: 3.036\n"
     ]
    }
   ],
   "source": [
    "methods = ['first-k', 'SMRS', 'TextRank', 'tfidf', 'embed']\n",
    "extract_summary(doc, ref, title, report_rouge=False, methods=methods, print_summary=True);"
   ]
  },
  {
   "cell_type": "markdown",
   "metadata": {
    "hidden": true
   },
   "source": [
    "### ROUGE Score"
   ]
  },
  {
   "cell_type": "code",
   "execution_count": 10,
   "metadata": {
    "hidden": true,
    "scrolled": true
   },
   "outputs": [
    {
     "name": "stdout",
     "output_type": "stream",
     "text": [
      "\n",
      "=============== ROUGE Scores ===============\n",
      "\n",
      "first-k\n",
      "Overlap 1-gram \t\t\tF1: 0.187\n",
      "Overlap 1-gram \t\t\tPrecision: 0.120\n",
      "Overlap 1-gram \t\t\tRecall: 0.425\n",
      "Overlap bi-gram \t\tF1: 0.040\n",
      "Overlap bi-gram \t\tPrecision: 0.024\n",
      "Overlap bi-gram \t\tRecall: 0.109\n",
      "Longest Common Subsequence \tF1: 0.126\n",
      "Longest Common Subsequence \tPrecision: 0.120\n",
      "Longest Common Subsequence \tRecall: 0.425\n",
      "\n",
      "SMRS\n",
      "Overlap 1-gram \t\t\tF1: 0.103\n",
      "Overlap 1-gram \t\t\tPrecision: 0.079\n",
      "Overlap 1-gram \t\t\tRecall: 0.150\n",
      "Overlap bi-gram \t\tF1: 0.014\n",
      "Overlap bi-gram \t\tPrecision: 0.011\n",
      "Overlap bi-gram \t\tRecall: 0.018\n",
      "Longest Common Subsequence \tF1: 0.088\n",
      "Longest Common Subsequence \tPrecision: 0.079\n",
      "Longest Common Subsequence \tRecall: 0.150\n",
      "\n",
      "TextRank\n",
      "Overlap 1-gram \t\t\tF1: 0.094\n",
      "Overlap 1-gram \t\t\tPrecision: 0.053\n",
      "Overlap 1-gram \t\t\tRecall: 0.400\n",
      "Overlap bi-gram \t\tF1: 0.017\n",
      "Overlap bi-gram \t\tPrecision: 0.009\n",
      "Overlap bi-gram \t\tRecall: 0.091\n",
      "Longest Common Subsequence \tF1: 0.040\n",
      "Longest Common Subsequence \tPrecision: 0.040\n",
      "Longest Common Subsequence \tRecall: 0.300\n",
      "\n",
      "FWSR-BM25\n",
      "Overlap 1-gram \t\t\tF1: 0.098\n",
      "Overlap 1-gram \t\t\tPrecision: 0.053\n",
      "Overlap 1-gram \t\t\tRecall: 0.575\n",
      "Overlap bi-gram \t\tF1: 0.014\n",
      "Overlap bi-gram \t\tPrecision: 0.007\n",
      "Overlap bi-gram \t\tRecall: 0.127\n",
      "Longest Common Subsequence \tF1: 0.049\n",
      "Longest Common Subsequence \tPrecision: 0.049\n",
      "Longest Common Subsequence \tRecall: 0.525\n",
      "\n",
      "FWSR-SIF\n",
      "Overlap 1-gram \t\t\tF1: 0.162\n",
      "Overlap 1-gram \t\t\tPrecision: 0.127\n",
      "Overlap 1-gram \t\t\tRecall: 0.225\n",
      "Overlap bi-gram \t\tF1: 0.014\n",
      "Overlap bi-gram \t\tPrecision: 0.012\n",
      "Overlap bi-gram \t\tRecall: 0.018\n",
      "Longest Common Subsequence \tF1: 0.126\n",
      "Longest Common Subsequence \tPrecision: 0.113\n",
      "Longest Common Subsequence \tRecall: 0.200\n",
      "CPU times: user 20.6 s, sys: 1.12 s, total: 21.7 s\n",
      "Wall time: 25.6 s\n"
     ]
    }
   ],
   "source": [
    "%%time\n",
    "# k=5\n",
    "# ratio=0.3\n",
    "methods = ['first-k', 'SMRS', 'TextRank', 'FWSR-BM25', 'FWSR-SIF']\n",
    "extract_summary(doc, ref, title, k=5, report_rouge=True, rouge_embed=False, \n",
    "                methods=methods, print_summary=False, print_rouge=True);"
   ]
  },
  {
   "cell_type": "markdown",
   "metadata": {
    "hidden": true
   },
   "source": [
    "### Word Embedding ROUGE Score"
   ]
  },
  {
   "cell_type": "code",
   "execution_count": 5,
   "metadata": {
    "hidden": true,
    "scrolled": true
   },
   "outputs": [
    {
     "name": "stdout",
     "output_type": "stream",
     "text": [
      "\n",
      "=============== ROUGE Scores ===============\n",
      "\n",
      "first-k\n",
      "Overlap 1-gram \t\t\tF1: 0.437\n",
      "Overlap 1-gram \t\t\tPrecision: 0.377\n",
      "Overlap 1-gram \t\t\tRecall: 0.521\n",
      "Overlap bi-gram \t\tF1: 0.571\n",
      "Overlap bi-gram \t\tPrecision: 0.477\n",
      "Overlap bi-gram \t\tRecall: 0.713\n",
      "Longest Common Subsequence \tF1: 0.155\n",
      "Longest Common Subsequence \tPrecision: 0.147\n",
      "Longest Common Subsequence \tRecall: 0.521\n",
      "\n",
      "SMRS\n",
      "Overlap 1-gram \t\t\tF1: 0.339\n",
      "Overlap 1-gram \t\t\tPrecision: 0.318\n",
      "Overlap 1-gram \t\t\tRecall: 0.362\n",
      "Overlap bi-gram \t\tF1: 0.448\n",
      "Overlap bi-gram \t\tPrecision: 0.399\n",
      "Overlap bi-gram \t\tRecall: 0.512\n",
      "Longest Common Subsequence \tF1: 0.213\n",
      "Longest Common Subsequence \tPrecision: 0.191\n",
      "Longest Common Subsequence \tRecall: 0.362\n",
      "\n",
      "TextRank\n",
      "Overlap 1-gram \t\t\tF1: 0.432\n",
      "Overlap 1-gram \t\t\tPrecision: 0.378\n",
      "Overlap 1-gram \t\t\tRecall: 0.504\n",
      "Overlap bi-gram \t\tF1: 0.526\n",
      "Overlap bi-gram \t\tPrecision: 0.428\n",
      "Overlap bi-gram \t\tRecall: 0.680\n",
      "Longest Common Subsequence \tF1: 0.068\n",
      "Longest Common Subsequence \tPrecision: 0.067\n",
      "Longest Common Subsequence \tRecall: 0.504\n",
      "\n",
      "FWSR-BM25\n",
      "Overlap 1-gram \t\t\tF1: 0.451\n",
      "Overlap 1-gram \t\t\tPrecision: 0.371\n",
      "Overlap 1-gram \t\t\tRecall: 0.575\n",
      "Overlap bi-gram \t\tF1: 0.530\n",
      "Overlap bi-gram \t\tPrecision: 0.406\n",
      "Overlap bi-gram \t\tRecall: 0.761\n",
      "Longest Common Subsequence \tF1: 0.054\n",
      "Longest Common Subsequence \tPrecision: 0.053\n",
      "Longest Common Subsequence \tRecall: 0.575\n",
      "\n",
      "FWSR-SIF\n",
      "Overlap 1-gram \t\t\tF1: 0.367\n",
      "Overlap 1-gram \t\t\tPrecision: 0.338\n",
      "Overlap 1-gram \t\t\tRecall: 0.400\n",
      "Overlap bi-gram \t\tF1: 0.494\n",
      "Overlap bi-gram \t\tPrecision: 0.442\n",
      "Overlap bi-gram \t\tRecall: 0.561\n",
      "Longest Common Subsequence \tF1: 0.252\n",
      "Longest Common Subsequence \tPrecision: 0.225\n",
      "Longest Common Subsequence \tRecall: 0.400\n",
      "CPU times: user 2min 58s, sys: 9.74 s, total: 3min 7s\n",
      "Wall time: 3min 12s\n"
     ]
    }
   ],
   "source": [
    "%%time\n",
    "methods = ['first-k', 'SMRS', 'TextRank', 'FWSR-BM25', 'FWSR-SIF']\n",
    "_ = extract_summary(doc, ref, title, k=5, report_rouge=True, rouge_embed=True, \n",
    "                    methods=methods, print_summary=False, print_rouge=True);"
   ]
  },
  {
   "cell_type": "markdown",
   "metadata": {},
   "source": [
    "## ROUGE Score Across Documents"
   ]
  },
  {
   "cell_type": "code",
   "execution_count": 5,
   "metadata": {},
   "outputs": [],
   "source": [
    "#k = 5\n",
    "start = 100\n",
    "num_articles = 30\n",
    "articles = legal_text[start : start + num_articles]\n",
    "references = legal_refs[start : start + num_articles]\n",
    "titles = legal_titles[start : start + num_articles]"
   ]
  },
  {
   "cell_type": "code",
   "execution_count": null,
   "metadata": {},
   "outputs": [],
   "source": [
    "%%time\n",
    "methods = ['first-k', 'SMRS', 'TextRank', 'FWSR-BM25', 'FWSR-SIF']\n",
    "rouge_mean, rouge_median, rouge_std = report_rouge_scores(articles, references, titles, methods=methods)\n",
    "\n",
    "index =  ['1-gram F1', '1-gram Precision', '1-gram Recall', 'bi-gram F1', 'bi-gram Precision', 'bi-gram Recall', \n",
    "          'longest common F1', 'longest common Precision', 'longest common Recall', 'runtime', 'word count']\n",
    "\n",
    "print('=' * 22 + ' Mean ' + '=' * 22)\n",
    "rouge_mean.index = index\n",
    "display(rouge_mean)\n",
    "\n",
    "print('=' * 21 + ' Median ' + '=' * 21)\n",
    "rouge_median.index = index\n",
    "display(rouge_median)\n",
    "\n",
    "print('=' * 15 + ' Standard Deviation ' + '=' * 15)\n",
    "rouge_std.index = index\n",
    "display(rouge_std)"
   ]
  },
  {
   "cell_type": "markdown",
   "metadata": {},
   "source": [
    "### Word Embedding ROUGE Score Across Documents"
   ]
  },
  {
   "cell_type": "code",
   "execution_count": null,
   "metadata": {},
   "outputs": [],
   "source": [
    "%%time\n",
    "methods = ['first-k', 'SMRS', 'TextRank', 'FWSR-BM25', 'FWSR-SIF']\n",
    "rouge_mean_embed, rouge_median_embed, rouge_std_embed = report_rouge_scores(articles, references, titles, k=5,\n",
    "                                                                            rouge_embed=True, methods=methods)\n",
    "\n",
    "index =  ['1-gram F1', '1-gram Precision', '1-gram Recall', 'bi-gram F1', 'bi-gram Precision', 'bi-gram Recall', \n",
    "          'longest common F1', 'longest common Precision', 'longest common Recall', 'runtime', 'word count']\n",
    "\n",
    "print('=' * 22 + ' Mean ' + '=' * 22)\n",
    "rouge_mean_embed.index = index\n",
    "display(rouge_mean_embed)\n",
    "\n",
    "print('=' * 21 + ' Median ' + '=' * 21)\n",
    "rouge_median_embed.index = index\n",
    "display(rouge_median_embed)\n",
    "\n",
    "print('=' * 15 + ' Standard Deviation ' + '=' * 15)\n",
    "rouge_std_embed.index = index\n",
    "display(rouge_std_embed)"
   ]
  },
  {
   "cell_type": "code",
   "execution_count": null,
   "metadata": {},
   "outputs": [],
   "source": []
  }
 ],
 "metadata": {
  "hide_input": false,
  "kernelspec": {
   "display_name": "Python 3",
   "language": "python",
   "name": "python3"
  },
  "language_info": {
   "codemirror_mode": {
    "name": "ipython",
    "version": 3
   },
   "file_extension": ".py",
   "mimetype": "text/x-python",
   "name": "python",
   "nbconvert_exporter": "python",
   "pygments_lexer": "ipython3",
   "version": "3.7.3"
  },
  "varInspector": {
   "cols": {
    "lenName": 16,
    "lenType": 16,
    "lenVar": 40
   },
   "kernels_config": {
    "python": {
     "delete_cmd_postfix": "",
     "delete_cmd_prefix": "del ",
     "library": "var_list.py",
     "varRefreshCmd": "print(var_dic_list())"
    },
    "r": {
     "delete_cmd_postfix": ") ",
     "delete_cmd_prefix": "rm(",
     "library": "var_list.r",
     "varRefreshCmd": "cat(var_dic_list()) "
    }
   },
   "types_to_exclude": [
    "module",
    "function",
    "builtin_function_or_method",
    "instance",
    "_Feature"
   ],
   "window_display": false
  }
 },
 "nbformat": 4,
 "nbformat_minor": 2
}
