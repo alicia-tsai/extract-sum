{
 "cells": [
  {
   "cell_type": "code",
   "execution_count": 1,
   "metadata": {},
   "outputs": [],
   "source": [
    "import sys\n",
    "sys.path.append('../src')\n",
    "\n",
    "import numpy as np\n",
    "import pandas as pd\n",
    "import data\n",
    "import utils\n",
    "from main import extract_summary, report_rouge_scores\n",
    "\n",
    "%load_ext autoreload\n",
    "%autoreload 2"
   ]
  },
  {
   "cell_type": "markdown",
   "metadata": {},
   "source": [
    "## Credit Suisse 2019 Investment Outlook"
   ]
  },
  {
   "cell_type": "code",
   "execution_count": 2,
   "metadata": {},
   "outputs": [
    {
     "name": "stdout",
     "output_type": "stream",
     "text": [
      "14\n"
     ]
    }
   ],
   "source": [
    "outlook = pd.read_csv('../data/2019-outlooks/cs.csv')\n",
    "outlook_title, outlook_ref, outlook_text = data.get_outlook_data()\n",
    "print(len(outlook))"
   ]
  },
  {
   "cell_type": "markdown",
   "metadata": {},
   "source": [
    "### Summarization\n",
    "\n",
    "- Methods includes: \n",
    "    - SMRS\n",
    "    - Franke-Wolfe TF-IDF\n",
    "    - Franke-Wolfe Word Embedding.\n",
    "- Matlab and python for matlab engine is required to run the SMRS method. Remove `'SMRS'` from the `methods` list below if matlab is not installed."
   ]
  },
  {
   "cell_type": "code",
   "execution_count": 3,
   "metadata": {},
   "outputs": [
    {
     "name": "stdout",
     "output_type": "stream",
     "text": [
      "# sentence: 32, # vocab: 312\n",
      "# of selected exemplar: 5\n",
      "\n",
      "Title: Drivers likely to extend the cycle \n",
      "\n",
      "=============== Referecne Text ==============\n",
      "From technology and USD stability to emerging markets rebalancing, we review six key market drivers and risks in 2019. Keeping inflation under control. US dollar stability. China’s resilience. Calmer European politics. Emerging markets rebalancing. Tech and healthcare innovations. The best of all worlds is a fairly stable USD.\n",
      "\n",
      "========== Extracted summary: SMRS ==========\n",
      "Social media, online shopping and ever more elaborate hand-held devices have taken the world by storm. Bond yields would further increase significantly, while equities and other risk assets would likely decline substantially. Meanwhile, we believe that italy and the eu will ultimately find a compromise over the country’s budget deficit while reaffirming italy’s euro membership. Significant usd weakness puts pressure on export champions, such as germany and japan. After 2008, cheap usd funds seduced em, especially corporations, to substantially boost their foreign currency borrowing\n",
      "SMRS computation time: 0.217\n",
      "\n",
      "========== Extracted summary: Tfidf ==========\n",
      "The more important question for markets is whether inflation will remain as benign as it has been. Gyrations of the usd tend to destabilize the world economy and financial markets. Us trade policy is putting considerable strain on china. If its policymakers proceed cautiously, as in 2018, risks of instability should be limited and the expansion can be extended. Eurozone growth is expected to remain above potential in 2019, thanks in part to still loose monetary conditions\n",
      "Tfidf computation time: 0.004\n",
      "\n",
      "====== Extracted summary: sentence embeddings ======\n",
      "Bond yields would further increase significantly, while equities and other risk assets would likely decline substantially. The best of all worlds is a fairly stable usd. Us trade policy is putting considerable strain on china. We expect political stresses to calm down to some extent. Technology stocks have been the dominant driver of global equity markets in the past decade\n",
      "Sentence embedding computation time: 0.001\n"
     ]
    }
   ],
   "source": [
    "doc_idx = 0\n",
    "doc = outlook_text[doc_idx]\n",
    "ref = outlook_ref[doc_idx]\n",
    "title = outlook_title[doc_idx]\n",
    "\n",
    "k=5\n",
    "methods = ['SMRS', 'tfidf', 'embed']\n",
    "extract_summary(doc, ref, title, k=k, report_rouge=False, methods=methods, print_summary=True);"
   ]
  },
  {
   "cell_type": "markdown",
   "metadata": {},
   "source": [
    "### ROUGE Score"
   ]
  },
  {
   "cell_type": "code",
   "execution_count": 10,
   "metadata": {},
   "outputs": [
    {
     "name": "stdout",
     "output_type": "stream",
     "text": [
      "\n",
      "=============== ROUGE Scores ===============\n",
      "\n",
      "SMRS\n",
      "Overlap 1-gram \t\t\tF1: 0.068\n",
      "Overlap 1-gram \t\t\tPrecision: 0.053\n",
      "Overlap 1-gram \t\t\tRecall: 0.093\n",
      "Overlap bi-gram \t\tF1: 0.000\n",
      "Overlap bi-gram \t\tPrecision: 0.000\n",
      "Overlap bi-gram \t\tRecall: 0.000\n",
      "Longest Common Subsequence \tF1: 0.060\n",
      "Longest Common Subsequence \tPrecision: 0.053\n",
      "Longest Common Subsequence \tRecall: 0.093\n",
      "\n",
      "tfidf\n",
      "Overlap 1-gram \t\t\tF1: 0.171\n",
      "Overlap 1-gram \t\t\tPrecision: 0.145\n",
      "Overlap 1-gram \t\t\tRecall: 0.209\n",
      "Overlap bi-gram \t\tF1: 0.000\n",
      "Overlap bi-gram \t\tPrecision: 0.000\n",
      "Overlap bi-gram \t\tRecall: 0.000\n",
      "Longest Common Subsequence \tF1: 0.143\n",
      "Longest Common Subsequence \tPrecision: 0.129\n",
      "Longest Common Subsequence \tRecall: 0.186\n",
      "\n",
      "embed\n",
      "Overlap 1-gram \t\t\tF1: 0.265\n",
      "Overlap 1-gram \t\t\tPrecision: 0.236\n",
      "Overlap 1-gram \t\t\tRecall: 0.302\n",
      "Overlap bi-gram \t\tF1: 0.151\n",
      "Overlap bi-gram \t\tPrecision: 0.136\n",
      "Overlap bi-gram \t\tRecall: 0.170\n",
      "Longest Common Subsequence \tF1: 0.258\n",
      "Longest Common Subsequence \tPrecision: 0.236\n",
      "Longest Common Subsequence \tRecall: 0.302\n",
      "CPU times: user 7.3 s, sys: 396 ms, total: 7.7 s\n",
      "Wall time: 7.71 s\n"
     ]
    }
   ],
   "source": [
    "%%time\n",
    "summary, runtime, scores = extract_summary(doc, ref, title, k=k, report_rouge=True, rouge_embed=False, \n",
    "                                           methods=methods, print_summary=False, print_rouge=True);"
   ]
  },
  {
   "cell_type": "markdown",
   "metadata": {},
   "source": [
    "### Word Embedding ROUGE Score"
   ]
  },
  {
   "cell_type": "code",
   "execution_count": 11,
   "metadata": {
    "scrolled": false
   },
   "outputs": [
    {
     "name": "stdout",
     "output_type": "stream",
     "text": [
      "\n",
      "=============== ROUGE Scores ===============\n",
      "\n",
      "SMRS\n",
      "Overlap 1-gram \t\t\tF1: 0.599\n",
      "Overlap 1-gram \t\t\tPrecision: 0.584\n",
      "Overlap 1-gram \t\t\tRecall: 0.615\n",
      "Overlap bi-gram \t\tF1: 0.045\n",
      "Overlap bi-gram \t\tPrecision: 0.044\n",
      "Overlap bi-gram \t\tRecall: 0.046\n",
      "\n",
      "tfidf\n",
      "Overlap 1-gram \t\t\tF1: 0.667\n",
      "Overlap 1-gram \t\t\tPrecision: 0.664\n",
      "Overlap 1-gram \t\t\tRecall: 0.670\n",
      "Overlap bi-gram \t\tF1: 0.047\n",
      "Overlap bi-gram \t\tPrecision: 0.051\n",
      "Overlap bi-gram \t\tRecall: 0.044\n",
      "\n",
      "embed\n",
      "Overlap 1-gram \t\t\tF1: 0.747\n",
      "Overlap 1-gram \t\t\tPrecision: 0.738\n",
      "Overlap 1-gram \t\t\tRecall: 0.756\n",
      "Overlap bi-gram \t\tF1: 0.048\n",
      "Overlap bi-gram \t\tPrecision: 0.050\n",
      "Overlap bi-gram \t\tRecall: 0.046\n",
      "CPU times: user 55.5 s, sys: 2.91 s, total: 58.4 s\n",
      "Wall time: 58.8 s\n"
     ]
    }
   ],
   "source": [
    "%%time\n",
    "summary, runtime, scores = extract_summary(doc, ref, title, k=k, report_rouge=True, rouge_embed=True, \n",
    "                                           methods=methods, print_summary=False, print_rouge=True);"
   ]
  },
  {
   "cell_type": "markdown",
   "metadata": {},
   "source": [
    "### ROUGE Score Across Documents"
   ]
  },
  {
   "cell_type": "code",
   "execution_count": 13,
   "metadata": {
    "scrolled": false
   },
   "outputs": [
    {
     "name": "stdout",
     "output_type": "stream",
     "text": [
      "====================== Mean ======================\n"
     ]
    },
    {
     "data": {
      "text/html": [
       "<div>\n",
       "<style scoped>\n",
       "    .dataframe tbody tr th:only-of-type {\n",
       "        vertical-align: middle;\n",
       "    }\n",
       "\n",
       "    .dataframe tbody tr th {\n",
       "        vertical-align: top;\n",
       "    }\n",
       "\n",
       "    .dataframe thead th {\n",
       "        text-align: right;\n",
       "    }\n",
       "</style>\n",
       "<table border=\"1\" class=\"dataframe\">\n",
       "  <thead>\n",
       "    <tr style=\"text-align: right;\">\n",
       "      <th></th>\n",
       "      <th>SMRS</th>\n",
       "      <th>tfidf</th>\n",
       "      <th>embed</th>\n",
       "    </tr>\n",
       "  </thead>\n",
       "  <tbody>\n",
       "    <tr>\n",
       "      <th>1-gram F1</th>\n",
       "      <td>0.124514</td>\n",
       "      <td>0.202976</td>\n",
       "      <td>0.229948</td>\n",
       "    </tr>\n",
       "    <tr>\n",
       "      <th>1-gram Precision</th>\n",
       "      <td>0.117925</td>\n",
       "      <td>0.175241</td>\n",
       "      <td>0.231388</td>\n",
       "    </tr>\n",
       "    <tr>\n",
       "      <th>1-gram Recall</th>\n",
       "      <td>0.154807</td>\n",
       "      <td>0.296962</td>\n",
       "      <td>0.281807</td>\n",
       "    </tr>\n",
       "    <tr>\n",
       "      <th>bi-gram F1</th>\n",
       "      <td>0.007728</td>\n",
       "      <td>0.024647</td>\n",
       "      <td>0.075441</td>\n",
       "    </tr>\n",
       "    <tr>\n",
       "      <th>bi-gram Precision</th>\n",
       "      <td>0.007474</td>\n",
       "      <td>0.021969</td>\n",
       "      <td>0.072570</td>\n",
       "    </tr>\n",
       "    <tr>\n",
       "      <th>bi-gram Recall</th>\n",
       "      <td>0.008988</td>\n",
       "      <td>0.033737</td>\n",
       "      <td>0.107879</td>\n",
       "    </tr>\n",
       "    <tr>\n",
       "      <th>longest common F1</th>\n",
       "      <td>0.102719</td>\n",
       "      <td>0.164342</td>\n",
       "      <td>0.192262</td>\n",
       "    </tr>\n",
       "    <tr>\n",
       "      <th>longest common Precision</th>\n",
       "      <td>0.109631</td>\n",
       "      <td>0.162415</td>\n",
       "      <td>0.220087</td>\n",
       "    </tr>\n",
       "    <tr>\n",
       "      <th>longest common Recall</th>\n",
       "      <td>0.139489</td>\n",
       "      <td>0.277323</td>\n",
       "      <td>0.270954</td>\n",
       "    </tr>\n",
       "  </tbody>\n",
       "</table>\n",
       "</div>"
      ],
      "text/plain": [
       "                              SMRS     tfidf     embed\n",
       "1-gram F1                 0.124514  0.202976  0.229948\n",
       "1-gram Precision          0.117925  0.175241  0.231388\n",
       "1-gram Recall             0.154807  0.296962  0.281807\n",
       "bi-gram F1                0.007728  0.024647  0.075441\n",
       "bi-gram Precision         0.007474  0.021969  0.072570\n",
       "bi-gram Recall            0.008988  0.033737  0.107879\n",
       "longest common F1         0.102719  0.164342  0.192262\n",
       "longest common Precision  0.109631  0.162415  0.220087\n",
       "longest common Recall     0.139489  0.277323  0.270954"
      ]
     },
     "metadata": {},
     "output_type": "display_data"
    },
    {
     "name": "stdout",
     "output_type": "stream",
     "text": [
      "===================== Median =====================\n"
     ]
    },
    {
     "data": {
      "text/html": [
       "<div>\n",
       "<style scoped>\n",
       "    .dataframe tbody tr th:only-of-type {\n",
       "        vertical-align: middle;\n",
       "    }\n",
       "\n",
       "    .dataframe tbody tr th {\n",
       "        vertical-align: top;\n",
       "    }\n",
       "\n",
       "    .dataframe thead th {\n",
       "        text-align: right;\n",
       "    }\n",
       "</style>\n",
       "<table border=\"1\" class=\"dataframe\">\n",
       "  <thead>\n",
       "    <tr style=\"text-align: right;\">\n",
       "      <th></th>\n",
       "      <th>SMRS</th>\n",
       "      <th>tfidf</th>\n",
       "      <th>embed</th>\n",
       "    </tr>\n",
       "  </thead>\n",
       "  <tbody>\n",
       "    <tr>\n",
       "      <th>1-gram F1</th>\n",
       "      <td>0.131035</td>\n",
       "      <td>0.222832</td>\n",
       "      <td>0.224945</td>\n",
       "    </tr>\n",
       "    <tr>\n",
       "      <th>1-gram Precision</th>\n",
       "      <td>0.110157</td>\n",
       "      <td>0.182305</td>\n",
       "      <td>0.215385</td>\n",
       "    </tr>\n",
       "    <tr>\n",
       "      <th>1-gram Recall</th>\n",
       "      <td>0.150226</td>\n",
       "      <td>0.292111</td>\n",
       "      <td>0.236940</td>\n",
       "    </tr>\n",
       "    <tr>\n",
       "      <th>bi-gram F1</th>\n",
       "      <td>0.000000</td>\n",
       "      <td>0.017664</td>\n",
       "      <td>0.039596</td>\n",
       "    </tr>\n",
       "    <tr>\n",
       "      <th>bi-gram Precision</th>\n",
       "      <td>0.000000</td>\n",
       "      <td>0.011461</td>\n",
       "      <td>0.035873</td>\n",
       "    </tr>\n",
       "    <tr>\n",
       "      <th>bi-gram Recall</th>\n",
       "      <td>0.000000</td>\n",
       "      <td>0.031433</td>\n",
       "      <td>0.047075</td>\n",
       "    </tr>\n",
       "    <tr>\n",
       "      <th>longest common F1</th>\n",
       "      <td>0.099605</td>\n",
       "      <td>0.176506</td>\n",
       "      <td>0.186769</td>\n",
       "    </tr>\n",
       "    <tr>\n",
       "      <th>longest common Precision</th>\n",
       "      <td>0.110157</td>\n",
       "      <td>0.164012</td>\n",
       "      <td>0.202564</td>\n",
       "    </tr>\n",
       "    <tr>\n",
       "      <th>longest common Recall</th>\n",
       "      <td>0.140733</td>\n",
       "      <td>0.284648</td>\n",
       "      <td>0.208126</td>\n",
       "    </tr>\n",
       "  </tbody>\n",
       "</table>\n",
       "</div>"
      ],
      "text/plain": [
       "                              SMRS     tfidf     embed\n",
       "1-gram F1                 0.131035  0.222832  0.224945\n",
       "1-gram Precision          0.110157  0.182305  0.215385\n",
       "1-gram Recall             0.150226  0.292111  0.236940\n",
       "bi-gram F1                0.000000  0.017664  0.039596\n",
       "bi-gram Precision         0.000000  0.011461  0.035873\n",
       "bi-gram Recall            0.000000  0.031433  0.047075\n",
       "longest common F1         0.099605  0.176506  0.186769\n",
       "longest common Precision  0.110157  0.164012  0.202564\n",
       "longest common Recall     0.140733  0.284648  0.208126"
      ]
     },
     "metadata": {},
     "output_type": "display_data"
    },
    {
     "name": "stdout",
     "output_type": "stream",
     "text": [
      "=============== Standard Deviation ===============\n"
     ]
    },
    {
     "data": {
      "text/html": [
       "<div>\n",
       "<style scoped>\n",
       "    .dataframe tbody tr th:only-of-type {\n",
       "        vertical-align: middle;\n",
       "    }\n",
       "\n",
       "    .dataframe tbody tr th {\n",
       "        vertical-align: top;\n",
       "    }\n",
       "\n",
       "    .dataframe thead th {\n",
       "        text-align: right;\n",
       "    }\n",
       "</style>\n",
       "<table border=\"1\" class=\"dataframe\">\n",
       "  <thead>\n",
       "    <tr style=\"text-align: right;\">\n",
       "      <th></th>\n",
       "      <th>SMRS</th>\n",
       "      <th>tfidf</th>\n",
       "      <th>embed</th>\n",
       "    </tr>\n",
       "  </thead>\n",
       "  <tbody>\n",
       "    <tr>\n",
       "      <th>1-gram F1</th>\n",
       "      <td>0.049498</td>\n",
       "      <td>0.081275</td>\n",
       "      <td>0.094585</td>\n",
       "    </tr>\n",
       "    <tr>\n",
       "      <th>1-gram Precision</th>\n",
       "      <td>0.060855</td>\n",
       "      <td>0.098039</td>\n",
       "      <td>0.120102</td>\n",
       "    </tr>\n",
       "    <tr>\n",
       "      <th>1-gram Recall</th>\n",
       "      <td>0.070114</td>\n",
       "      <td>0.081757</td>\n",
       "      <td>0.156395</td>\n",
       "    </tr>\n",
       "    <tr>\n",
       "      <th>bi-gram F1</th>\n",
       "      <td>0.014798</td>\n",
       "      <td>0.027681</td>\n",
       "      <td>0.095397</td>\n",
       "    </tr>\n",
       "    <tr>\n",
       "      <th>bi-gram Precision</th>\n",
       "      <td>0.012296</td>\n",
       "      <td>0.026200</td>\n",
       "      <td>0.082825</td>\n",
       "    </tr>\n",
       "    <tr>\n",
       "      <th>bi-gram Recall</th>\n",
       "      <td>0.019942</td>\n",
       "      <td>0.035238</td>\n",
       "      <td>0.161229</td>\n",
       "    </tr>\n",
       "    <tr>\n",
       "      <th>longest common F1</th>\n",
       "      <td>0.051873</td>\n",
       "      <td>0.079189</td>\n",
       "      <td>0.083725</td>\n",
       "    </tr>\n",
       "    <tr>\n",
       "      <th>longest common Precision</th>\n",
       "      <td>0.061796</td>\n",
       "      <td>0.089727</td>\n",
       "      <td>0.116012</td>\n",
       "    </tr>\n",
       "    <tr>\n",
       "      <th>longest common Recall</th>\n",
       "      <td>0.063952</td>\n",
       "      <td>0.072996</td>\n",
       "      <td>0.158973</td>\n",
       "    </tr>\n",
       "  </tbody>\n",
       "</table>\n",
       "</div>"
      ],
      "text/plain": [
       "                              SMRS     tfidf     embed\n",
       "1-gram F1                 0.049498  0.081275  0.094585\n",
       "1-gram Precision          0.060855  0.098039  0.120102\n",
       "1-gram Recall             0.070114  0.081757  0.156395\n",
       "bi-gram F1                0.014798  0.027681  0.095397\n",
       "bi-gram Precision         0.012296  0.026200  0.082825\n",
       "bi-gram Recall            0.019942  0.035238  0.161229\n",
       "longest common F1         0.051873  0.079189  0.083725\n",
       "longest common Precision  0.061796  0.089727  0.116012\n",
       "longest common Recall     0.063952  0.072996  0.158973"
      ]
     },
     "metadata": {},
     "output_type": "display_data"
    },
    {
     "name": "stdout",
     "output_type": "stream",
     "text": [
      "CPU times: user 1min 53s, sys: 5.99 s, total: 1min 59s\n",
      "Wall time: 2min\n"
     ]
    }
   ],
   "source": [
    "%%time\n",
    "k = 5\n",
    "rouge_mean, rouge_median, rouge_std = report_rouge_scores(outlook_text, outlook_ref, outlook_title, k, methods=methods)\n",
    "\n",
    "index =  ['1-gram F1', '1-gram Precision', '1-gram Recall', 'bi-gram F1', 'bi-gram Precision', 'bi-gram Recall', \n",
    "          'longest common F1', 'longest common Precision', 'longest common Recall']\n",
    "\n",
    "print('=' * 22 + ' Mean ' + '=' * 22)\n",
    "rouge_mean.index = index\n",
    "display(rouge_mean)\n",
    "\n",
    "print('=' * 21 + ' Median ' + '=' * 21)\n",
    "rouge_median.index = index\n",
    "display(rouge_median)\n",
    "\n",
    "print('=' * 15 + ' Standard Deviation ' + '=' * 15)\n",
    "rouge_std.index = index\n",
    "display(rouge_std)"
   ]
  },
  {
   "cell_type": "markdown",
   "metadata": {},
   "source": [
    "### Word Embedding ROUGE Score Across Documents"
   ]
  },
  {
   "cell_type": "code",
   "execution_count": 14,
   "metadata": {},
   "outputs": [
    {
     "name": "stdout",
     "output_type": "stream",
     "text": [
      "====================== Mean ======================\n"
     ]
    },
    {
     "data": {
      "text/html": [
       "<div>\n",
       "<style scoped>\n",
       "    .dataframe tbody tr th:only-of-type {\n",
       "        vertical-align: middle;\n",
       "    }\n",
       "\n",
       "    .dataframe tbody tr th {\n",
       "        vertical-align: top;\n",
       "    }\n",
       "\n",
       "    .dataframe thead th {\n",
       "        text-align: right;\n",
       "    }\n",
       "</style>\n",
       "<table border=\"1\" class=\"dataframe\">\n",
       "  <thead>\n",
       "    <tr style=\"text-align: right;\">\n",
       "      <th></th>\n",
       "      <th>SMRS</th>\n",
       "      <th>tfidf</th>\n",
       "      <th>embed</th>\n",
       "    </tr>\n",
       "  </thead>\n",
       "  <tbody>\n",
       "    <tr>\n",
       "      <th>1-gram F1</th>\n",
       "      <td>0.631923</td>\n",
       "      <td>0.687816</td>\n",
       "      <td>0.700859</td>\n",
       "    </tr>\n",
       "    <tr>\n",
       "      <th>1-gram Precision</th>\n",
       "      <td>0.618536</td>\n",
       "      <td>0.652968</td>\n",
       "      <td>0.690253</td>\n",
       "    </tr>\n",
       "    <tr>\n",
       "      <th>1-gram Recall</th>\n",
       "      <td>0.649426</td>\n",
       "      <td>0.731885</td>\n",
       "      <td>0.721293</td>\n",
       "    </tr>\n",
       "    <tr>\n",
       "      <th>bi-gram F1</th>\n",
       "      <td>0.065235</td>\n",
       "      <td>0.066486</td>\n",
       "      <td>0.065139</td>\n",
       "    </tr>\n",
       "    <tr>\n",
       "      <th>bi-gram Precision</th>\n",
       "      <td>0.064565</td>\n",
       "      <td>0.068939</td>\n",
       "      <td>0.067738</td>\n",
       "    </tr>\n",
       "    <tr>\n",
       "      <th>bi-gram Recall</th>\n",
       "      <td>0.069405</td>\n",
       "      <td>0.066087</td>\n",
       "      <td>0.065501</td>\n",
       "    </tr>\n",
       "  </tbody>\n",
       "</table>\n",
       "</div>"
      ],
      "text/plain": [
       "                       SMRS     tfidf     embed\n",
       "1-gram F1          0.631923  0.687816  0.700859\n",
       "1-gram Precision   0.618536  0.652968  0.690253\n",
       "1-gram Recall      0.649426  0.731885  0.721293\n",
       "bi-gram F1         0.065235  0.066486  0.065139\n",
       "bi-gram Precision  0.064565  0.068939  0.067738\n",
       "bi-gram Recall     0.069405  0.066087  0.065501"
      ]
     },
     "metadata": {},
     "output_type": "display_data"
    },
    {
     "name": "stdout",
     "output_type": "stream",
     "text": [
      "===================== Median =====================\n"
     ]
    },
    {
     "data": {
      "text/html": [
       "<div>\n",
       "<style scoped>\n",
       "    .dataframe tbody tr th:only-of-type {\n",
       "        vertical-align: middle;\n",
       "    }\n",
       "\n",
       "    .dataframe tbody tr th {\n",
       "        vertical-align: top;\n",
       "    }\n",
       "\n",
       "    .dataframe thead th {\n",
       "        text-align: right;\n",
       "    }\n",
       "</style>\n",
       "<table border=\"1\" class=\"dataframe\">\n",
       "  <thead>\n",
       "    <tr style=\"text-align: right;\">\n",
       "      <th></th>\n",
       "      <th>SMRS</th>\n",
       "      <th>tfidf</th>\n",
       "      <th>embed</th>\n",
       "    </tr>\n",
       "  </thead>\n",
       "  <tbody>\n",
       "    <tr>\n",
       "      <th>1-gram F1</th>\n",
       "      <td>0.647812</td>\n",
       "      <td>0.688567</td>\n",
       "      <td>0.690782</td>\n",
       "    </tr>\n",
       "    <tr>\n",
       "      <th>1-gram Precision</th>\n",
       "      <td>0.610891</td>\n",
       "      <td>0.660235</td>\n",
       "      <td>0.674511</td>\n",
       "    </tr>\n",
       "    <tr>\n",
       "      <th>1-gram Recall</th>\n",
       "      <td>0.661959</td>\n",
       "      <td>0.735258</td>\n",
       "      <td>0.693640</td>\n",
       "    </tr>\n",
       "    <tr>\n",
       "      <th>bi-gram F1</th>\n",
       "      <td>0.065179</td>\n",
       "      <td>0.064288</td>\n",
       "      <td>0.065710</td>\n",
       "    </tr>\n",
       "    <tr>\n",
       "      <th>bi-gram Precision</th>\n",
       "      <td>0.061874</td>\n",
       "      <td>0.063224</td>\n",
       "      <td>0.067244</td>\n",
       "    </tr>\n",
       "    <tr>\n",
       "      <th>bi-gram Recall</th>\n",
       "      <td>0.064432</td>\n",
       "      <td>0.062864</td>\n",
       "      <td>0.064316</td>\n",
       "    </tr>\n",
       "  </tbody>\n",
       "</table>\n",
       "</div>"
      ],
      "text/plain": [
       "                       SMRS     tfidf     embed\n",
       "1-gram F1          0.647812  0.688567  0.690782\n",
       "1-gram Precision   0.610891  0.660235  0.674511\n",
       "1-gram Recall      0.661959  0.735258  0.693640\n",
       "bi-gram F1         0.065179  0.064288  0.065710\n",
       "bi-gram Precision  0.061874  0.063224  0.067244\n",
       "bi-gram Recall     0.064432  0.062864  0.064316"
      ]
     },
     "metadata": {},
     "output_type": "display_data"
    },
    {
     "name": "stdout",
     "output_type": "stream",
     "text": [
      "=============== Standard Deviation ===============\n"
     ]
    },
    {
     "data": {
      "text/html": [
       "<div>\n",
       "<style scoped>\n",
       "    .dataframe tbody tr th:only-of-type {\n",
       "        vertical-align: middle;\n",
       "    }\n",
       "\n",
       "    .dataframe tbody tr th {\n",
       "        vertical-align: top;\n",
       "    }\n",
       "\n",
       "    .dataframe thead th {\n",
       "        text-align: right;\n",
       "    }\n",
       "</style>\n",
       "<table border=\"1\" class=\"dataframe\">\n",
       "  <thead>\n",
       "    <tr style=\"text-align: right;\">\n",
       "      <th></th>\n",
       "      <th>SMRS</th>\n",
       "      <th>tfidf</th>\n",
       "      <th>embed</th>\n",
       "    </tr>\n",
       "  </thead>\n",
       "  <tbody>\n",
       "    <tr>\n",
       "      <th>1-gram F1</th>\n",
       "      <td>0.046560</td>\n",
       "      <td>0.051407</td>\n",
       "      <td>0.052884</td>\n",
       "    </tr>\n",
       "    <tr>\n",
       "      <th>1-gram Precision</th>\n",
       "      <td>0.059141</td>\n",
       "      <td>0.076050</td>\n",
       "      <td>0.073897</td>\n",
       "    </tr>\n",
       "    <tr>\n",
       "      <th>1-gram Recall</th>\n",
       "      <td>0.052975</td>\n",
       "      <td>0.043597</td>\n",
       "      <td>0.085365</td>\n",
       "    </tr>\n",
       "    <tr>\n",
       "      <th>bi-gram F1</th>\n",
       "      <td>0.015344</td>\n",
       "      <td>0.018037</td>\n",
       "      <td>0.012800</td>\n",
       "    </tr>\n",
       "    <tr>\n",
       "      <th>bi-gram Precision</th>\n",
       "      <td>0.017795</td>\n",
       "      <td>0.020761</td>\n",
       "      <td>0.017130</td>\n",
       "    </tr>\n",
       "    <tr>\n",
       "      <th>bi-gram Recall</th>\n",
       "      <td>0.021166</td>\n",
       "      <td>0.019840</td>\n",
       "      <td>0.016779</td>\n",
       "    </tr>\n",
       "  </tbody>\n",
       "</table>\n",
       "</div>"
      ],
      "text/plain": [
       "                       SMRS     tfidf     embed\n",
       "1-gram F1          0.046560  0.051407  0.052884\n",
       "1-gram Precision   0.059141  0.076050  0.073897\n",
       "1-gram Recall      0.052975  0.043597  0.085365\n",
       "bi-gram F1         0.015344  0.018037  0.012800\n",
       "bi-gram Precision  0.017795  0.020761  0.017130\n",
       "bi-gram Recall     0.021166  0.019840  0.016779"
      ]
     },
     "metadata": {},
     "output_type": "display_data"
    },
    {
     "name": "stdout",
     "output_type": "stream",
     "text": [
      "CPU times: user 12min 53s, sys: 36.8 s, total: 13min 30s\n",
      "Wall time: 13min 31s\n"
     ]
    }
   ],
   "source": [
    "%%time\n",
    "rouge_mean_embed, rouge_median_embed, rouge_std_embed = report_rouge_scores(outlook_text, outlook_ref, outlook_title, k, \n",
    "                                                                            rouge_embed=True, methods=methods)\n",
    "index =  ['1-gram F1', '1-gram Precision', '1-gram Recall', 'bi-gram F1', 'bi-gram Precision', 'bi-gram Recall']\n",
    "\n",
    "print('=' * 22 + ' Mean ' + '=' * 22)\n",
    "rouge_mean_embed.index = index\n",
    "display(rouge_mean_embed)\n",
    "\n",
    "print('=' * 21 + ' Median ' + '=' * 21)\n",
    "rouge_median_embed.index = index\n",
    "display(rouge_median_embed)\n",
    "\n",
    "print('=' * 15 + ' Standard Deviation ' + '=' * 15)\n",
    "rouge_std_embed.index = index\n",
    "display(rouge_std_embed)"
   ]
  }
 ],
 "metadata": {
  "hide_input": false,
  "kernelspec": {
   "display_name": "Python 3",
   "language": "python",
   "name": "python3"
  },
  "language_info": {
   "codemirror_mode": {
    "name": "ipython",
    "version": 3
   },
   "file_extension": ".py",
   "mimetype": "text/x-python",
   "name": "python",
   "nbconvert_exporter": "python",
   "pygments_lexer": "ipython3",
   "version": "3.7.3"
  },
  "toc": {
   "base_numbering": 1,
   "nav_menu": {},
   "number_sections": true,
   "sideBar": true,
   "skip_h1_title": false,
   "title_cell": "Table of Contents",
   "title_sidebar": "Contents",
   "toc_cell": false,
   "toc_position": {},
   "toc_section_display": true,
   "toc_window_display": false
  },
  "varInspector": {
   "cols": {
    "lenName": 16,
    "lenType": 16,
    "lenVar": 40
   },
   "kernels_config": {
    "python": {
     "delete_cmd_postfix": "",
     "delete_cmd_prefix": "del ",
     "library": "var_list.py",
     "varRefreshCmd": "print(var_dic_list())"
    },
    "r": {
     "delete_cmd_postfix": ") ",
     "delete_cmd_prefix": "rm(",
     "library": "var_list.r",
     "varRefreshCmd": "cat(var_dic_list()) "
    }
   },
   "types_to_exclude": [
    "module",
    "function",
    "builtin_function_or_method",
    "instance",
    "_Feature"
   ],
   "window_display": false
  }
 },
 "nbformat": 4,
 "nbformat_minor": 2
}
