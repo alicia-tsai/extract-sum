{
 "cells": [
  {
   "cell_type": "code",
   "execution_count": 1,
   "metadata": {},
   "outputs": [],
   "source": [
    "import sys\n",
    "sys.path.append('../src')\n",
    "\n",
    "import numpy as np\n",
    "import pandas as pd\n",
    "import data\n",
    "import utils\n",
    "from main import extract_summary, report_rouge_scores\n",
    "\n",
    "%load_ext autoreload\n",
    "%autoreload 2"
   ]
  },
  {
   "cell_type": "markdown",
   "metadata": {},
   "source": [
    "## Citi Bank 2019 Investment Outlook"
   ]
  },
  {
   "cell_type": "code",
   "execution_count": 2,
   "metadata": {},
   "outputs": [
    {
     "data": {
      "text/html": [
       "<div>\n",
       "<style scoped>\n",
       "    .dataframe tbody tr th:only-of-type {\n",
       "        vertical-align: middle;\n",
       "    }\n",
       "\n",
       "    .dataframe tbody tr th {\n",
       "        vertical-align: top;\n",
       "    }\n",
       "\n",
       "    .dataframe thead th {\n",
       "        text-align: right;\n",
       "    }\n",
       "</style>\n",
       "<table border=\"1\" class=\"dataframe\">\n",
       "  <thead>\n",
       "    <tr style=\"text-align: right;\">\n",
       "      <th></th>\n",
       "      <th>reference</th>\n",
       "      <th>title</th>\n",
       "      <th>text</th>\n",
       "    </tr>\n",
       "  </thead>\n",
       "  <tbody>\n",
       "    <tr>\n",
       "      <th>0</th>\n",
       "      <td>What should I do with my portfolio for 2019? A...</td>\n",
       "      <td>How to invest in 2019</td>\n",
       "      <td>We believe the answer lies in reconciling two ...</td>\n",
       "    </tr>\n",
       "    <tr>\n",
       "      <th>1</th>\n",
       "      <td>In today’s late-cycle US monetary tightening p...</td>\n",
       "      <td>Building stronger portfolios for turbulent times</td>\n",
       "      <td>Global investors have routinely doubted the du...</td>\n",
       "    </tr>\n",
       "    <tr>\n",
       "      <th>2</th>\n",
       "      <td>We do not expect the next US recession and glo...</td>\n",
       "      <td>2020: What to expect when you are expecting re...</td>\n",
       "      <td>We do not expect the next US recession and glo...</td>\n",
       "    </tr>\n",
       "    <tr>\n",
       "      <th>3</th>\n",
       "      <td>In September 2018, the US successfully conclud...</td>\n",
       "      <td>Will the trade war open or close markets?</td>\n",
       "      <td>In September 2018, the US successfully conclud...</td>\n",
       "    </tr>\n",
       "    <tr>\n",
       "      <th>4</th>\n",
       "      <td>The trade war came as a shock to markets in 20...</td>\n",
       "      <td>The expected and unexpected events of 2018</td>\n",
       "      <td>The trade war came as a shock to markets in 20...</td>\n",
       "    </tr>\n",
       "  </tbody>\n",
       "</table>\n",
       "</div>"
      ],
      "text/plain": [
       "                                           reference  \\\n",
       "0  What should I do with my portfolio for 2019? A...   \n",
       "1  In today’s late-cycle US monetary tightening p...   \n",
       "2  We do not expect the next US recession and glo...   \n",
       "3  In September 2018, the US successfully conclud...   \n",
       "4  The trade war came as a shock to markets in 20...   \n",
       "\n",
       "                                               title  \\\n",
       "0                              How to invest in 2019   \n",
       "1   Building stronger portfolios for turbulent times   \n",
       "2  2020: What to expect when you are expecting re...   \n",
       "3          Will the trade war open or close markets?   \n",
       "4         The expected and unexpected events of 2018   \n",
       "\n",
       "                                                text  \n",
       "0  We believe the answer lies in reconciling two ...  \n",
       "1  Global investors have routinely doubted the du...  \n",
       "2  We do not expect the next US recession and glo...  \n",
       "3  In September 2018, the US successfully conclud...  \n",
       "4  The trade war came as a shock to markets in 20...  "
      ]
     },
     "execution_count": 2,
     "metadata": {},
     "output_type": "execute_result"
    }
   ],
   "source": [
    "citi = pd.read_csv('../data/2019-outlooks/citi.csv')\n",
    "citi_title, citi_ref, citi_text = data.get_outlook_data()\n",
    "citi.head()"
   ]
  },
  {
   "cell_type": "code",
   "execution_count": 5,
   "metadata": {},
   "outputs": [],
   "source": [
    "doc_idx = 3\n",
    "doc = citi_text[doc_idx]\n",
    "ref = citi_ref[doc_idx]\n",
    "title = citi_title[doc_idx]"
   ]
  },
  {
   "cell_type": "code",
   "execution_count": 6,
   "metadata": {
    "scrolled": false
   },
   "outputs": [
    {
     "name": "stdout",
     "output_type": "stream",
     "text": [
      "# sentence: 28, # vocab: 318\n",
      "# of selected exemplar: 2\n",
      "\n",
      "Title: Will the trade war open or close markets?\n",
      "\n",
      "=============== Referecne Text ==============\n",
      "In September 2018, the US successfully concluded a revised trade agreement with South Korea, and then with Canada and Mexico. Two different outcomes, one benign and one dangerous\n",
      "\n",
      "========== Extracted summary: random selection ==========\n",
      "During 2018, hopes and fears over trade between the european union and the us waxed and waned. Despite cutting trade deals with certain partners that have reduced trade barriers, some of his comments suggest traditional protectionism is his ultimate goal\n",
      "Random selection computation time: 0.000\n",
      "\n",
      "========== Extracted summary: Tfidf ==========\n",
      "Indeed, it seems to be the case that the us is aiming both to lower and raise trade barriers for specific counterparties - see the expected and unexpected events of 2018.two different outcomes, one benign and one dangerousa conventional economic analysis of the objectives of ft and bt finds sharply different economic implications. Will the us-driven renegotiations and other actions result in more open or more closed international trade?the us administration appears to have two conflicting objectives in the trade war that it has initiated\n",
      "Tfidf computation time: 0.003\n",
      "\n",
      "====== Extracted summary: sentence embeddings ======\n",
      "Sentence embedding shape: (2, 25)\n",
      "In september 2018, the us successfully concluded a revised trade agreement with south korea, and then with canada and mexico. During 2018, hopes and fears over trade between the european union and the us waxed and waned\n",
      "Sentence embedding computation time: 0.000\n",
      "\n",
      "=============== ROUGE Scores ===============\n",
      "Random:\n",
      "Overlap 1-gram \t\t\tF1: 0.172\n",
      "Overlap 1-gram \t\t\tPrecision: 0.147\n",
      "Overlap 1-gram \t\t\tRecall: 0.208\n",
      "Overlap bi-gram \t\tF1: 0.000\n",
      "Overlap bi-gram \t\tPrecision: 0.000\n",
      "Overlap bi-gram \t\tRecall: 0.000\n",
      "Longest Common Subsequence \tF1: 0.130\n",
      "Longest Common Subsequence \tPrecision: 0.118\n",
      "Longest Common Subsequence \tRecall: 0.167\n",
      "\n",
      "Tfidf:\n",
      "Overlap 1-gram \t\t\tF1: 0.163\n",
      "Overlap 1-gram \t\t\tPrecision: 0.113\n",
      "Overlap 1-gram \t\t\tRecall: 0.292\n",
      "Overlap bi-gram \t\tF1: 0.089\n",
      "Overlap bi-gram \t\tPrecision: 0.059\n",
      "Overlap bi-gram \t\tRecall: 0.185\n",
      "Longest Common Subsequence \tF1: 0.105\n",
      "Longest Common Subsequence \tPrecision: 0.097\n",
      "Longest Common Subsequence \tRecall: 0.250\n",
      "\n",
      "Sentence embeddings:\n",
      "Overlap 1-gram \t\t\tF1: 0.471\n",
      "Overlap 1-gram \t\t\tPrecision: 0.444\n",
      "Overlap 1-gram \t\t\tRecall: 0.500\n",
      "Overlap bi-gram \t\tF1: 0.290\n",
      "Overlap bi-gram \t\tPrecision: 0.257\n",
      "Overlap bi-gram \t\tRecall: 0.333\n",
      "Longest Common Subsequence \tF1: 0.467\n",
      "Longest Common Subsequence \tPrecision: 0.444\n",
      "Longest Common Subsequence \tRecall: 0.500\n"
     ]
    }
   ],
   "source": [
    "k=5\n",
    "extract_summary(doc, ref, title, k=k);"
   ]
  },
  {
   "cell_type": "markdown",
   "metadata": {
    "heading_collapsed": true
   },
   "source": [
    "### ROUGE Scores Across Documents"
   ]
  },
  {
   "cell_type": "code",
   "execution_count": 23,
   "metadata": {
    "hidden": true
   },
   "outputs": [],
   "source": [
    "k = 5\n",
    "rouge_mean, rouge_median, rouge_std = report_rouge_scores(citi_text, citi_ref, citi_title, k)"
   ]
  },
  {
   "cell_type": "code",
   "execution_count": 24,
   "metadata": {
    "hidden": true
   },
   "outputs": [],
   "source": [
    "index =  ['1-gram F1', '1-gram Precision', '1-gram Recall', 'bi-gram F1', 'bi-gram Precision', 'bi-gram Recall', \n",
    "          'longest common F1', 'longest common Precision', 'longest common Recall']"
   ]
  },
  {
   "cell_type": "markdown",
   "metadata": {
    "hidden": true
   },
   "source": [
    "#### Mean"
   ]
  },
  {
   "cell_type": "code",
   "execution_count": 34,
   "metadata": {
    "hidden": true
   },
   "outputs": [
    {
     "name": "stdout",
     "output_type": "stream",
     "text": [
      "====================== Mean ======================\n"
     ]
    },
    {
     "data": {
      "text/html": [
       "<div>\n",
       "<style scoped>\n",
       "    .dataframe tbody tr th:only-of-type {\n",
       "        vertical-align: middle;\n",
       "    }\n",
       "\n",
       "    .dataframe tbody tr th {\n",
       "        vertical-align: top;\n",
       "    }\n",
       "\n",
       "    .dataframe thead th {\n",
       "        text-align: right;\n",
       "    }\n",
       "</style>\n",
       "<table border=\"1\" class=\"dataframe\">\n",
       "  <thead>\n",
       "    <tr style=\"text-align: right;\">\n",
       "      <th></th>\n",
       "      <th>tfidf</th>\n",
       "      <th>embed</th>\n",
       "      <th>random</th>\n",
       "    </tr>\n",
       "  </thead>\n",
       "  <tbody>\n",
       "    <tr>\n",
       "      <th>1-gram F1</th>\n",
       "      <td>0.183769</td>\n",
       "      <td>0.484493</td>\n",
       "      <td>0.182760</td>\n",
       "    </tr>\n",
       "    <tr>\n",
       "      <th>1-gram Precision</th>\n",
       "      <td>0.373648</td>\n",
       "      <td>0.340154</td>\n",
       "      <td>0.324967</td>\n",
       "    </tr>\n",
       "    <tr>\n",
       "      <th>1-gram Recall</th>\n",
       "      <td>0.201445</td>\n",
       "      <td>0.343194</td>\n",
       "      <td>0.195328</td>\n",
       "    </tr>\n",
       "    <tr>\n",
       "      <th>bi-gram F1</th>\n",
       "      <td>0.076187</td>\n",
       "      <td>0.377873</td>\n",
       "      <td>0.068766</td>\n",
       "    </tr>\n",
       "    <tr>\n",
       "      <th>bi-gram Precision</th>\n",
       "      <td>0.170275</td>\n",
       "      <td>0.250790</td>\n",
       "      <td>0.143259</td>\n",
       "    </tr>\n",
       "    <tr>\n",
       "      <th>bi-gram Recall</th>\n",
       "      <td>0.103424</td>\n",
       "      <td>0.282112</td>\n",
       "      <td>0.090473</td>\n",
       "    </tr>\n",
       "    <tr>\n",
       "      <th>longest common F1</th>\n",
       "      <td>0.189202</td>\n",
       "      <td>0.501227</td>\n",
       "      <td>0.197225</td>\n",
       "    </tr>\n",
       "    <tr>\n",
       "      <th>longest common Precision</th>\n",
       "      <td>0.385089</td>\n",
       "      <td>0.355201</td>\n",
       "      <td>0.350981</td>\n",
       "    </tr>\n",
       "    <tr>\n",
       "      <th>longest common Recall</th>\n",
       "      <td>0.248385</td>\n",
       "      <td>0.394298</td>\n",
       "      <td>0.244551</td>\n",
       "    </tr>\n",
       "  </tbody>\n",
       "</table>\n",
       "</div>"
      ],
      "text/plain": [
       "                             tfidf     embed    random\n",
       "1-gram F1                 0.183769  0.484493  0.182760\n",
       "1-gram Precision          0.373648  0.340154  0.324967\n",
       "1-gram Recall             0.201445  0.343194  0.195328\n",
       "bi-gram F1                0.076187  0.377873  0.068766\n",
       "bi-gram Precision         0.170275  0.250790  0.143259\n",
       "bi-gram Recall            0.103424  0.282112  0.090473\n",
       "longest common F1         0.189202  0.501227  0.197225\n",
       "longest common Precision  0.385089  0.355201  0.350981\n",
       "longest common Recall     0.248385  0.394298  0.244551"
      ]
     },
     "metadata": {},
     "output_type": "display_data"
    }
   ],
   "source": [
    "print('=' * 22 + ' Mean ' + '=' * 22)\n",
    "rouge_mean.index = index\n",
    "display(rouge_mean)"
   ]
  },
  {
   "cell_type": "markdown",
   "metadata": {
    "hidden": true
   },
   "source": [
    "#### Median"
   ]
  },
  {
   "cell_type": "code",
   "execution_count": 36,
   "metadata": {
    "hidden": true
   },
   "outputs": [
    {
     "name": "stdout",
     "output_type": "stream",
     "text": [
      "===================== Median =====================\n"
     ]
    },
    {
     "data": {
      "text/html": [
       "<div>\n",
       "<style scoped>\n",
       "    .dataframe tbody tr th:only-of-type {\n",
       "        vertical-align: middle;\n",
       "    }\n",
       "\n",
       "    .dataframe tbody tr th {\n",
       "        vertical-align: top;\n",
       "    }\n",
       "\n",
       "    .dataframe thead th {\n",
       "        text-align: right;\n",
       "    }\n",
       "</style>\n",
       "<table border=\"1\" class=\"dataframe\">\n",
       "  <thead>\n",
       "    <tr style=\"text-align: right;\">\n",
       "      <th></th>\n",
       "      <th>tfidf</th>\n",
       "      <th>embed</th>\n",
       "      <th>random</th>\n",
       "    </tr>\n",
       "  </thead>\n",
       "  <tbody>\n",
       "    <tr>\n",
       "      <th>1-gram F1</th>\n",
       "      <td>0.158926</td>\n",
       "      <td>0.356838</td>\n",
       "      <td>0.150707</td>\n",
       "    </tr>\n",
       "    <tr>\n",
       "      <th>1-gram Precision</th>\n",
       "      <td>0.361063</td>\n",
       "      <td>0.241652</td>\n",
       "      <td>0.292400</td>\n",
       "    </tr>\n",
       "    <tr>\n",
       "      <th>1-gram Recall</th>\n",
       "      <td>0.174802</td>\n",
       "      <td>0.257618</td>\n",
       "      <td>0.152667</td>\n",
       "    </tr>\n",
       "    <tr>\n",
       "      <th>bi-gram F1</th>\n",
       "      <td>0.046854</td>\n",
       "      <td>0.163054</td>\n",
       "      <td>0.026898</td>\n",
       "    </tr>\n",
       "    <tr>\n",
       "      <th>bi-gram Precision</th>\n",
       "      <td>0.118249</td>\n",
       "      <td>0.140884</td>\n",
       "      <td>0.036537</td>\n",
       "    </tr>\n",
       "    <tr>\n",
       "      <th>bi-gram Recall</th>\n",
       "      <td>0.066195</td>\n",
       "      <td>0.164392</td>\n",
       "      <td>0.027950</td>\n",
       "    </tr>\n",
       "    <tr>\n",
       "      <th>longest common F1</th>\n",
       "      <td>0.162714</td>\n",
       "      <td>0.376068</td>\n",
       "      <td>0.188958</td>\n",
       "    </tr>\n",
       "    <tr>\n",
       "      <th>longest common Precision</th>\n",
       "      <td>0.368565</td>\n",
       "      <td>0.288163</td>\n",
       "      <td>0.332078</td>\n",
       "    </tr>\n",
       "    <tr>\n",
       "      <th>longest common Recall</th>\n",
       "      <td>0.218344</td>\n",
       "      <td>0.372794</td>\n",
       "      <td>0.218951</td>\n",
       "    </tr>\n",
       "  </tbody>\n",
       "</table>\n",
       "</div>"
      ],
      "text/plain": [
       "                             tfidf     embed    random\n",
       "1-gram F1                 0.158926  0.356838  0.150707\n",
       "1-gram Precision          0.361063  0.241652  0.292400\n",
       "1-gram Recall             0.174802  0.257618  0.152667\n",
       "bi-gram F1                0.046854  0.163054  0.026898\n",
       "bi-gram Precision         0.118249  0.140884  0.036537\n",
       "bi-gram Recall            0.066195  0.164392  0.027950\n",
       "longest common F1         0.162714  0.376068  0.188958\n",
       "longest common Precision  0.368565  0.288163  0.332078\n",
       "longest common Recall     0.218344  0.372794  0.218951"
      ]
     },
     "metadata": {},
     "output_type": "display_data"
    }
   ],
   "source": [
    "print('=' * 21 + ' Median ' + '=' * 21)\n",
    "rouge_median.index = index\n",
    "display(rouge_median)"
   ]
  },
  {
   "cell_type": "markdown",
   "metadata": {
    "hidden": true
   },
   "source": [
    "#### STD"
   ]
  },
  {
   "cell_type": "code",
   "execution_count": 31,
   "metadata": {
    "hidden": true
   },
   "outputs": [
    {
     "name": "stdout",
     "output_type": "stream",
     "text": [
      "=============== Standard Deviation ===============\n"
     ]
    },
    {
     "data": {
      "text/html": [
       "<div>\n",
       "<style scoped>\n",
       "    .dataframe tbody tr th:only-of-type {\n",
       "        vertical-align: middle;\n",
       "    }\n",
       "\n",
       "    .dataframe tbody tr th {\n",
       "        vertical-align: top;\n",
       "    }\n",
       "\n",
       "    .dataframe thead th {\n",
       "        text-align: right;\n",
       "    }\n",
       "</style>\n",
       "<table border=\"1\" class=\"dataframe\">\n",
       "  <thead>\n",
       "    <tr style=\"text-align: right;\">\n",
       "      <th></th>\n",
       "      <th>tfidf</th>\n",
       "      <th>embed</th>\n",
       "      <th>random</th>\n",
       "    </tr>\n",
       "  </thead>\n",
       "  <tbody>\n",
       "    <tr>\n",
       "      <th>1-gram F1</th>\n",
       "      <td>0.085545</td>\n",
       "      <td>0.357145</td>\n",
       "      <td>0.072470</td>\n",
       "    </tr>\n",
       "    <tr>\n",
       "      <th>1-gram Precision</th>\n",
       "      <td>0.133017</td>\n",
       "      <td>0.278570</td>\n",
       "      <td>0.162274</td>\n",
       "    </tr>\n",
       "    <tr>\n",
       "      <th>1-gram Recall</th>\n",
       "      <td>0.096600</td>\n",
       "      <td>0.282402</td>\n",
       "      <td>0.079517</td>\n",
       "    </tr>\n",
       "    <tr>\n",
       "      <th>bi-gram F1</th>\n",
       "      <td>0.081912</td>\n",
       "      <td>0.423056</td>\n",
       "      <td>0.075786</td>\n",
       "    </tr>\n",
       "    <tr>\n",
       "      <th>bi-gram Precision</th>\n",
       "      <td>0.172753</td>\n",
       "      <td>0.297306</td>\n",
       "      <td>0.169323</td>\n",
       "    </tr>\n",
       "    <tr>\n",
       "      <th>bi-gram Recall</th>\n",
       "      <td>0.110179</td>\n",
       "      <td>0.317776</td>\n",
       "      <td>0.102448</td>\n",
       "    </tr>\n",
       "    <tr>\n",
       "      <th>longest common F1</th>\n",
       "      <td>0.083832</td>\n",
       "      <td>0.344351</td>\n",
       "      <td>0.069573</td>\n",
       "    </tr>\n",
       "    <tr>\n",
       "      <th>longest common Precision</th>\n",
       "      <td>0.126565</td>\n",
       "      <td>0.269567</td>\n",
       "      <td>0.161630</td>\n",
       "    </tr>\n",
       "    <tr>\n",
       "      <th>longest common Recall</th>\n",
       "      <td>0.098887</td>\n",
       "      <td>0.278710</td>\n",
       "      <td>0.089826</td>\n",
       "    </tr>\n",
       "  </tbody>\n",
       "</table>\n",
       "</div>"
      ],
      "text/plain": [
       "                             tfidf     embed    random\n",
       "1-gram F1                 0.085545  0.357145  0.072470\n",
       "1-gram Precision          0.133017  0.278570  0.162274\n",
       "1-gram Recall             0.096600  0.282402  0.079517\n",
       "bi-gram F1                0.081912  0.423056  0.075786\n",
       "bi-gram Precision         0.172753  0.297306  0.169323\n",
       "bi-gram Recall            0.110179  0.317776  0.102448\n",
       "longest common F1         0.083832  0.344351  0.069573\n",
       "longest common Precision  0.126565  0.269567  0.161630\n",
       "longest common Recall     0.098887  0.278710  0.089826"
      ]
     },
     "metadata": {},
     "output_type": "display_data"
    }
   ],
   "source": [
    "print('=' * 15 + ' Standard Deviation ' + '=' * 15)\n",
    "rouge_std.index = index\n",
    "display(rouge_std)"
   ]
  },
  {
   "cell_type": "markdown",
   "metadata": {
    "heading_collapsed": true
   },
   "source": [
    "## WikiHow Data"
   ]
  },
  {
   "cell_type": "code",
   "execution_count": 40,
   "metadata": {
    "hidden": true
   },
   "outputs": [],
   "source": [
    "wiki_title, wiki_ref, wiki_text = data.get_wiki_data()"
   ]
  },
  {
   "cell_type": "code",
   "execution_count": 51,
   "metadata": {
    "hidden": true
   },
   "outputs": [],
   "source": [
    "doc_idx = 8\n",
    "doc = wiki_text[doc_idx]\n",
    "ref = wiki_ref[doc_idx]\n",
    "title = wiki_title[doc_idx]"
   ]
  },
  {
   "cell_type": "code",
   "execution_count": 52,
   "metadata": {
    "hidden": true,
    "scrolled": false
   },
   "outputs": [
    {
     "name": "stdout",
     "output_type": "stream",
     "text": [
      "# sentence: 31, # vocab: 230\n",
      "# of selected exemplar: 1\n",
      "\n",
      "Title: How to Be Good at Improvisation\n",
      "\n",
      "=============== Referecne Text ==============\n",
      " Make sure you know what is expected of you., Stick to your topic., Don't try to be to be funny unless the scenario calls for it., Act naturally for the situation; talk, act and sit as your character would usually do in the circumstances., Participate., Don't react to what others say as yourself, stay in character., Don't make anything violent or too crazy., Relax and enjoy yourself., Be your character., Play games that allow you to practice improvisation.\n",
      "\n",
      "========== Extracted summary: random selection ==========\n",
      " some entire movies are improvised, some plays are\n",
      "Random selection computation time: 0.000\n",
      "\n",
      "========== Extracted summary: Tfidf ==========\n",
      "Don't introduce the fact you have a super power if you are supposed to be showing how to close a sale or pretend the room is starting to flood when you're meant to be being your interpretation of a clock that needs winding\n",
      "Tfidf computation time: 0.001\n",
      "\n",
      "====== Extracted summary: sentence embeddings ======\n",
      "Sentence embedding shape: (2, 25)\n",
      " some entire movies are improvised, some plays are\n",
      "Sentence embedding computation time: 0.000\n",
      "\n",
      "=============== ROUGE Scores ===============\n",
      "Random:\n",
      "Overlap 1-gram \t\t\tF1: 0.000\n",
      "Overlap 1-gram \t\t\tPrecision: 0.000\n",
      "Overlap 1-gram \t\t\tRecall: 0.000\n",
      "Overlap bi-gram \t\tF1: 0.000\n",
      "Overlap bi-gram \t\tPrecision: 0.000\n",
      "Overlap bi-gram \t\tRecall: 0.000\n",
      "Longest Common Subsequence \tF1: 0.000\n",
      "Longest Common Subsequence \tPrecision: 0.000\n",
      "Longest Common Subsequence \tRecall: 0.000\n",
      "\n",
      "Tfidf:\n",
      "Overlap 1-gram \t\t\tF1: 0.213\n",
      "Overlap 1-gram \t\t\tPrecision: 0.286\n",
      "Overlap 1-gram \t\t\tRecall: 0.169\n",
      "Overlap bi-gram \t\tF1: 0.016\n",
      "Overlap bi-gram \t\tPrecision: 0.024\n",
      "Overlap bi-gram \t\tRecall: 0.012\n",
      "Longest Common Subsequence \tF1: 0.171\n",
      "Longest Common Subsequence \tPrecision: 0.257\n",
      "Longest Common Subsequence \tRecall: 0.153\n",
      "\n",
      "Sentence embeddings:\n",
      "Overlap 1-gram \t\t\tF1: 0.000\n",
      "Overlap 1-gram \t\t\tPrecision: 0.000\n",
      "Overlap 1-gram \t\t\tRecall: 0.000\n",
      "Overlap bi-gram \t\tF1: 0.000\n",
      "Overlap bi-gram \t\tPrecision: 0.000\n",
      "Overlap bi-gram \t\tRecall: 0.000\n",
      "Longest Common Subsequence \tF1: 0.000\n",
      "Longest Common Subsequence \tPrecision: 0.000\n",
      "Longest Common Subsequence \tRecall: 0.000\n"
     ]
    }
   ],
   "source": [
    "k=5\n",
    "extract_summary(doc, ref, title, k=k);"
   ]
  },
  {
   "cell_type": "markdown",
   "metadata": {
    "heading_collapsed": true
   },
   "source": [
    "## Bible (No Reference)"
   ]
  },
  {
   "cell_type": "code",
   "execution_count": 9,
   "metadata": {
    "hidden": true
   },
   "outputs": [],
   "source": [
    "bible = data.get_bible_data()"
   ]
  },
  {
   "cell_type": "code",
   "execution_count": 10,
   "metadata": {
    "hidden": true,
    "scrolled": true
   },
   "outputs": [],
   "source": [
    "chapter = 'Ex'\n",
    "doc = ' '.join(bible[chapter])"
   ]
  },
  {
   "cell_type": "code",
   "execution_count": 11,
   "metadata": {
    "hidden": true
   },
   "outputs": [
    {
     "name": "stdout",
     "output_type": "stream",
     "text": [
      "# sentence: 1109, # vocab: 2017\n",
      "# of selected exemplar: 5\n",
      "\n",
      "Title: Ex\n",
      "\n",
      "\n",
      "========== Extracted summary: random selection ==========\n",
      "But the flesh of the bullock, and his skin, and his dung, shalt thou burn with fire without the camp: it [is] a sin offering. See, for that the lord hath given you the sabbath, therefore he giveth you on the sixth day the bread of two days; abide ye every man in his place, let no man go out of his place on the seventh day. And when the lord saw that he turned aside to see, god called unto him out of the midst of the bush, and said, moses, moses. And moses said, let no man leave of it till the morning. And the stones [were] according to the names of the children of israel, twelve, according to their names, [like] the engravings of a signet, every one with his name, according to the twelve tribes\n",
      "Random selection computation time: 0.001\n",
      "\n",
      "========== Extracted summary: Tfidf ==========\n",
      "And they brought the tabernacle unto moses, the tent, and all his furniture, his taches, his boards, his bars, and his pillars, and his sockets, and the covering of rams� skins dyed red, and the covering of badgers� skins, and the vail of the covering, the ark of the testimony, and the staves thereof, and the mercy seat, the table, [and] all the vessels thereof, and the shewbread, the pure candlestick, [with] the lamps thereof, [even with] the lamps to be set in order, and all the vessels thereof, and the oil for light, and the golden altar, and the anointing oil, and the sweet incense, and the hanging for the tabernacle door, the brasen altar, and his grate of brass, his staves, and all his vessels, the laver and his foot, the hangings of the court, his pillars, and his sockets, and the hanging for the court gate, his cords, and his pins, and all the vessels of the service of the tabernacle, for the tent of the congregation, the cloths of service to do service in the holy [place], and the holy garments for aaron the priest, and his sons� garments, to minister in the priest�s office. And it came to pass on the day [when] the lord spake unto moses in the land of egypt, that the lord spake unto moses, saying, i [am] the lord: speak thou unto pharaoh king of egypt all that i say unto thee. And thou shalt make the breastplate of judgment with cunning work; after the work of the ephod thou shalt make it; [of] gold, [of] blue, and [of] purple, and [of] scarlet, and [of] fine twined linen, shalt thou make it. And moses and aaron said unto all the children of israel, at even, then ye shall know that the lord hath brought you out from the land of egypt: and in the morning, then ye shall see the glory of the lord; for that he heareth your murmurings against the lord: and what [are] we, that ye murmur against us. And the lord said unto moses, depart, [and] go up hence, thou and the people which thou hast brought up out of the land of egypt, unto the land which i sware unto abraham, to isaac, and to jacob, saying, unto thy seed will i give it: and i will send an angel before thee; and i will drive out the canaanite, the amorite, and the hittite, and the perizzite, the hivite, and the jebusite: unto a land flowing with milk and honey: for i will not go up in the midst of thee; for thou [art] a stiffnecked people: lest i consume thee in the way\n",
      "Tfidf computation time: 3.842\n",
      "\n",
      "====== Extracted summary: sentence embeddings ======\n",
      "Sentence embedding shape: (1109, 25)\n",
      "here? ALERT: less than num_exemp were selected: 2\n",
      "Reuben, simeon, levi, and judah, issachar, zebulun, and benjamin, dan, and naphtali, gad, and asher. Have not i the lord\n",
      "Sentence embedding computation time: 138.273\n"
     ]
    }
   ],
   "source": [
    "k=5\n",
    "extract_summary(doc, title=chapter, k=k);"
   ]
  }
 ],
 "metadata": {
  "hide_input": false,
  "kernelspec": {
   "display_name": "Python 2",
   "language": "python",
   "name": "python2"
  },
  "language_info": {
   "codemirror_mode": {
    "name": "ipython",
    "version": 2
   },
   "file_extension": ".py",
   "mimetype": "text/x-python",
   "name": "python",
   "nbconvert_exporter": "python",
   "pygments_lexer": "ipython2",
   "version": "2.7.16"
  },
  "toc": {
   "base_numbering": 1,
   "nav_menu": {},
   "number_sections": true,
   "sideBar": true,
   "skip_h1_title": false,
   "title_cell": "Table of Contents",
   "title_sidebar": "Contents",
   "toc_cell": false,
   "toc_position": {},
   "toc_section_display": true,
   "toc_window_display": false
  },
  "varInspector": {
   "cols": {
    "lenName": 16,
    "lenType": 16,
    "lenVar": 40
   },
   "kernels_config": {
    "python": {
     "delete_cmd_postfix": "",
     "delete_cmd_prefix": "del ",
     "library": "var_list.py",
     "varRefreshCmd": "print(var_dic_list())"
    },
    "r": {
     "delete_cmd_postfix": ") ",
     "delete_cmd_prefix": "rm(",
     "library": "var_list.r",
     "varRefreshCmd": "cat(var_dic_list()) "
    }
   },
   "types_to_exclude": [
    "module",
    "function",
    "builtin_function_or_method",
    "instance",
    "_Feature"
   ],
   "window_display": false
  }
 },
 "nbformat": 4,
 "nbformat_minor": 2
}
