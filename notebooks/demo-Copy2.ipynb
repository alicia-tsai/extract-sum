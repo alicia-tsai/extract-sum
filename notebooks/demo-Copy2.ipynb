{
 "cells": [
  {
   "cell_type": "code",
   "execution_count": 1,
   "metadata": {},
   "outputs": [],
   "source": [
    "import sys\n",
    "sys.path.append('../src')\n",
    "\n",
    "import numpy as np\n",
    "import pandas as pd\n",
    "import data\n",
    "import utils\n",
    "from main import extract_summary, report_rouge_scores\n",
    "\n",
    "%load_ext autoreload\n",
    "%autoreload 2"
   ]
  },
  {
   "cell_type": "markdown",
   "metadata": {},
   "source": [
    "## Credit Suisse 2019 Investment Outlook"
   ]
  },
  {
   "cell_type": "code",
   "execution_count": 2,
   "metadata": {},
   "outputs": [
    {
     "name": "stdout",
     "output_type": "stream",
     "text": [
      "14\n"
     ]
    }
   ],
   "source": [
    "outlook = pd.read_csv('../data/2019-outlooks/cs.csv')\n",
    "outlook_title, outlook_ref, outlook_text = data.get_outlook_data()\n",
    "print(len(outlook))"
   ]
  },
  {
   "cell_type": "markdown",
   "metadata": {},
   "source": [
    "### Summarization"
   ]
  },
  {
   "cell_type": "code",
   "execution_count": 3,
   "metadata": {},
   "outputs": [
    {
     "name": "stdout",
     "output_type": "stream",
     "text": [
      "# sentence: 32, # vocab: 312\n",
      "# of selected exemplar: 5\n",
      "\n",
      "Title: Drivers likely to extend the cycle \n",
      "\n",
      "=============== Referecne Text ==============\n",
      "From technology and USD stability to emerging markets rebalancing, we review six key market drivers and risks in 2019. Keeping inflation under control. US dollar stability. China’s resilience. Calmer European politics. Emerging markets rebalancing. Tech and healthcare innovations. The best of all worlds is a fairly stable USD.\n",
      "\n",
      "========== Extracted summary: SMRS ==========\n",
      "Social media, online shopping and ever more elaborate hand-held devices have taken the world by storm. Bond yields would further increase significantly, while equities and other risk assets would likely decline substantially. Meanwhile, we believe that italy and the eu will ultimately find a compromise over the country’s budget deficit while reaffirming italy’s euro membership. Significant usd weakness puts pressure on export champions, such as germany and japan. After 2008, cheap usd funds seduced em, especially corporations, to substantially boost their foreign currency borrowing\n",
      "SMRS computation time: 0.217\n",
      "\n",
      "========== Extracted summary: Tfidf ==========\n",
      "The more important question for markets is whether inflation will remain as benign as it has been. Gyrations of the usd tend to destabilize the world economy and financial markets. Us trade policy is putting considerable strain on china. If its policymakers proceed cautiously, as in 2018, risks of instability should be limited and the expansion can be extended. Eurozone growth is expected to remain above potential in 2019, thanks in part to still loose monetary conditions\n",
      "Tfidf computation time: 0.004\n",
      "\n",
      "====== Extracted summary: sentence embeddings ======\n",
      "Bond yields would further increase significantly, while equities and other risk assets would likely decline substantially. The best of all worlds is a fairly stable usd. Us trade policy is putting considerable strain on china. We expect political stresses to calm down to some extent. Technology stocks have been the dominant driver of global equity markets in the past decade\n",
      "Sentence embedding computation time: 0.001\n"
     ]
    }
   ],
   "source": [
    "doc_idx = 0\n",
    "doc = outlook_text[doc_idx]\n",
    "ref = outlook_ref[doc_idx]\n",
    "title = outlook_title[doc_idx]\n",
    "\n",
    "k=5\n",
    "methods = ['SMRS', 'tfidf', 'embed']\n",
    "extract_summary(doc, ref, title, k=k, report_rouge=False, methods=methods, print_summary=True);"
   ]
  },
  {
   "cell_type": "markdown",
   "metadata": {},
   "source": [
    "### ROUGE Score"
   ]
  },
  {
   "cell_type": "code",
   "execution_count": 10,
   "metadata": {},
   "outputs": [
    {
     "name": "stdout",
     "output_type": "stream",
     "text": [
      "\n",
      "=============== ROUGE Scores ===============\n",
      "\n",
      "SMRS\n",
      "Overlap 1-gram \t\t\tF1: 0.068\n",
      "Overlap 1-gram \t\t\tPrecision: 0.053\n",
      "Overlap 1-gram \t\t\tRecall: 0.093\n",
      "Overlap bi-gram \t\tF1: 0.000\n",
      "Overlap bi-gram \t\tPrecision: 0.000\n",
      "Overlap bi-gram \t\tRecall: 0.000\n",
      "Longest Common Subsequence \tF1: 0.060\n",
      "Longest Common Subsequence \tPrecision: 0.053\n",
      "Longest Common Subsequence \tRecall: 0.093\n",
      "\n",
      "tfidf\n",
      "Overlap 1-gram \t\t\tF1: 0.171\n",
      "Overlap 1-gram \t\t\tPrecision: 0.145\n",
      "Overlap 1-gram \t\t\tRecall: 0.209\n",
      "Overlap bi-gram \t\tF1: 0.000\n",
      "Overlap bi-gram \t\tPrecision: 0.000\n",
      "Overlap bi-gram \t\tRecall: 0.000\n",
      "Longest Common Subsequence \tF1: 0.143\n",
      "Longest Common Subsequence \tPrecision: 0.129\n",
      "Longest Common Subsequence \tRecall: 0.186\n",
      "\n",
      "embed\n",
      "Overlap 1-gram \t\t\tF1: 0.265\n",
      "Overlap 1-gram \t\t\tPrecision: 0.236\n",
      "Overlap 1-gram \t\t\tRecall: 0.302\n",
      "Overlap bi-gram \t\tF1: 0.151\n",
      "Overlap bi-gram \t\tPrecision: 0.136\n",
      "Overlap bi-gram \t\tRecall: 0.170\n",
      "Longest Common Subsequence \tF1: 0.258\n",
      "Longest Common Subsequence \tPrecision: 0.236\n",
      "Longest Common Subsequence \tRecall: 0.302\n",
      "CPU times: user 7.3 s, sys: 396 ms, total: 7.7 s\n",
      "Wall time: 7.71 s\n"
     ]
    }
   ],
   "source": [
    "%%time\n",
    "summary, runtime, scores = extract_summary(doc, ref, title, k=k, report_rouge=True, rouge_embed=False, \n",
    "                                           methods=methods, print_summary=False, print_rouge=True);"
   ]
  },
  {
   "cell_type": "markdown",
   "metadata": {},
   "source": [
    "### Word Embedding ROUGE Score"
   ]
  },
  {
   "cell_type": "code",
   "execution_count": 11,
   "metadata": {
    "scrolled": false
   },
   "outputs": [
    {
     "name": "stdout",
     "output_type": "stream",
     "text": [
      "\n",
      "=============== ROUGE Scores ===============\n",
      "\n",
      "SMRS\n",
      "Overlap 1-gram \t\t\tF1: 0.599\n",
      "Overlap 1-gram \t\t\tPrecision: 0.584\n",
      "Overlap 1-gram \t\t\tRecall: 0.615\n",
      "Overlap bi-gram \t\tF1: 0.045\n",
      "Overlap bi-gram \t\tPrecision: 0.044\n",
      "Overlap bi-gram \t\tRecall: 0.046\n",
      "\n",
      "tfidf\n",
      "Overlap 1-gram \t\t\tF1: 0.667\n",
      "Overlap 1-gram \t\t\tPrecision: 0.664\n",
      "Overlap 1-gram \t\t\tRecall: 0.670\n",
      "Overlap bi-gram \t\tF1: 0.047\n",
      "Overlap bi-gram \t\tPrecision: 0.051\n",
      "Overlap bi-gram \t\tRecall: 0.044\n",
      "\n",
      "embed\n",
      "Overlap 1-gram \t\t\tF1: 0.747\n",
      "Overlap 1-gram \t\t\tPrecision: 0.738\n",
      "Overlap 1-gram \t\t\tRecall: 0.756\n",
      "Overlap bi-gram \t\tF1: 0.048\n",
      "Overlap bi-gram \t\tPrecision: 0.050\n",
      "Overlap bi-gram \t\tRecall: 0.046\n",
      "CPU times: user 55.5 s, sys: 2.91 s, total: 58.4 s\n",
      "Wall time: 58.8 s\n"
     ]
    }
   ],
   "source": [
    "%%time\n",
    "summary, runtime, scores = extract_summary(doc, ref, title, k=k, report_rouge=True, rouge_embed=True, \n",
    "                                           methods=methods, print_summary=False, print_rouge=True);"
   ]
  },
  {
   "cell_type": "markdown",
   "metadata": {},
   "source": [
    "### ROUGE Score Across Documents"
   ]
  },
  {
   "cell_type": "code",
   "execution_count": 13,
   "metadata": {
    "scrolled": false
   },
   "outputs": [
    {
     "name": "stdout",
     "output_type": "stream",
     "text": [
      "====================== Mean ======================\n"
     ]
    },
    {
     "data": {
      "text/html": [
       "<div>\n",
       "<style scoped>\n",
       "    .dataframe tbody tr th:only-of-type {\n",
       "        vertical-align: middle;\n",
       "    }\n",
       "\n",
       "    .dataframe tbody tr th {\n",
       "        vertical-align: top;\n",
       "    }\n",
       "\n",
       "    .dataframe thead th {\n",
       "        text-align: right;\n",
       "    }\n",
       "</style>\n",
       "<table border=\"1\" class=\"dataframe\">\n",
       "  <thead>\n",
       "    <tr style=\"text-align: right;\">\n",
       "      <th></th>\n",
       "      <th>SMRS</th>\n",
       "      <th>tfidf</th>\n",
       "      <th>embed</th>\n",
       "    </tr>\n",
       "  </thead>\n",
       "  <tbody>\n",
       "    <tr>\n",
       "      <th>1-gram F1</th>\n",
       "      <td>0.124514</td>\n",
       "      <td>0.202976</td>\n",
       "      <td>0.229948</td>\n",
       "    </tr>\n",
       "    <tr>\n",
       "      <th>1-gram Precision</th>\n",
       "      <td>0.117925</td>\n",
       "      <td>0.175241</td>\n",
       "      <td>0.231388</td>\n",
       "    </tr>\n",
       "    <tr>\n",
       "      <th>1-gram Recall</th>\n",
       "      <td>0.154807</td>\n",
       "      <td>0.296962</td>\n",
       "      <td>0.281807</td>\n",
       "    </tr>\n",
       "    <tr>\n",
       "      <th>bi-gram F1</th>\n",
       "      <td>0.007728</td>\n",
       "      <td>0.024647</td>\n",
       "      <td>0.075441</td>\n",
       "    </tr>\n",
       "    <tr>\n",
       "      <th>bi-gram Precision</th>\n",
       "      <td>0.007474</td>\n",
       "      <td>0.021969</td>\n",
       "      <td>0.072570</td>\n",
       "    </tr>\n",
       "    <tr>\n",
       "      <th>bi-gram Recall</th>\n",
       "      <td>0.008988</td>\n",
       "      <td>0.033737</td>\n",
       "      <td>0.107879</td>\n",
       "    </tr>\n",
       "    <tr>\n",
       "      <th>longest common F1</th>\n",
       "      <td>0.102719</td>\n",
       "      <td>0.164342</td>\n",
       "      <td>0.192262</td>\n",
       "    </tr>\n",
       "    <tr>\n",
       "      <th>longest common Precision</th>\n",
       "      <td>0.109631</td>\n",
       "      <td>0.162415</td>\n",
       "      <td>0.220087</td>\n",
       "    </tr>\n",
       "    <tr>\n",
       "      <th>longest common Recall</th>\n",
       "      <td>0.139489</td>\n",
       "      <td>0.277323</td>\n",
       "      <td>0.270954</td>\n",
       "    </tr>\n",
       "  </tbody>\n",
       "</table>\n",
       "</div>"
      ],
      "text/plain": [
       "                              SMRS     tfidf     embed\n",
       "1-gram F1                 0.124514  0.202976  0.229948\n",
       "1-gram Precision          0.117925  0.175241  0.231388\n",
       "1-gram Recall             0.154807  0.296962  0.281807\n",
       "bi-gram F1                0.007728  0.024647  0.075441\n",
       "bi-gram Precision         0.007474  0.021969  0.072570\n",
       "bi-gram Recall            0.008988  0.033737  0.107879\n",
       "longest common F1         0.102719  0.164342  0.192262\n",
       "longest common Precision  0.109631  0.162415  0.220087\n",
       "longest common Recall     0.139489  0.277323  0.270954"
      ]
     },
     "metadata": {},
     "output_type": "display_data"
    },
    {
     "name": "stdout",
     "output_type": "stream",
     "text": [
      "===================== Median =====================\n"
     ]
    },
    {
     "data": {
      "text/html": [
       "<div>\n",
       "<style scoped>\n",
       "    .dataframe tbody tr th:only-of-type {\n",
       "        vertical-align: middle;\n",
       "    }\n",
       "\n",
       "    .dataframe tbody tr th {\n",
       "        vertical-align: top;\n",
       "    }\n",
       "\n",
       "    .dataframe thead th {\n",
       "        text-align: right;\n",
       "    }\n",
       "</style>\n",
       "<table border=\"1\" class=\"dataframe\">\n",
       "  <thead>\n",
       "    <tr style=\"text-align: right;\">\n",
       "      <th></th>\n",
       "      <th>SMRS</th>\n",
       "      <th>tfidf</th>\n",
       "      <th>embed</th>\n",
       "    </tr>\n",
       "  </thead>\n",
       "  <tbody>\n",
       "    <tr>\n",
       "      <th>1-gram F1</th>\n",
       "      <td>0.131035</td>\n",
       "      <td>0.222832</td>\n",
       "      <td>0.224945</td>\n",
       "    </tr>\n",
       "    <tr>\n",
       "      <th>1-gram Precision</th>\n",
       "      <td>0.110157</td>\n",
       "      <td>0.182305</td>\n",
       "      <td>0.215385</td>\n",
       "    </tr>\n",
       "    <tr>\n",
       "      <th>1-gram Recall</th>\n",
       "      <td>0.150226</td>\n",
       "      <td>0.292111</td>\n",
       "      <td>0.236940</td>\n",
       "    </tr>\n",
       "    <tr>\n",
       "      <th>bi-gram F1</th>\n",
       "      <td>0.000000</td>\n",
       "      <td>0.017664</td>\n",
       "      <td>0.039596</td>\n",
       "    </tr>\n",
       "    <tr>\n",
       "      <th>bi-gram Precision</th>\n",
       "      <td>0.000000</td>\n",
       "      <td>0.011461</td>\n",
       "      <td>0.035873</td>\n",
       "    </tr>\n",
       "    <tr>\n",
       "      <th>bi-gram Recall</th>\n",
       "      <td>0.000000</td>\n",
       "      <td>0.031433</td>\n",
       "      <td>0.047075</td>\n",
       "    </tr>\n",
       "    <tr>\n",
       "      <th>longest common F1</th>\n",
       "      <td>0.099605</td>\n",
       "      <td>0.176506</td>\n",
       "      <td>0.186769</td>\n",
       "    </tr>\n",
       "    <tr>\n",
       "      <th>longest common Precision</th>\n",
       "      <td>0.110157</td>\n",
       "      <td>0.164012</td>\n",
       "      <td>0.202564</td>\n",
       "    </tr>\n",
       "    <tr>\n",
       "      <th>longest common Recall</th>\n",
       "      <td>0.140733</td>\n",
       "      <td>0.284648</td>\n",
       "      <td>0.208126</td>\n",
       "    </tr>\n",
       "  </tbody>\n",
       "</table>\n",
       "</div>"
      ],
      "text/plain": [
       "                              SMRS     tfidf     embed\n",
       "1-gram F1                 0.131035  0.222832  0.224945\n",
       "1-gram Precision          0.110157  0.182305  0.215385\n",
       "1-gram Recall             0.150226  0.292111  0.236940\n",
       "bi-gram F1                0.000000  0.017664  0.039596\n",
       "bi-gram Precision         0.000000  0.011461  0.035873\n",
       "bi-gram Recall            0.000000  0.031433  0.047075\n",
       "longest common F1         0.099605  0.176506  0.186769\n",
       "longest common Precision  0.110157  0.164012  0.202564\n",
       "longest common Recall     0.140733  0.284648  0.208126"
      ]
     },
     "metadata": {},
     "output_type": "display_data"
    },
    {
     "name": "stdout",
     "output_type": "stream",
     "text": [
      "=============== Standard Deviation ===============\n"
     ]
    },
    {
     "data": {
      "text/html": [
       "<div>\n",
       "<style scoped>\n",
       "    .dataframe tbody tr th:only-of-type {\n",
       "        vertical-align: middle;\n",
       "    }\n",
       "\n",
       "    .dataframe tbody tr th {\n",
       "        vertical-align: top;\n",
       "    }\n",
       "\n",
       "    .dataframe thead th {\n",
       "        text-align: right;\n",
       "    }\n",
       "</style>\n",
       "<table border=\"1\" class=\"dataframe\">\n",
       "  <thead>\n",
       "    <tr style=\"text-align: right;\">\n",
       "      <th></th>\n",
       "      <th>SMRS</th>\n",
       "      <th>tfidf</th>\n",
       "      <th>embed</th>\n",
       "    </tr>\n",
       "  </thead>\n",
       "  <tbody>\n",
       "    <tr>\n",
       "      <th>1-gram F1</th>\n",
       "      <td>0.049498</td>\n",
       "      <td>0.081275</td>\n",
       "      <td>0.094585</td>\n",
       "    </tr>\n",
       "    <tr>\n",
       "      <th>1-gram Precision</th>\n",
       "      <td>0.060855</td>\n",
       "      <td>0.098039</td>\n",
       "      <td>0.120102</td>\n",
       "    </tr>\n",
       "    <tr>\n",
       "      <th>1-gram Recall</th>\n",
       "      <td>0.070114</td>\n",
       "      <td>0.081757</td>\n",
       "      <td>0.156395</td>\n",
       "    </tr>\n",
       "    <tr>\n",
       "      <th>bi-gram F1</th>\n",
       "      <td>0.014798</td>\n",
       "      <td>0.027681</td>\n",
       "      <td>0.095397</td>\n",
       "    </tr>\n",
       "    <tr>\n",
       "      <th>bi-gram Precision</th>\n",
       "      <td>0.012296</td>\n",
       "      <td>0.026200</td>\n",
       "      <td>0.082825</td>\n",
       "    </tr>\n",
       "    <tr>\n",
       "      <th>bi-gram Recall</th>\n",
       "      <td>0.019942</td>\n",
       "      <td>0.035238</td>\n",
       "      <td>0.161229</td>\n",
       "    </tr>\n",
       "    <tr>\n",
       "      <th>longest common F1</th>\n",
       "      <td>0.051873</td>\n",
       "      <td>0.079189</td>\n",
       "      <td>0.083725</td>\n",
       "    </tr>\n",
       "    <tr>\n",
       "      <th>longest common Precision</th>\n",
       "      <td>0.061796</td>\n",
       "      <td>0.089727</td>\n",
       "      <td>0.116012</td>\n",
       "    </tr>\n",
       "    <tr>\n",
       "      <th>longest common Recall</th>\n",
       "      <td>0.063952</td>\n",
       "      <td>0.072996</td>\n",
       "      <td>0.158973</td>\n",
       "    </tr>\n",
       "  </tbody>\n",
       "</table>\n",
       "</div>"
      ],
      "text/plain": [
       "                              SMRS     tfidf     embed\n",
       "1-gram F1                 0.049498  0.081275  0.094585\n",
       "1-gram Precision          0.060855  0.098039  0.120102\n",
       "1-gram Recall             0.070114  0.081757  0.156395\n",
       "bi-gram F1                0.014798  0.027681  0.095397\n",
       "bi-gram Precision         0.012296  0.026200  0.082825\n",
       "bi-gram Recall            0.019942  0.035238  0.161229\n",
       "longest common F1         0.051873  0.079189  0.083725\n",
       "longest common Precision  0.061796  0.089727  0.116012\n",
       "longest common Recall     0.063952  0.072996  0.158973"
      ]
     },
     "metadata": {},
     "output_type": "display_data"
    },
    {
     "name": "stdout",
     "output_type": "stream",
     "text": [
      "CPU times: user 1min 53s, sys: 5.99 s, total: 1min 59s\n",
      "Wall time: 2min\n"
     ]
    }
   ],
   "source": [
    "%%time\n",
    "k = 5\n",
    "rouge_mean, rouge_median, rouge_std = report_rouge_scores(outlook_text, outlook_ref, outlook_title, k, methods=methods)\n",
    "\n",
    "index =  ['1-gram F1', '1-gram Precision', '1-gram Recall', 'bi-gram F1', 'bi-gram Precision', 'bi-gram Recall', \n",
    "          'longest common F1', 'longest common Precision', 'longest common Recall']\n",
    "\n",
    "print('=' * 22 + ' Mean ' + '=' * 22)\n",
    "rouge_mean.index = index\n",
    "display(rouge_mean)\n",
    "\n",
    "print('=' * 21 + ' Median ' + '=' * 21)\n",
    "rouge_median.index = index\n",
    "display(rouge_median)\n",
    "\n",
    "print('=' * 15 + ' Standard Deviation ' + '=' * 15)\n",
    "rouge_std.index = index\n",
    "display(rouge_std)"
   ]
  },
  {
   "cell_type": "markdown",
   "metadata": {},
   "source": [
    "### Word Embedding ROUGE Score Across Documents"
   ]
  },
  {
   "cell_type": "code",
   "execution_count": null,
   "metadata": {},
   "outputs": [],
   "source": [
    "%%time\n",
    "rouge_mean_embed, rouge_median_embed, rouge_std_embed = report_rouge_scores(outlook_text, outlook_ref, outlook_title, k, \n",
    "                                                                            rouge_embed=True, methods=methods)\n",
    "index =  ['1-gram F1', '1-gram Precision', '1-gram Recall', 'bi-gram F1', 'bi-gram Precision', 'bi-gram Recall']\n",
    "\n",
    "print('=' * 22 + ' Mean ' + '=' * 22)\n",
    "rouge_mean_embed.index = index\n",
    "display(rouge_mean_embed)\n",
    "\n",
    "print('=' * 21 + ' Median ' + '=' * 21)\n",
    "rouge_median_embed.index = index\n",
    "display(rouge_median_embed)\n",
    "\n",
    "print('=' * 15 + ' Standard Deviation ' + '=' * 15)\n",
    "rouge_std_embed.index = index\n",
    "display(rouge_std_embed)"
   ]
  },
  {
   "cell_type": "markdown",
   "metadata": {
    "heading_collapsed": true
   },
   "source": [
    "## Citi Bank 2019 Investment Outlook"
   ]
  },
  {
   "cell_type": "code",
   "execution_count": 2,
   "metadata": {
    "hidden": true
   },
   "outputs": [
    {
     "data": {
      "text/html": [
       "<div>\n",
       "<style scoped>\n",
       "    .dataframe tbody tr th:only-of-type {\n",
       "        vertical-align: middle;\n",
       "    }\n",
       "\n",
       "    .dataframe tbody tr th {\n",
       "        vertical-align: top;\n",
       "    }\n",
       "\n",
       "    .dataframe thead th {\n",
       "        text-align: right;\n",
       "    }\n",
       "</style>\n",
       "<table border=\"1\" class=\"dataframe\">\n",
       "  <thead>\n",
       "    <tr style=\"text-align: right;\">\n",
       "      <th></th>\n",
       "      <th>reference</th>\n",
       "      <th>title</th>\n",
       "      <th>text</th>\n",
       "    </tr>\n",
       "  </thead>\n",
       "  <tbody>\n",
       "    <tr>\n",
       "      <th>0</th>\n",
       "      <td>What should I do with my portfolio for 2019? A...</td>\n",
       "      <td>How to invest in 2019</td>\n",
       "      <td>We believe the answer lies in reconciling two ...</td>\n",
       "    </tr>\n",
       "    <tr>\n",
       "      <th>1</th>\n",
       "      <td>In today’s late-cycle US monetary tightening p...</td>\n",
       "      <td>Building stronger portfolios for turbulent times</td>\n",
       "      <td>Global investors have routinely doubted the du...</td>\n",
       "    </tr>\n",
       "    <tr>\n",
       "      <th>2</th>\n",
       "      <td>We do not expect the next US recession and glo...</td>\n",
       "      <td>2020: What to expect when you are expecting re...</td>\n",
       "      <td>We do not expect the next US recession and glo...</td>\n",
       "    </tr>\n",
       "    <tr>\n",
       "      <th>3</th>\n",
       "      <td>In September 2018, the US successfully conclud...</td>\n",
       "      <td>Will the trade war open or close markets?</td>\n",
       "      <td>In September 2018, the US successfully conclud...</td>\n",
       "    </tr>\n",
       "    <tr>\n",
       "      <th>4</th>\n",
       "      <td>The trade war came as a shock to markets in 20...</td>\n",
       "      <td>The expected and unexpected events of 2018</td>\n",
       "      <td>The trade war came as a shock to markets in 20...</td>\n",
       "    </tr>\n",
       "  </tbody>\n",
       "</table>\n",
       "</div>"
      ],
      "text/plain": [
       "                                           reference  \\\n",
       "0  What should I do with my portfolio for 2019? A...   \n",
       "1  In today’s late-cycle US monetary tightening p...   \n",
       "2  We do not expect the next US recession and glo...   \n",
       "3  In September 2018, the US successfully conclud...   \n",
       "4  The trade war came as a shock to markets in 20...   \n",
       "\n",
       "                                               title  \\\n",
       "0                              How to invest in 2019   \n",
       "1   Building stronger portfolios for turbulent times   \n",
       "2  2020: What to expect when you are expecting re...   \n",
       "3          Will the trade war open or close markets?   \n",
       "4         The expected and unexpected events of 2018   \n",
       "\n",
       "                                                text  \n",
       "0  We believe the answer lies in reconciling two ...  \n",
       "1  Global investors have routinely doubted the du...  \n",
       "2  We do not expect the next US recession and glo...  \n",
       "3  In September 2018, the US successfully conclud...  \n",
       "4  The trade war came as a shock to markets in 20...  "
      ]
     },
     "metadata": {},
     "output_type": "display_data"
    },
    {
     "name": "stdout",
     "output_type": "stream",
     "text": [
      "24\n"
     ]
    }
   ],
   "source": [
    "citi = pd.read_csv('../data/2019-outlooks/citi.csv')\n",
    "citi_title, citi_ref, citi_text = data.get_outlook_data(name='citi')\n",
    "print(len(citi))"
   ]
  },
  {
   "cell_type": "code",
   "execution_count": 3,
   "metadata": {
    "hidden": true
   },
   "outputs": [],
   "source": [
    "doc_idx = 23\n",
    "doc = citi_text[doc_idx]\n",
    "ref = citi_ref[doc_idx]\n",
    "title = citi_title[doc_idx]"
   ]
  },
  {
   "cell_type": "code",
   "execution_count": 4,
   "metadata": {
    "hidden": true,
    "scrolled": false
   },
   "outputs": [
    {
     "name": "stdout",
     "output_type": "stream",
     "text": [
      "# sentence: 121, # vocab: 968\n",
      "# of selected exemplar: 5\n",
      "\n",
      "Title: Digital disruption\n",
      "\n",
      "=============== Referecne Text ==============\n",
      "The advance of digital technologies continues to revolutionize business and improve our daily lives, with profound implications for your portfolios. The benefits of digital disruption to customers are all around us. Artificial intelligence. Google estimates that all human data from pre-history to 2003 was roughly 5 exabytes. The transformation of road transport may also involve a revolution in how vehicles are used and owned. Smarter healthcare. Blockchain. Chain reaction. We see blockchain’s characteristics as adaptable to multiple uses across the economy and society. While the potential benefits of blockchain are diverse, they are likely to take time to be realized. Robotics. We believe that replacing and complementing human labor with robotic labor is not only desirable, but essential. \n",
      "\n",
      "========== Extracted summary: random selection ==========\n",
      "They nevertheless maintain a target list of companies exposed to the potential disruption of blockchain that deserve monitoring. Citi research sees few signs that this technology is going to have a material impact on public companies’ earnings in the near term. Quicker, cheaper, and more accurate diagnosis could improve and save lives, as well as limiting rising healthcare costs. All users can store their own copy of the database and all are required to validate new information added to it. Another is that even if blockchain based systems do emerge, they do not interact effectively, thus replicating today’s fragmentation\n",
      "Random selection computation time: 0.002\n",
      "\n",
      "========== Extracted summary: SMRS ==========\n",
      "A good first step is to obtain your own personalized outlook watchlist report. In other words, people might not own cars anymore, nor drive them, nor stop at gas stations along the way. Global sales of industrial robots reached a new record of 387,000 units in 2017, up 31% over the previous year. These include automating manual checking processes, eliminating many layers of intermediate steps and middlemen. Automated help may be at hand, though\n",
      "SMRS computation time: 0.707\n",
      "\n",
      "========== Extracted summary: Tfidf ==========\n",
      "Another industry that we believe may reap the benefits of ai and other disruptive technologies in the coming years is healthcare. By 2030, it forecasts that robotic deployment may be more than five times greater than today, growing the medical robotics market from $4bn to $18bn.7 prepare your portfolio for digital disruption we believe the unstoppable trend of digital disruption has far to go. The blockchain: users & uses graphic opposite shows an ongoing citi research study into the sort of companies that have announced that they are employing blockchain, as well as how they are applying the technology. And yet, there remain many businesses and industries still only in the early stages of digital disruption. Citi private bank’s global investment lab can help you to understand your present exposures to digital risks and opportunities and the possibilities for allocating accordingly\n",
      "Tfidf computation time: 0.010\n",
      "\n",
      "====== Extracted summary: sentence embeddings ======\n",
      "The benefits of digital disruption to customers are all around us. Combining ai with big data creates various possibilities. Robotics adoption is proceeding rapidly. Productivity gains have been disappointing across many economies over recent years, which has limited overall growth and standards of living. We seek not only to help you manage such risks, but also to turn them to your advantage\n",
      "Sentence embedding computation time: 0.003\n",
      "\n",
      "=============== ROUGE Scores ===============\n",
      "\n",
      "random\n",
      "Overlap 1-gram \t\t\tF1: 0.215\n",
      "Overlap 1-gram \t\t\tPrecision: 0.229\n",
      "Overlap 1-gram \t\t\tRecall: 0.202\n",
      "Overlap bi-gram \t\tF1: 0.019\n",
      "Overlap bi-gram \t\tPrecision: 0.020\n",
      "Overlap bi-gram \t\tRecall: 0.017\n",
      "Longest Common Subsequence \tF1: 0.191\n",
      "Longest Common Subsequence \tPrecision: 0.205\n",
      "Longest Common Subsequence \tRecall: 0.181\n",
      "\n",
      "SMRS\n",
      "Overlap 1-gram \t\t\tF1: 0.136\n",
      "Overlap 1-gram \t\t\tPrecision: 0.162\n",
      "Overlap 1-gram \t\t\tRecall: 0.117\n",
      "Overlap bi-gram \t\tF1: 0.000\n",
      "Overlap bi-gram \t\tPrecision: 0.000\n",
      "Overlap bi-gram \t\tRecall: 0.000\n",
      "Longest Common Subsequence \tF1: 0.129\n",
      "Longest Common Subsequence \tPrecision: 0.162\n",
      "Longest Common Subsequence \tRecall: 0.117\n",
      "\n",
      "tfidf\n",
      "Overlap 1-gram \t\t\tF1: 0.257\n",
      "Overlap 1-gram \t\t\tPrecision: 0.241\n",
      "Overlap 1-gram \t\t\tRecall: 0.277\n",
      "Overlap bi-gram \t\tF1: 0.032\n",
      "Overlap bi-gram \t\tPrecision: 0.030\n",
      "Overlap bi-gram \t\tRecall: 0.034\n",
      "Longest Common Subsequence \tF1: 0.206\n",
      "Longest Common Subsequence \tPrecision: 0.194\n",
      "Longest Common Subsequence \tRecall: 0.223\n",
      "\n",
      "embed\n",
      "Overlap 1-gram \t\t\tF1: 0.303\n",
      "Overlap 1-gram \t\t\tPrecision: 0.397\n",
      "Overlap 1-gram \t\t\tRecall: 0.245\n",
      "Overlap bi-gram \t\tF1: 0.124\n",
      "Overlap bi-gram \t\tPrecision: 0.180\n",
      "Overlap bi-gram \t\tRecall: 0.095\n",
      "Longest Common Subsequence \tF1: 0.274\n",
      "Longest Common Subsequence \tPrecision: 0.397\n",
      "Longest Common Subsequence \tRecall: 0.245\n"
     ]
    }
   ],
   "source": [
    "k=5\n",
    "methods = ['SMRS', 'tfidf', 'embed']\n",
    "extract_summary(doc, ref, title, k=k, report_rouge=False, methods=methods, print_summary=True);"
   ]
  },
  {
   "cell_type": "markdown",
   "metadata": {
    "hidden": true
   },
   "source": [
    "### ROUGE Scores Across Documents"
   ]
  },
  {
   "cell_type": "code",
   "execution_count": 10,
   "metadata": {
    "hidden": true
   },
   "outputs": [
    {
     "name": "stdout",
     "output_type": "stream",
     "text": [
      "CPU times: user 4min 6s, sys: 12.9 s, total: 4min 19s\n",
      "Wall time: 4min 20s\n"
     ]
    }
   ],
   "source": [
    "%%time\n",
    "k = 5\n",
    "rouge_mean, rouge_median, rouge_std = report_rouge_scores(citi_text, citi_ref, citi_title, k)\n",
    "\n",
    "index =  ['1-gram F1', '1-gram Precision', '1-gram Recall', 'bi-gram F1', 'bi-gram Precision', 'bi-gram Recall', \n",
    "          'longest common F1', 'longest common Precision', 'longest common Recall']\n",
    "\n",
    "print('=' * 22 + ' Mean ' + '=' * 22)\n",
    "rouge_mean.index = index\n",
    "display(rouge_mean)\n",
    "\n",
    "print('=' * 21 + ' Median ' + '=' * 21)\n",
    "rouge_median.index = index\n",
    "display(rouge_median)\n",
    "\n",
    "print('=' * 15 + ' Standard Deviation ' + '=' * 15)\n",
    "rouge_std.index = index\n",
    "display(rouge_std)"
   ]
  },
  {
   "cell_type": "markdown",
   "metadata": {
    "hidden": true
   },
   "source": [
    "### Word Embeddings ROUGE Score Across Documents"
   ]
  },
  {
   "cell_type": "code",
   "execution_count": null,
   "metadata": {
    "hidden": true
   },
   "outputs": [],
   "source": [
    "%%time\n",
    "rouge_mean_embed, rouge_median_embed, rouge_std_embed = report_rouge_scores(citi_text, citi_ref, citi_title, k, rouge_embed=True)\n",
    "\n",
    "index =  ['1-gram F1', '1-gram Precision', '1-gram Recall', 'bi-gram F1', 'bi-gram Precision', 'bi-gram Recall']\n",
    "\n",
    "print('=' * 22 + ' Mean ' + '=' * 22)\n",
    "rouge_mean_embed.index = index\n",
    "display(rouge_mean_embed)\n",
    "\n",
    "print('=' * 21 + ' Median ' + '=' * 21)\n",
    "rouge_median_embed.index = index\n",
    "display(rouge_median_embed)\n",
    "\n",
    "print('=' * 15 + ' Standard Deviation ' + '=' * 15)\n",
    "rouge_std_embed.index = index\n",
    "display(rouge_std_embed)"
   ]
  },
  {
   "cell_type": "markdown",
   "metadata": {
    "heading_collapsed": true
   },
   "source": [
    "## Australia Legal Cases"
   ]
  },
  {
   "cell_type": "code",
   "execution_count": 2,
   "metadata": {
    "hidden": true
   },
   "outputs": [
    {
     "data": {
      "text/html": [
       "<div>\n",
       "<style scoped>\n",
       "    .dataframe tbody tr th:only-of-type {\n",
       "        vertical-align: middle;\n",
       "    }\n",
       "\n",
       "    .dataframe tbody tr th {\n",
       "        vertical-align: top;\n",
       "    }\n",
       "\n",
       "    .dataframe thead th {\n",
       "        text-align: right;\n",
       "    }\n",
       "</style>\n",
       "<table border=\"1\" class=\"dataframe\">\n",
       "  <thead>\n",
       "    <tr style=\"text-align: right;\">\n",
       "      <th></th>\n",
       "      <th>reference</th>\n",
       "      <th>text</th>\n",
       "      <th>title</th>\n",
       "    </tr>\n",
       "  </thead>\n",
       "  <tbody>\n",
       "    <tr>\n",
       "      <th>0</th>\n",
       "      <td>managed investment scheme. removal of current ...</td>\n",
       "      <td>INTRODUCTION  The background to these reasons...</td>\n",
       "      <td>Huntley Management Limited v Australian Olives...</td>\n",
       "    </tr>\n",
       "    <tr>\n",
       "      <th>1</th>\n",
       "      <td>date for calculation of extension of term of p...</td>\n",
       "      <td>1 The Patents Act 1990 (Cth) (the Act) provi...</td>\n",
       "      <td>Pfizer Corp v Commissioner of Patents (No 2) [...</td>\n",
       "    </tr>\n",
       "    <tr>\n",
       "      <th>2</th>\n",
       "      <td>shares. allotment. powers of directors. allotm...</td>\n",
       "      <td>1 The plaintiff, Bell IXL Investments Limited...</td>\n",
       "      <td>Bell IXL Investments Ltd v Life Therapeutics L...</td>\n",
       "    </tr>\n",
       "    <tr>\n",
       "      <th>3</th>\n",
       "      <td>application for permanent protection visa. whe...</td>\n",
       "      <td>INTRODUCTION  1 Application to quash a decisi...</td>\n",
       "      <td>SBBC v Minister for Immigration &amp; Multicultura...</td>\n",
       "    </tr>\n",
       "    <tr>\n",
       "      <th>4</th>\n",
       "      <td>application for leave to appeal decision to jo...</td>\n",
       "      <td>1 An order was made by the primary judge gra...</td>\n",
       "      <td>Macquarie Underwriting Pty Ltd v Permanent Cus...</td>\n",
       "    </tr>\n",
       "  </tbody>\n",
       "</table>\n",
       "</div>"
      ],
      "text/plain": [
       "                                           reference  \\\n",
       "0  managed investment scheme. removal of current ...   \n",
       "1  date for calculation of extension of term of p...   \n",
       "2  shares. allotment. powers of directors. allotm...   \n",
       "3  application for permanent protection visa. whe...   \n",
       "4  application for leave to appeal decision to jo...   \n",
       "\n",
       "                                                text  \\\n",
       "0   INTRODUCTION  The background to these reasons...   \n",
       "1    1 The Patents Act 1990 (Cth) (the Act) provi...   \n",
       "2   1 The plaintiff, Bell IXL Investments Limited...   \n",
       "3   INTRODUCTION  1 Application to quash a decisi...   \n",
       "4    1 An order was made by the primary judge gra...   \n",
       "\n",
       "                                               title  \n",
       "0  Huntley Management Limited v Australian Olives...  \n",
       "1  Pfizer Corp v Commissioner of Patents (No 2) [...  \n",
       "2  Bell IXL Investments Ltd v Life Therapeutics L...  \n",
       "3  SBBC v Minister for Immigration & Multicultura...  \n",
       "4  Macquarie Underwriting Pty Ltd v Permanent Cus...  "
      ]
     },
     "metadata": {},
     "output_type": "display_data"
    },
    {
     "data": {
      "text/plain": [
       "3540"
      ]
     },
     "execution_count": 2,
     "metadata": {},
     "output_type": "execute_result"
    }
   ],
   "source": [
    "legal = pd.read_csv('../data/legal-case/legal_case.csv')\n",
    "legal_title, legal_ref, legal_text = data.get_legal_case_data()\n",
    "display(legal.head())\n",
    "len(legal)"
   ]
  },
  {
   "cell_type": "code",
   "execution_count": 3,
   "metadata": {
    "hidden": true
   },
   "outputs": [],
   "source": [
    "doc_idx = 0\n",
    "doc = legal_text[doc_idx]\n",
    "ref = legal_ref[doc_idx]\n",
    "title = legal_title[doc_idx]"
   ]
  },
  {
   "cell_type": "code",
   "execution_count": 14,
   "metadata": {
    "hidden": true
   },
   "outputs": [
    {
     "name": "stdout",
     "output_type": "stream",
     "text": [
      "# sentence: 83, # vocab: 590\n",
      "# of selected exemplar: 5\n",
      "\n",
      "Title: Huntley Management Limited v Australian Olives Limited (No 2) [2009] FCA 686 (24 June 2009)\n",
      "\n",
      "=============== Referecne Text ==============\n",
      "managed investment scheme. removal of current responsible entity and appointment of new responsible entity. challenge by current responsible entity to its removal and replacement. new responsible entity procures itself to be registered as responsible entity by australian securities and investments commission. whether new responsible entity had a right to the books relating to the scheme merely by reason of its being registered. held : no.. corporations\n",
      "\n",
      "========== Extracted summary: random selection ==========\n",
      "An exception is found in s 1274(7a) which is the familiar provision to the effect that a certificate issued by asic stating that a company has been registered under the act is conclusive evidence that all requirements of the act for its registration were complied with and that the company was duly registered as a company under the act on the date specified in the certificate.. Barrett j held, for reasons that do not presently matter, that a deed was required and that the execution and lodgment of the documents, which, it was common ground, did not constitute deeds, did not cause the constitutions to be modified pursuant to s 601gc(1)(b).. Sections 601fl --- 601fq within div 2 provide for the circumstances in which a change in re may take place and for the procedural requirements associated with such a change.. Sections 601fl --- 601fq within div 2 provide for the circumstances in which a change in re may take place and for the procedural requirements associated with such a change.. The re contended that the actions taken by it were effective to modify the constitutions of the schemes to create the suspension.\n",
      "Random selection computation time: 0.000\n",
      "\n",
      "========== Extracted summary: SMRS ==========\n",
      "The policy underlying that longstanding provision in the companies legislation was explained evatt j in h a stephenson & son limited (in liq) v gillanders, arbuthnot & co [1931] hca 47 ; (1931) 45 clr 476 at 497---500.. There are two answers to this argument.. The passage quoted applies comfortably to aols position.. The following further considerations support the construction that i have just outlined.. I certify that the preceding thirty (30) numbered paragraphs are a true copy of the reasons for judgment herein of the honourable justice lindgren.\n",
      "SMRS computation time: 0.144\n",
      "\n",
      "========== Extracted summary: Tfidf ==========\n",
      " huntley contends that since it became named in the record of registration of the australian securities and investments commission (asic) as the re of the scheme on 17 december 2008 and has continued to be so named since that time, s 601fj(1) produces the result that there has been a change of the re of the scheme from aol to itself (huntley) for the purposes of ss 601fr , 601fs and 601ft of the act.. Section 601fj provides:  (1) despite anything in this division, the company named in asics record of registration as the responsible entity or temporary responsible entity of a registered scheme remains the schemes responsible entity until the record is altered to name another company as the schemes responsible entity or temporary responsible entity.. Part 5c.2 of the act deals with the re.. There is a serious question to be tried in the queensland registry proceeding whether or not the resolutions were validly passed and effective.. Section 601fn provides that asic or a member of a registered scheme may apply to the court for the appointment of a temporary re if the scheme does not have an re that meets the requirements of s 601fa.\n",
      "Tfidf computation time: 0.006\n",
      "\n",
      "====== Extracted summary: sentence embeddings ======\n",
      "Following discussion with the parties, agreement was reached as to a question to be decided separately from any other question in the proceeding and as to the facts on which that question should be decided.. Part 5c.1 deals with the registration of such schemes.. Central to a mis is the responsible entity (re).. The replacement responsible entity must meet the requirements of proposed section 601fa ( proposed section 601fk) .. The word \"despite\" indicates this.\n",
      "Sentence embedding computation time: 0.002\n"
     ]
    }
   ],
   "source": [
    "k=5\n",
    "extract_summary(doc, ref, title, k=k, report_rouge=False);"
   ]
  },
  {
   "cell_type": "code",
   "execution_count": 5,
   "metadata": {
    "hidden": true
   },
   "outputs": [
    {
     "name": "stdout",
     "output_type": "stream",
     "text": [
      "CPU times: user 23min 58s, sys: 1min 15s, total: 25min 14s\n",
      "Wall time: 25min 17s\n"
     ]
    }
   ],
   "source": [
    "%%time\n",
    "k=5\n",
    "num_sample = 20\n",
    "docs = legal_text[:num_sample]\n",
    "refs = legal_ref[:num_sample]\n",
    "titles = legal_title[:num_sample]\n",
    "rouge_mean_embed, rouge_median_embed, rouge_std_embed = report_rouge_scores(docs, refs, titles, k, rouge_embed=True)\n",
    "index =  ['1-gram F1', '1-gram Precision', '1-gram Recall', 'bi-gram F1', 'bi-gram Precision', 'bi-gram Recall']"
   ]
  },
  {
   "cell_type": "code",
   "execution_count": 6,
   "metadata": {
    "hidden": true
   },
   "outputs": [
    {
     "name": "stdout",
     "output_type": "stream",
     "text": [
      "====================== Mean ======================\n"
     ]
    },
    {
     "data": {
      "text/html": [
       "<div>\n",
       "<style scoped>\n",
       "    .dataframe tbody tr th:only-of-type {\n",
       "        vertical-align: middle;\n",
       "    }\n",
       "\n",
       "    .dataframe tbody tr th {\n",
       "        vertical-align: top;\n",
       "    }\n",
       "\n",
       "    .dataframe thead th {\n",
       "        text-align: right;\n",
       "    }\n",
       "</style>\n",
       "<table border=\"1\" class=\"dataframe\">\n",
       "  <thead>\n",
       "    <tr style=\"text-align: right;\">\n",
       "      <th></th>\n",
       "      <th>random</th>\n",
       "      <th>SMRS</th>\n",
       "      <th>tfidf</th>\n",
       "      <th>embed</th>\n",
       "    </tr>\n",
       "  </thead>\n",
       "  <tbody>\n",
       "    <tr>\n",
       "      <th>1-gram F1</th>\n",
       "      <td>0.337149</td>\n",
       "      <td>0.379904</td>\n",
       "      <td>0.254692</td>\n",
       "      <td>0.394112</td>\n",
       "    </tr>\n",
       "    <tr>\n",
       "      <th>1-gram Precision</th>\n",
       "      <td>0.251672</td>\n",
       "      <td>0.367513</td>\n",
       "      <td>0.169797</td>\n",
       "      <td>0.346092</td>\n",
       "    </tr>\n",
       "    <tr>\n",
       "      <th>1-gram Recall</th>\n",
       "      <td>0.600654</td>\n",
       "      <td>0.542354</td>\n",
       "      <td>0.616031</td>\n",
       "      <td>0.587140</td>\n",
       "    </tr>\n",
       "    <tr>\n",
       "      <th>bi-gram F1</th>\n",
       "      <td>0.273902</td>\n",
       "      <td>0.307364</td>\n",
       "      <td>0.181618</td>\n",
       "      <td>0.305610</td>\n",
       "    </tr>\n",
       "    <tr>\n",
       "      <th>bi-gram Precision</th>\n",
       "      <td>0.206460</td>\n",
       "      <td>0.324174</td>\n",
       "      <td>0.116543</td>\n",
       "      <td>0.280004</td>\n",
       "    </tr>\n",
       "    <tr>\n",
       "      <th>bi-gram Recall</th>\n",
       "      <td>0.514343</td>\n",
       "      <td>0.435272</td>\n",
       "      <td>0.515549</td>\n",
       "      <td>0.472116</td>\n",
       "    </tr>\n",
       "  </tbody>\n",
       "</table>\n",
       "</div>"
      ],
      "text/plain": [
       "                     random      SMRS     tfidf     embed\n",
       "1-gram F1          0.337149  0.379904  0.254692  0.394112\n",
       "1-gram Precision   0.251672  0.367513  0.169797  0.346092\n",
       "1-gram Recall      0.600654  0.542354  0.616031  0.587140\n",
       "bi-gram F1         0.273902  0.307364  0.181618  0.305610\n",
       "bi-gram Precision  0.206460  0.324174  0.116543  0.280004\n",
       "bi-gram Recall     0.514343  0.435272  0.515549  0.472116"
      ]
     },
     "metadata": {},
     "output_type": "display_data"
    },
    {
     "name": "stdout",
     "output_type": "stream",
     "text": [
      "===================== Median =====================\n"
     ]
    },
    {
     "data": {
      "text/html": [
       "<div>\n",
       "<style scoped>\n",
       "    .dataframe tbody tr th:only-of-type {\n",
       "        vertical-align: middle;\n",
       "    }\n",
       "\n",
       "    .dataframe tbody tr th {\n",
       "        vertical-align: top;\n",
       "    }\n",
       "\n",
       "    .dataframe thead th {\n",
       "        text-align: right;\n",
       "    }\n",
       "</style>\n",
       "<table border=\"1\" class=\"dataframe\">\n",
       "  <thead>\n",
       "    <tr style=\"text-align: right;\">\n",
       "      <th></th>\n",
       "      <th>random</th>\n",
       "      <th>SMRS</th>\n",
       "      <th>tfidf</th>\n",
       "      <th>embed</th>\n",
       "    </tr>\n",
       "  </thead>\n",
       "  <tbody>\n",
       "    <tr>\n",
       "      <th>1-gram F1</th>\n",
       "      <td>0.344069</td>\n",
       "      <td>0.423989</td>\n",
       "      <td>0.245110</td>\n",
       "      <td>0.451765</td>\n",
       "    </tr>\n",
       "    <tr>\n",
       "      <th>1-gram Precision</th>\n",
       "      <td>0.235656</td>\n",
       "      <td>0.358677</td>\n",
       "      <td>0.154480</td>\n",
       "      <td>0.355443</td>\n",
       "    </tr>\n",
       "    <tr>\n",
       "      <th>1-gram Recall</th>\n",
       "      <td>0.627980</td>\n",
       "      <td>0.591998</td>\n",
       "      <td>0.631775</td>\n",
       "      <td>0.637517</td>\n",
       "    </tr>\n",
       "    <tr>\n",
       "      <th>bi-gram F1</th>\n",
       "      <td>0.294726</td>\n",
       "      <td>0.352023</td>\n",
       "      <td>0.190960</td>\n",
       "      <td>0.351225</td>\n",
       "    </tr>\n",
       "    <tr>\n",
       "      <th>bi-gram Precision</th>\n",
       "      <td>0.206622</td>\n",
       "      <td>0.318896</td>\n",
       "      <td>0.116982</td>\n",
       "      <td>0.289903</td>\n",
       "    </tr>\n",
       "    <tr>\n",
       "      <th>bi-gram Recall</th>\n",
       "      <td>0.514579</td>\n",
       "      <td>0.510304</td>\n",
       "      <td>0.514984</td>\n",
       "      <td>0.515843</td>\n",
       "    </tr>\n",
       "  </tbody>\n",
       "</table>\n",
       "</div>"
      ],
      "text/plain": [
       "                     random      SMRS     tfidf     embed\n",
       "1-gram F1          0.344069  0.423989  0.245110  0.451765\n",
       "1-gram Precision   0.235656  0.358677  0.154480  0.355443\n",
       "1-gram Recall      0.627980  0.591998  0.631775  0.637517\n",
       "bi-gram F1         0.294726  0.352023  0.190960  0.351225\n",
       "bi-gram Precision  0.206622  0.318896  0.116982  0.289903\n",
       "bi-gram Recall     0.514579  0.510304  0.514984  0.515843"
      ]
     },
     "metadata": {},
     "output_type": "display_data"
    },
    {
     "name": "stdout",
     "output_type": "stream",
     "text": [
      "=============== Standard Deviation ===============\n"
     ]
    },
    {
     "data": {
      "text/html": [
       "<div>\n",
       "<style scoped>\n",
       "    .dataframe tbody tr th:only-of-type {\n",
       "        vertical-align: middle;\n",
       "    }\n",
       "\n",
       "    .dataframe tbody tr th {\n",
       "        vertical-align: top;\n",
       "    }\n",
       "\n",
       "    .dataframe thead th {\n",
       "        text-align: right;\n",
       "    }\n",
       "</style>\n",
       "<table border=\"1\" class=\"dataframe\">\n",
       "  <thead>\n",
       "    <tr style=\"text-align: right;\">\n",
       "      <th></th>\n",
       "      <th>random</th>\n",
       "      <th>SMRS</th>\n",
       "      <th>tfidf</th>\n",
       "      <th>embed</th>\n",
       "    </tr>\n",
       "  </thead>\n",
       "  <tbody>\n",
       "    <tr>\n",
       "      <th>1-gram F1</th>\n",
       "      <td>0.136720</td>\n",
       "      <td>0.162639</td>\n",
       "      <td>0.103307</td>\n",
       "      <td>0.143066</td>\n",
       "    </tr>\n",
       "    <tr>\n",
       "      <th>1-gram Precision</th>\n",
       "      <td>0.131012</td>\n",
       "      <td>0.204386</td>\n",
       "      <td>0.090038</td>\n",
       "      <td>0.181126</td>\n",
       "    </tr>\n",
       "    <tr>\n",
       "      <th>1-gram Recall</th>\n",
       "      <td>0.075495</td>\n",
       "      <td>0.127177</td>\n",
       "      <td>0.050107</td>\n",
       "      <td>0.103421</td>\n",
       "    </tr>\n",
       "    <tr>\n",
       "      <th>bi-gram F1</th>\n",
       "      <td>0.124970</td>\n",
       "      <td>0.141938</td>\n",
       "      <td>0.082948</td>\n",
       "      <td>0.120671</td>\n",
       "    </tr>\n",
       "    <tr>\n",
       "      <th>bi-gram Precision</th>\n",
       "      <td>0.123560</td>\n",
       "      <td>0.182639</td>\n",
       "      <td>0.065572</td>\n",
       "      <td>0.161413</td>\n",
       "    </tr>\n",
       "    <tr>\n",
       "      <th>bi-gram Recall</th>\n",
       "      <td>0.005878</td>\n",
       "      <td>0.127611</td>\n",
       "      <td>0.005405</td>\n",
       "      <td>0.091252</td>\n",
       "    </tr>\n",
       "  </tbody>\n",
       "</table>\n",
       "</div>"
      ],
      "text/plain": [
       "                     random      SMRS     tfidf     embed\n",
       "1-gram F1          0.136720  0.162639  0.103307  0.143066\n",
       "1-gram Precision   0.131012  0.204386  0.090038  0.181126\n",
       "1-gram Recall      0.075495  0.127177  0.050107  0.103421\n",
       "bi-gram F1         0.124970  0.141938  0.082948  0.120671\n",
       "bi-gram Precision  0.123560  0.182639  0.065572  0.161413\n",
       "bi-gram Recall     0.005878  0.127611  0.005405  0.091252"
      ]
     },
     "metadata": {},
     "output_type": "display_data"
    }
   ],
   "source": [
    "print('=' * 22 + ' Mean ' + '=' * 22)\n",
    "rouge_mean_embed.index = index\n",
    "display(rouge_mean_embed)\n",
    "\n",
    "print('=' * 21 + ' Median ' + '=' * 21)\n",
    "rouge_median_embed.index = index\n",
    "display(rouge_median_embed)\n",
    "\n",
    "print('=' * 15 + ' Standard Deviation ' + '=' * 15)\n",
    "rouge_std_embed.index = index\n",
    "display(rouge_std_embed)"
   ]
  },
  {
   "cell_type": "code",
   "execution_count": null,
   "metadata": {
    "hidden": true
   },
   "outputs": [],
   "source": []
  }
 ],
 "metadata": {
  "hide_input": false,
  "kernelspec": {
   "display_name": "Python 3",
   "language": "python",
   "name": "python3"
  },
  "language_info": {
   "codemirror_mode": {
    "name": "ipython",
    "version": 3
   },
   "file_extension": ".py",
   "mimetype": "text/x-python",
   "name": "python",
   "nbconvert_exporter": "python",
   "pygments_lexer": "ipython3",
   "version": "3.7.3"
  },
  "toc": {
   "base_numbering": 1,
   "nav_menu": {},
   "number_sections": true,
   "sideBar": true,
   "skip_h1_title": false,
   "title_cell": "Table of Contents",
   "title_sidebar": "Contents",
   "toc_cell": false,
   "toc_position": {},
   "toc_section_display": true,
   "toc_window_display": false
  },
  "varInspector": {
   "cols": {
    "lenName": 16,
    "lenType": 16,
    "lenVar": 40
   },
   "kernels_config": {
    "python": {
     "delete_cmd_postfix": "",
     "delete_cmd_prefix": "del ",
     "library": "var_list.py",
     "varRefreshCmd": "print(var_dic_list())"
    },
    "r": {
     "delete_cmd_postfix": ") ",
     "delete_cmd_prefix": "rm(",
     "library": "var_list.r",
     "varRefreshCmd": "cat(var_dic_list()) "
    }
   },
   "types_to_exclude": [
    "module",
    "function",
    "builtin_function_or_method",
    "instance",
    "_Feature"
   ],
   "window_display": false
  }
 },
 "nbformat": 4,
 "nbformat_minor": 2
}
