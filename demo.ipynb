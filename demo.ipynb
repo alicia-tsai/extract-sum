{
 "cells": [
  {
   "cell_type": "code",
   "execution_count": 2,
   "metadata": {},
   "outputs": [],
   "source": [
    "import numpy as np\n",
    "import pandas as pd\n",
    "import utils\n",
    "from main import extract_summary\n",
    "\n",
    "%load_ext autoreload\n",
    "%autoreload 2"
   ]
  },
  {
   "cell_type": "markdown",
   "metadata": {},
   "source": [
    "### Citi Bank 2019 Investment Outlook"
   ]
  },
  {
   "cell_type": "code",
   "execution_count": 20,
   "metadata": {},
   "outputs": [
    {
     "data": {
      "text/html": [
       "<div>\n",
       "<style scoped>\n",
       "    .dataframe tbody tr th:only-of-type {\n",
       "        vertical-align: middle;\n",
       "    }\n",
       "\n",
       "    .dataframe tbody tr th {\n",
       "        vertical-align: top;\n",
       "    }\n",
       "\n",
       "    .dataframe thead th {\n",
       "        text-align: right;\n",
       "    }\n",
       "</style>\n",
       "<table border=\"1\" class=\"dataframe\">\n",
       "  <thead>\n",
       "    <tr style=\"text-align: right;\">\n",
       "      <th></th>\n",
       "      <th>reference</th>\n",
       "      <th>title</th>\n",
       "      <th>text</th>\n",
       "    </tr>\n",
       "  </thead>\n",
       "  <tbody>\n",
       "    <tr>\n",
       "      <th>0</th>\n",
       "      <td>What should I do with my portfolio for 2019? A...</td>\n",
       "      <td>How to invest in 2019</td>\n",
       "      <td>We believe the answer lies in reconciling two ...</td>\n",
       "    </tr>\n",
       "    <tr>\n",
       "      <th>1</th>\n",
       "      <td>In today’s late-cycle US monetary tightening p...</td>\n",
       "      <td>Building stronger portfolios for turbulent times</td>\n",
       "      <td>Global investors have routinely doubted the du...</td>\n",
       "    </tr>\n",
       "    <tr>\n",
       "      <th>2</th>\n",
       "      <td>We do not expect the next US recession and glo...</td>\n",
       "      <td>2020: What to expect when you are expecting re...</td>\n",
       "      <td>We do not expect the next US recession and glo...</td>\n",
       "    </tr>\n",
       "    <tr>\n",
       "      <th>3</th>\n",
       "      <td>In September 2018, the US successfully conclud...</td>\n",
       "      <td>Will the trade war open or close markets?</td>\n",
       "      <td>In September 2018, the US successfully conclud...</td>\n",
       "    </tr>\n",
       "    <tr>\n",
       "      <th>4</th>\n",
       "      <td>The trade war came as a shock to markets in 20...</td>\n",
       "      <td>The expected and unexpected events of 2018</td>\n",
       "      <td>The trade war came as a shock to markets in 20...</td>\n",
       "    </tr>\n",
       "  </tbody>\n",
       "</table>\n",
       "</div>"
      ],
      "text/plain": [
       "                                           reference  \\\n",
       "0  What should I do with my portfolio for 2019? A...   \n",
       "1  In today’s late-cycle US monetary tightening p...   \n",
       "2  We do not expect the next US recession and glo...   \n",
       "3  In September 2018, the US successfully conclud...   \n",
       "4  The trade war came as a shock to markets in 20...   \n",
       "\n",
       "                                               title  \\\n",
       "0                              How to invest in 2019   \n",
       "1   Building stronger portfolios for turbulent times   \n",
       "2  2020: What to expect when you are expecting re...   \n",
       "3          Will the trade war open or close markets?   \n",
       "4         The expected and unexpected events of 2018   \n",
       "\n",
       "                                                text  \n",
       "0  We believe the answer lies in reconciling two ...  \n",
       "1  Global investors have routinely doubted the du...  \n",
       "2  We do not expect the next US recession and glo...  \n",
       "3  In September 2018, the US successfully conclud...  \n",
       "4  The trade war came as a shock to markets in 20...  "
      ]
     },
     "execution_count": 20,
     "metadata": {},
     "output_type": "execute_result"
    }
   ],
   "source": [
    "citi = pd.read_csv('data/2019-outlooks/citi.csv')\n",
    "citi_title, citi_ref, citi_text = utils.get_outlook_data()\n",
    "citi.head()"
   ]
  },
  {
   "cell_type": "code",
   "execution_count": 21,
   "metadata": {},
   "outputs": [],
   "source": [
    "doc_idx = 1\n",
    "doc = citi_text[doc_idx]\n",
    "ref = citi_ref[doc_idx]\n",
    "title = citi_title[doc_idx]"
   ]
  },
  {
   "cell_type": "code",
   "execution_count": 22,
   "metadata": {},
   "outputs": [
    {
     "name": "stdout",
     "output_type": "stream",
     "text": [
      "# sentence: 72, # vocab: 602\n",
      "# of selected exemplar: 5\n",
      "\n",
      "Title: Building stronger portfolios for turbulent times\n",
      "\n",
      "=============== Referecne Text ==============\n",
      "In today's late-cycle US monetary tightening phase, we recommend a variety of actions to prepare portfolios for the coming year and beyond. Staying positive, but building up our defenses. Regular portfolio rebalancing is essential for 2019 and beyond. What central bank policy tightening means for portfolios. A second headwind. Buying value is better than chasing momentum. Managing late-cycle risks. A time to hedge. It is the right time to take portfolio actions.\n",
      "\n",
      "========== Extracted summary: baseline ==========\n",
      "Given these facts and assuming we avoid negative shocks to the global economy, it is possible that the us 10-year treasury yield could rise to as high as 3.75% in 2019.outlook 2019citi private bankbuying value is better than chasing momentumwith the us at a later stage of its economic cycle than the rest of the world, us earnings per share (eps) are 55% above their 2007 peak. We also see the outlook for asset prices as positive, with the potential for ongoing modest returns in global equities and fixed income by the end of 2019 - figures 2 and 3. We do not recommend that investors attempt to time markets in their core portfolios. The cost of hedging against a cyclical bear market - a temporary drawdown of 20% or more in us equities - is priced at 63%1 lower for the next two years than it was during the first two years of the present economic recovery. We believe you should do so now.\n",
      "Baseline computation time: 0.005\n",
      "\n",
      "====== Extracted summary: sentence embeddings ======\n",
      "Sentence embedding shape: (72, 25)\n",
      "Many investors never believed the fed would get this far. As the economy strengthens, corporate profits rise, markets rally, and the fed tightens in response to this strength. Equity valuations were half their current level. It is the right time to take portfolio actions...hedging is just one of our recommended actions as we enter 2019. We believe you should do so now.\n",
      "Sentence embedding computation time: 0.001\n",
      "\n",
      "=============== ROUGE Scores ===============\n",
      "Baseline:\n",
      "Overlap 1-gram \t\t\tF1: 0.199\n",
      "Overlap 1-gram \t\t\tPrecision: 0.148\n",
      "Overlap 1-gram \t\t\tRecall: 0.304\n",
      "Overlap bi-gram \t\tF1: 0.043\n",
      "Overlap bi-gram \t\tPrecision: 0.031\n",
      "Overlap bi-gram \t\tRecall: 0.072\n",
      "Longest Common Subsequence \tF1: 0.154\n",
      "Longest Common Subsequence \tPrecision: 0.139\n",
      "Longest Common Subsequence \tRecall: 0.286\n",
      "\n",
      "Sentence embeddings:\n",
      "Overlap 1-gram \t\t\tF1: 0.252\n",
      "Overlap 1-gram \t\t\tPrecision: 0.255\n",
      "Overlap 1-gram \t\t\tRecall: 0.250\n",
      "Overlap bi-gram \t\tF1: 0.123\n",
      "Overlap bi-gram \t\tPrecision: 0.131\n",
      "Overlap bi-gram \t\tRecall: 0.116\n",
      "Longest Common Subsequence \tF1: 0.234\n",
      "Longest Common Subsequence \tPrecision: 0.236\n",
      "Longest Common Subsequence \tRecall: 0.232\n"
     ]
    }
   ],
   "source": [
    "k=5\n",
    "extract_summary(doc, ref, title, k=k)"
   ]
  },
  {
   "cell_type": "markdown",
   "metadata": {},
   "source": [
    "### Bible"
   ]
  },
  {
   "cell_type": "code",
   "execution_count": 15,
   "metadata": {},
   "outputs": [],
   "source": [
    "bible = utils.get_bible_data()"
   ]
  },
  {
   "cell_type": "code",
   "execution_count": 25,
   "metadata": {
    "scrolled": true
   },
   "outputs": [],
   "source": [
    "chapter = 'Ex'\n",
    "doc = ' '.join(bible[chapter])"
   ]
  },
  {
   "cell_type": "code",
   "execution_count": 26,
   "metadata": {},
   "outputs": [
    {
     "name": "stdout",
     "output_type": "stream",
     "text": [
      "# sentence: 1109, # vocab: 2017\n",
      "# of selected exemplar: 5\n",
      "\n",
      "Title: Ex\n",
      "\n",
      "\n",
      "========== Extracted summary: baseline ==========\n",
      "And they brought the tabernacle unto moses, the tent, and all his furniture, his taches, his boards, his bars, and his pillars, and his sockets, and the covering of rams� skins dyed red, and the covering of badgers� skins, and the vail of the covering, the ark of the testimony, and the staves thereof, and the mercy seat, the table, [and] all the vessels thereof, and the shewbread, the pure candlestick, [with] the lamps thereof, [even with] the lamps to be set in order, and all the vessels thereof, and the oil for light, and the golden altar, and the anointing oil, and the sweet incense, and the hanging for the tabernacle door, the brasen altar, and his grate of brass, his staves, and all his vessels, the laver and his foot, the hangings of the court, his pillars, and his sockets, and the hanging for the court gate, his cords, and his pins, and all the vessels of the service of the tabernacle, for the tent of the congregation, the cloths of service to do service in the holy [place], and the holy garments for aaron the priest, and his sons� garments, to minister in the priest�s office. And it came to pass on the day [when] the lord spake unto moses in the land of egypt, that the lord spake unto moses, saying, i [am] the lord: speak thou unto pharaoh king of egypt all that i say unto thee. And thou shalt make the breastplate of judgment with cunning work; after the work of the ephod thou shalt make it; [of] gold, [of] blue, and [of] purple, and [of] scarlet, and [of] fine twined linen, shalt thou make it. And moses and aaron said unto all the children of israel, at even, then ye shall know that the lord hath brought you out from the land of egypt: and in the morning, then ye shall see the glory of the lord; for that he heareth your murmurings against the lord: and what [are] we, that ye murmur against us. And the lord said unto moses, depart, [and] go up hence, thou and the people which thou hast brought up out of the land of egypt, unto the land which i sware unto abraham, to isaac, and to jacob, saying, unto thy seed will i give it: and i will send an angel before thee; and i will drive out the canaanite, the amorite, and the hittite, and the perizzite, the hivite, and the jebusite: unto a land flowing with milk and honey: for i will not go up in the midst of thee; for thou [art] a stiffnecked people: lest i consume thee in the way\n",
      "Baseline computation time: 3.683\n",
      "\n",
      "====== Extracted summary: sentence embeddings ======\n",
      "Sentence embedding shape: (1109, 25)\n",
      "here? ALERT: less than num_exemp were selected: 2\n",
      "Reuben, simeon, levi, and judah, issachar, zebulun, and benjamin, dan, and naphtali, gad, and asher. Have not i the lord\n",
      "Sentence embedding computation time: 128.168\n"
     ]
    }
   ],
   "source": [
    "k=5\n",
    "extract_summary(doc, title=chapter, k=k)"
   ]
  },
  {
   "cell_type": "code",
   "execution_count": null,
   "metadata": {},
   "outputs": [],
   "source": []
  }
 ],
 "metadata": {
  "hide_input": false,
  "kernelspec": {
   "display_name": "Python 2",
   "language": "python",
   "name": "python2"
  },
  "language_info": {
   "codemirror_mode": {
    "name": "ipython",
    "version": 2
   },
   "file_extension": ".py",
   "mimetype": "text/x-python",
   "name": "python",
   "nbconvert_exporter": "python",
   "pygments_lexer": "ipython2",
   "version": "2.7.15"
  },
  "toc": {
   "base_numbering": 1,
   "nav_menu": {},
   "number_sections": true,
   "sideBar": true,
   "skip_h1_title": false,
   "title_cell": "Table of Contents",
   "title_sidebar": "Contents",
   "toc_cell": false,
   "toc_position": {},
   "toc_section_display": true,
   "toc_window_display": false
  },
  "varInspector": {
   "cols": {
    "lenName": 16,
    "lenType": 16,
    "lenVar": 40
   },
   "kernels_config": {
    "python": {
     "delete_cmd_postfix": "",
     "delete_cmd_prefix": "del ",
     "library": "var_list.py",
     "varRefreshCmd": "print(var_dic_list())"
    },
    "r": {
     "delete_cmd_postfix": ") ",
     "delete_cmd_prefix": "rm(",
     "library": "var_list.r",
     "varRefreshCmd": "cat(var_dic_list()) "
    }
   },
   "types_to_exclude": [
    "module",
    "function",
    "builtin_function_or_method",
    "instance",
    "_Feature"
   ],
   "window_display": false
  }
 },
 "nbformat": 4,
 "nbformat_minor": 2
}
